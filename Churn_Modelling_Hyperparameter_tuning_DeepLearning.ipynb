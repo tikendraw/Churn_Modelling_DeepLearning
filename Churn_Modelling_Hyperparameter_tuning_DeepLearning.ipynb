{
 "cells": [
  {
   "cell_type": "markdown",
   "id": "65a03ace",
   "metadata": {},
   "source": [
    "# HyperParameter Tuning in DEEP LEARNING Model"
   ]
  },
  {
   "cell_type": "code",
   "execution_count": null,
   "id": "383af1c2",
   "metadata": {},
   "outputs": [],
   "source": []
  }
 ],
 "metadata": {
  "kernelspec": {
   "display_name": "tf",
   "language": "python",
   "name": "tf"
  },
  "language_info": {
   "codemirror_mode": {
    "name": "ipython",
    "version": 3
   },
   "file_extension": ".py",
   "mimetype": "text/x-python",
   "name": "python",
   "nbconvert_exporter": "python",
   "pygments_lexer": "ipython3",
   "version": "3.9.12"
  }
 },
 "nbformat": 4,
 "nbformat_minor": 5
}
