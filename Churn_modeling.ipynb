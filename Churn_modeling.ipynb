{
 "cells": [
  {
   "cell_type": "code",
   "execution_count": 92,
   "id": "0668d051",
   "metadata": {},
   "outputs": [
    {
     "name": "stdout",
     "output_type": "stream",
     "text": [
      "mkdir: cannot create directory ‘saved_model’: File exists\n",
      "mkdir: cannot create directory ‘saved_components’: File exists\n"
     ]
    }
   ],
   "source": [
    "import numpy as np\n",
    "import pandas as pd\n",
    "import os, shutil\n",
    "import matplotlib.pyplot as plt\n",
    "import seaborn as sns\n",
    "import joblib\n",
    "from sklearn.preprocessing import MinMaxScaler, OneHotEncoder\n",
    "from sklearn.pipeline import FeatureUnion\n",
    "from sklearn.compose import ColumnTransformer\n",
    "\n",
    "try:\n",
    "    !mkdir saved_model\n",
    "    !mkdir saved_components\n",
    "except Exception as e:\n",
    "    print(e)"
   ]
  },
  {
   "cell_type": "code",
   "execution_count": 93,
   "id": "b4a230f3",
   "metadata": {},
   "outputs": [
    {
     "data": {
      "text/plain": [
       "(['Churn_modeling.ipynb',\n",
       "  'app.py',\n",
       "  '.git',\n",
       "  '__pycache__',\n",
       "  'Preprocessed_churn_dataset.csv',\n",
       "  '.gitignore',\n",
       "  'Saved_components',\n",
       "  'Churn_Modelling_Hyperparameter_tuning_DeepLearning.ipynb',\n",
       "  '.ipynb_checkpoints',\n",
       "  'README.md',\n",
       "  'test.py',\n",
       "  '=4.2.0',\n",
       "  'saved_components',\n",
       "  'saved_model',\n",
       "  'Static',\n",
       "  'Preprocess.py',\n",
       "  'churn_dataset'],\n",
       " ['Churn_Modelling.csv'])"
      ]
     },
     "execution_count": 93,
     "metadata": {},
     "output_type": "execute_result"
    }
   ],
   "source": [
    "os.listdir(), os.listdir('churn_dataset/')"
   ]
  },
  {
   "cell_type": "code",
   "execution_count": 94,
   "id": "b4dd26bb",
   "metadata": {},
   "outputs": [],
   "source": [
    "data = pd.read_csv('./churn_dataset/Churn_Modelling.csv')"
   ]
  },
  {
   "cell_type": "code",
   "execution_count": 95,
   "id": "9068e2ce",
   "metadata": {},
   "outputs": [
    {
     "data": {
      "text/html": [
       "<div>\n",
       "<style scoped>\n",
       "    .dataframe tbody tr th:only-of-type {\n",
       "        vertical-align: middle;\n",
       "    }\n",
       "\n",
       "    .dataframe tbody tr th {\n",
       "        vertical-align: top;\n",
       "    }\n",
       "\n",
       "    .dataframe thead th {\n",
       "        text-align: right;\n",
       "    }\n",
       "</style>\n",
       "<table border=\"1\" class=\"dataframe\">\n",
       "  <thead>\n",
       "    <tr style=\"text-align: right;\">\n",
       "      <th></th>\n",
       "      <th>RowNumber</th>\n",
       "      <th>CustomerId</th>\n",
       "      <th>Surname</th>\n",
       "      <th>CreditScore</th>\n",
       "      <th>Geography</th>\n",
       "      <th>Gender</th>\n",
       "      <th>Age</th>\n",
       "      <th>Tenure</th>\n",
       "      <th>Balance</th>\n",
       "      <th>NumOfProducts</th>\n",
       "      <th>HasCrCard</th>\n",
       "      <th>IsActiveMember</th>\n",
       "      <th>EstimatedSalary</th>\n",
       "      <th>Exited</th>\n",
       "    </tr>\n",
       "  </thead>\n",
       "  <tbody>\n",
       "    <tr>\n",
       "      <th>1427</th>\n",
       "      <td>1428</td>\n",
       "      <td>15799966</td>\n",
       "      <td>Chigolum</td>\n",
       "      <td>792</td>\n",
       "      <td>Germany</td>\n",
       "      <td>Female</td>\n",
       "      <td>59</td>\n",
       "      <td>9</td>\n",
       "      <td>101609.77</td>\n",
       "      <td>1</td>\n",
       "      <td>0</td>\n",
       "      <td>0</td>\n",
       "      <td>161479.19</td>\n",
       "      <td>1</td>\n",
       "    </tr>\n",
       "    <tr>\n",
       "      <th>8237</th>\n",
       "      <td>8238</td>\n",
       "      <td>15737275</td>\n",
       "      <td>Conti</td>\n",
       "      <td>649</td>\n",
       "      <td>France</td>\n",
       "      <td>Male</td>\n",
       "      <td>39</td>\n",
       "      <td>3</td>\n",
       "      <td>113096.41</td>\n",
       "      <td>1</td>\n",
       "      <td>1</td>\n",
       "      <td>1</td>\n",
       "      <td>60335.24</td>\n",
       "      <td>0</td>\n",
       "    </tr>\n",
       "    <tr>\n",
       "      <th>7483</th>\n",
       "      <td>7484</td>\n",
       "      <td>15784526</td>\n",
       "      <td>Chen</td>\n",
       "      <td>616</td>\n",
       "      <td>France</td>\n",
       "      <td>Male</td>\n",
       "      <td>44</td>\n",
       "      <td>5</td>\n",
       "      <td>102016.38</td>\n",
       "      <td>1</td>\n",
       "      <td>0</td>\n",
       "      <td>1</td>\n",
       "      <td>178235.37</td>\n",
       "      <td>1</td>\n",
       "    </tr>\n",
       "    <tr>\n",
       "      <th>3955</th>\n",
       "      <td>3956</td>\n",
       "      <td>15695168</td>\n",
       "      <td>Bruce</td>\n",
       "      <td>625</td>\n",
       "      <td>France</td>\n",
       "      <td>Male</td>\n",
       "      <td>39</td>\n",
       "      <td>2</td>\n",
       "      <td>0.00</td>\n",
       "      <td>2</td>\n",
       "      <td>1</td>\n",
       "      <td>0</td>\n",
       "      <td>100403.05</td>\n",
       "      <td>0</td>\n",
       "    </tr>\n",
       "    <tr>\n",
       "      <th>2108</th>\n",
       "      <td>2109</td>\n",
       "      <td>15634949</td>\n",
       "      <td>Hay</td>\n",
       "      <td>593</td>\n",
       "      <td>Germany</td>\n",
       "      <td>Male</td>\n",
       "      <td>74</td>\n",
       "      <td>5</td>\n",
       "      <td>161434.36</td>\n",
       "      <td>2</td>\n",
       "      <td>1</td>\n",
       "      <td>1</td>\n",
       "      <td>65532.17</td>\n",
       "      <td>0</td>\n",
       "    </tr>\n",
       "  </tbody>\n",
       "</table>\n",
       "</div>"
      ],
      "text/plain": [
       "      RowNumber  CustomerId   Surname  CreditScore Geography  Gender  Age  \\\n",
       "1427       1428    15799966  Chigolum          792   Germany  Female   59   \n",
       "8237       8238    15737275     Conti          649    France    Male   39   \n",
       "7483       7484    15784526      Chen          616    France    Male   44   \n",
       "3955       3956    15695168     Bruce          625    France    Male   39   \n",
       "2108       2109    15634949       Hay          593   Germany    Male   74   \n",
       "\n",
       "      Tenure    Balance  NumOfProducts  HasCrCard  IsActiveMember  \\\n",
       "1427       9  101609.77              1          0               0   \n",
       "8237       3  113096.41              1          1               1   \n",
       "7483       5  102016.38              1          0               1   \n",
       "3955       2       0.00              2          1               0   \n",
       "2108       5  161434.36              2          1               1   \n",
       "\n",
       "      EstimatedSalary  Exited  \n",
       "1427        161479.19       1  \n",
       "8237         60335.24       0  \n",
       "7483        178235.37       1  \n",
       "3955        100403.05       0  \n",
       "2108         65532.17       0  "
      ]
     },
     "execution_count": 95,
     "metadata": {},
     "output_type": "execute_result"
    }
   ],
   "source": [
    "data.sample(5)"
   ]
  },
  {
   "cell_type": "code",
   "execution_count": 96,
   "id": "279f99a6",
   "metadata": {},
   "outputs": [
    {
     "data": {
      "text/plain": [
       "(10000, 14)"
      ]
     },
     "execution_count": 96,
     "metadata": {},
     "output_type": "execute_result"
    }
   ],
   "source": [
    "data.shape"
   ]
  },
  {
   "cell_type": "code",
   "execution_count": 97,
   "id": "132abb57",
   "metadata": {},
   "outputs": [
    {
     "name": "stdout",
     "output_type": "stream",
     "text": [
      "<class 'pandas.core.frame.DataFrame'>\n",
      "RangeIndex: 10000 entries, 0 to 9999\n",
      "Data columns (total 14 columns):\n",
      " #   Column           Non-Null Count  Dtype  \n",
      "---  ------           --------------  -----  \n",
      " 0   RowNumber        10000 non-null  int64  \n",
      " 1   CustomerId       10000 non-null  int64  \n",
      " 2   Surname          10000 non-null  object \n",
      " 3   CreditScore      10000 non-null  int64  \n",
      " 4   Geography        10000 non-null  object \n",
      " 5   Gender           10000 non-null  object \n",
      " 6   Age              10000 non-null  int64  \n",
      " 7   Tenure           10000 non-null  int64  \n",
      " 8   Balance          10000 non-null  float64\n",
      " 9   NumOfProducts    10000 non-null  int64  \n",
      " 10  HasCrCard        10000 non-null  int64  \n",
      " 11  IsActiveMember   10000 non-null  int64  \n",
      " 12  EstimatedSalary  10000 non-null  float64\n",
      " 13  Exited           10000 non-null  int64  \n",
      "dtypes: float64(2), int64(9), object(3)\n",
      "memory usage: 1.1+ MB\n"
     ]
    }
   ],
   "source": [
    "data.info()"
   ]
  },
  {
   "cell_type": "code",
   "execution_count": 98,
   "id": "c2c076c3",
   "metadata": {
    "scrolled": true
   },
   "outputs": [
    {
     "data": {
      "text/html": [
       "<div>\n",
       "<style scoped>\n",
       "    .dataframe tbody tr th:only-of-type {\n",
       "        vertical-align: middle;\n",
       "    }\n",
       "\n",
       "    .dataframe tbody tr th {\n",
       "        vertical-align: top;\n",
       "    }\n",
       "\n",
       "    .dataframe thead th {\n",
       "        text-align: right;\n",
       "    }\n",
       "</style>\n",
       "<table border=\"1\" class=\"dataframe\">\n",
       "  <thead>\n",
       "    <tr style=\"text-align: right;\">\n",
       "      <th></th>\n",
       "      <th>count</th>\n",
       "      <th>mean</th>\n",
       "      <th>std</th>\n",
       "      <th>min</th>\n",
       "      <th>25%</th>\n",
       "      <th>50%</th>\n",
       "      <th>75%</th>\n",
       "      <th>max</th>\n",
       "    </tr>\n",
       "  </thead>\n",
       "  <tbody>\n",
       "    <tr>\n",
       "      <th>RowNumber</th>\n",
       "      <td>10000.0</td>\n",
       "      <td>5.000500e+03</td>\n",
       "      <td>2886.895680</td>\n",
       "      <td>1.00</td>\n",
       "      <td>2500.75</td>\n",
       "      <td>5.000500e+03</td>\n",
       "      <td>7.500250e+03</td>\n",
       "      <td>10000.00</td>\n",
       "    </tr>\n",
       "    <tr>\n",
       "      <th>CustomerId</th>\n",
       "      <td>10000.0</td>\n",
       "      <td>1.569094e+07</td>\n",
       "      <td>71936.186123</td>\n",
       "      <td>15565701.00</td>\n",
       "      <td>15628528.25</td>\n",
       "      <td>1.569074e+07</td>\n",
       "      <td>1.575323e+07</td>\n",
       "      <td>15815690.00</td>\n",
       "    </tr>\n",
       "    <tr>\n",
       "      <th>CreditScore</th>\n",
       "      <td>10000.0</td>\n",
       "      <td>6.505288e+02</td>\n",
       "      <td>96.653299</td>\n",
       "      <td>350.00</td>\n",
       "      <td>584.00</td>\n",
       "      <td>6.520000e+02</td>\n",
       "      <td>7.180000e+02</td>\n",
       "      <td>850.00</td>\n",
       "    </tr>\n",
       "    <tr>\n",
       "      <th>Age</th>\n",
       "      <td>10000.0</td>\n",
       "      <td>3.892180e+01</td>\n",
       "      <td>10.487806</td>\n",
       "      <td>18.00</td>\n",
       "      <td>32.00</td>\n",
       "      <td>3.700000e+01</td>\n",
       "      <td>4.400000e+01</td>\n",
       "      <td>92.00</td>\n",
       "    </tr>\n",
       "    <tr>\n",
       "      <th>Tenure</th>\n",
       "      <td>10000.0</td>\n",
       "      <td>5.012800e+00</td>\n",
       "      <td>2.892174</td>\n",
       "      <td>0.00</td>\n",
       "      <td>3.00</td>\n",
       "      <td>5.000000e+00</td>\n",
       "      <td>7.000000e+00</td>\n",
       "      <td>10.00</td>\n",
       "    </tr>\n",
       "    <tr>\n",
       "      <th>Balance</th>\n",
       "      <td>10000.0</td>\n",
       "      <td>7.648589e+04</td>\n",
       "      <td>62397.405202</td>\n",
       "      <td>0.00</td>\n",
       "      <td>0.00</td>\n",
       "      <td>9.719854e+04</td>\n",
       "      <td>1.276442e+05</td>\n",
       "      <td>250898.09</td>\n",
       "    </tr>\n",
       "    <tr>\n",
       "      <th>NumOfProducts</th>\n",
       "      <td>10000.0</td>\n",
       "      <td>1.530200e+00</td>\n",
       "      <td>0.581654</td>\n",
       "      <td>1.00</td>\n",
       "      <td>1.00</td>\n",
       "      <td>1.000000e+00</td>\n",
       "      <td>2.000000e+00</td>\n",
       "      <td>4.00</td>\n",
       "    </tr>\n",
       "    <tr>\n",
       "      <th>HasCrCard</th>\n",
       "      <td>10000.0</td>\n",
       "      <td>7.055000e-01</td>\n",
       "      <td>0.455840</td>\n",
       "      <td>0.00</td>\n",
       "      <td>0.00</td>\n",
       "      <td>1.000000e+00</td>\n",
       "      <td>1.000000e+00</td>\n",
       "      <td>1.00</td>\n",
       "    </tr>\n",
       "    <tr>\n",
       "      <th>IsActiveMember</th>\n",
       "      <td>10000.0</td>\n",
       "      <td>5.151000e-01</td>\n",
       "      <td>0.499797</td>\n",
       "      <td>0.00</td>\n",
       "      <td>0.00</td>\n",
       "      <td>1.000000e+00</td>\n",
       "      <td>1.000000e+00</td>\n",
       "      <td>1.00</td>\n",
       "    </tr>\n",
       "    <tr>\n",
       "      <th>EstimatedSalary</th>\n",
       "      <td>10000.0</td>\n",
       "      <td>1.000902e+05</td>\n",
       "      <td>57510.492818</td>\n",
       "      <td>11.58</td>\n",
       "      <td>51002.11</td>\n",
       "      <td>1.001939e+05</td>\n",
       "      <td>1.493882e+05</td>\n",
       "      <td>199992.48</td>\n",
       "    </tr>\n",
       "    <tr>\n",
       "      <th>Exited</th>\n",
       "      <td>10000.0</td>\n",
       "      <td>2.037000e-01</td>\n",
       "      <td>0.402769</td>\n",
       "      <td>0.00</td>\n",
       "      <td>0.00</td>\n",
       "      <td>0.000000e+00</td>\n",
       "      <td>0.000000e+00</td>\n",
       "      <td>1.00</td>\n",
       "    </tr>\n",
       "  </tbody>\n",
       "</table>\n",
       "</div>"
      ],
      "text/plain": [
       "                   count          mean           std          min  \\\n",
       "RowNumber        10000.0  5.000500e+03   2886.895680         1.00   \n",
       "CustomerId       10000.0  1.569094e+07  71936.186123  15565701.00   \n",
       "CreditScore      10000.0  6.505288e+02     96.653299       350.00   \n",
       "Age              10000.0  3.892180e+01     10.487806        18.00   \n",
       "Tenure           10000.0  5.012800e+00      2.892174         0.00   \n",
       "Balance          10000.0  7.648589e+04  62397.405202         0.00   \n",
       "NumOfProducts    10000.0  1.530200e+00      0.581654         1.00   \n",
       "HasCrCard        10000.0  7.055000e-01      0.455840         0.00   \n",
       "IsActiveMember   10000.0  5.151000e-01      0.499797         0.00   \n",
       "EstimatedSalary  10000.0  1.000902e+05  57510.492818        11.58   \n",
       "Exited           10000.0  2.037000e-01      0.402769         0.00   \n",
       "\n",
       "                         25%           50%           75%          max  \n",
       "RowNumber            2500.75  5.000500e+03  7.500250e+03     10000.00  \n",
       "CustomerId       15628528.25  1.569074e+07  1.575323e+07  15815690.00  \n",
       "CreditScore           584.00  6.520000e+02  7.180000e+02       850.00  \n",
       "Age                    32.00  3.700000e+01  4.400000e+01        92.00  \n",
       "Tenure                  3.00  5.000000e+00  7.000000e+00        10.00  \n",
       "Balance                 0.00  9.719854e+04  1.276442e+05    250898.09  \n",
       "NumOfProducts           1.00  1.000000e+00  2.000000e+00         4.00  \n",
       "HasCrCard               0.00  1.000000e+00  1.000000e+00         1.00  \n",
       "IsActiveMember          0.00  1.000000e+00  1.000000e+00         1.00  \n",
       "EstimatedSalary     51002.11  1.001939e+05  1.493882e+05    199992.48  \n",
       "Exited                  0.00  0.000000e+00  0.000000e+00         1.00  "
      ]
     },
     "execution_count": 98,
     "metadata": {},
     "output_type": "execute_result"
    }
   ],
   "source": [
    "data.describe().T"
   ]
  },
  {
   "cell_type": "code",
   "execution_count": 99,
   "id": "2a0d7695",
   "metadata": {},
   "outputs": [
    {
     "data": {
      "text/plain": [
       "array(['France', 'Spain', 'Germany'], dtype=object)"
      ]
     },
     "execution_count": 99,
     "metadata": {},
     "output_type": "execute_result"
    }
   ],
   "source": [
    "data.Geography.unique()"
   ]
  },
  {
   "cell_type": "code",
   "execution_count": 107,
   "id": "08442273",
   "metadata": {},
   "outputs": [],
   "source": [
    "# Surname, Rownumber and CustomerID does not have to do anything with response\n",
    "X = data.drop(['Surname','RowNumber','CustomerId','Exited'],axis = 1)\n",
    "y = data.Exited"
   ]
  },
  {
   "cell_type": "code",
   "execution_count": 108,
   "id": "853c0a61",
   "metadata": {},
   "outputs": [],
   "source": [
    "# setting categorical and numerical columns\n",
    "cat_cols = X.select_dtypes('object').columns\n",
    "num_cols = X.select_dtypes('number').columns"
   ]
  },
  {
   "cell_type": "code",
   "execution_count": 109,
   "id": "32c16ed2",
   "metadata": {},
   "outputs": [
    {
     "data": {
      "text/plain": [
       "(Index(['Geography', 'Gender'], dtype='object'),\n",
       " Index(['CreditScore', 'Age', 'Tenure', 'Balance', 'NumOfProducts', 'HasCrCard',\n",
       "        'IsActiveMember', 'EstimatedSalary'],\n",
       "       dtype='object'))"
      ]
     },
     "execution_count": 109,
     "metadata": {},
     "output_type": "execute_result"
    }
   ],
   "source": [
    "cat_cols, num_cols"
   ]
  },
  {
   "cell_type": "markdown",
   "id": "5d8c1237",
   "metadata": {},
   "source": [
    "## Column Transformer"
   ]
  },
  {
   "cell_type": "code",
   "execution_count": 110,
   "id": "cc9bbdce",
   "metadata": {},
   "outputs": [],
   "source": [
    "# Encoding categorical values\n",
    "X = data.drop(['Surname','RowNumber','CustomerId','Exited'],axis = 1)\n",
    "y = data.Exited\n",
    "ohe = OneHotEncoder(sparse=False)\n",
    "scaler = MinMaxScaler()"
   ]
  },
  {
   "cell_type": "code",
   "execution_count": 111,
   "id": "631a640e",
   "metadata": {},
   "outputs": [],
   "source": [
    "coltrans = ColumnTransformer([('scaler', scaler, num_cols),\n",
    "                             ('ohencoder', ohe, cat_cols)],remainder= 'passthrough'\n",
    "                            )"
   ]
  },
  {
   "cell_type": "code",
   "execution_count": 112,
   "id": "1d6a31ea",
   "metadata": {},
   "outputs": [],
   "source": [
    "feature_space = coltrans.fit_transform(X)"
   ]
  },
  {
   "cell_type": "code",
   "execution_count": 113,
   "id": "f900820c",
   "metadata": {},
   "outputs": [
    {
     "data": {
      "text/plain": [
       "(10000, 13)"
      ]
     },
     "execution_count": 113,
     "metadata": {},
     "output_type": "execute_result"
    }
   ],
   "source": [
    "feature_space.shape"
   ]
  },
  {
   "cell_type": "code",
   "execution_count": 116,
   "id": "504dd461",
   "metadata": {},
   "outputs": [
    {
     "data": {
      "text/plain": [
       "0       1\n",
       "1       0\n",
       "2       1\n",
       "3       0\n",
       "4       0\n",
       "       ..\n",
       "9995    0\n",
       "9996    0\n",
       "9997    1\n",
       "9998    1\n",
       "9999    0\n",
       "Name: Exited, Length: 10000, dtype: int64"
      ]
     },
     "execution_count": 116,
     "metadata": {},
     "output_type": "execute_result"
    }
   ],
   "source": [
    "y"
   ]
  },
  {
   "cell_type": "code",
   "execution_count": 253,
   "id": "f2ee53ec",
   "metadata": {},
   "outputs": [
    {
     "name": "stdout",
     "output_type": "stream",
     "text": [
      "<class 'pandas.core.frame.DataFrame'>\n",
      "RangeIndex: 10000 entries, 0 to 9999\n",
      "Data columns (total 14 columns):\n",
      " #   Column           Non-Null Count  Dtype  \n",
      "---  ------           --------------  -----  \n",
      " 0   CreditScore      10000 non-null  float32\n",
      " 1   Age              10000 non-null  float32\n",
      " 2   Tenure           10000 non-null  float32\n",
      " 3   Balance          10000 non-null  float32\n",
      " 4   NumOfProducts    10000 non-null  float32\n",
      " 5   HasCrCard        10000 non-null  int16  \n",
      " 6   IsActiveMember   10000 non-null  int16  \n",
      " 7   EstimatedSalary  10000 non-null  float32\n",
      " 8   1                10000 non-null  int16  \n",
      " 9   2                10000 non-null  int16  \n",
      " 10  3                10000 non-null  int16  \n",
      " 11  a                10000 non-null  int16  \n",
      " 12  b                10000 non-null  int16  \n",
      " 13  exited           10000 non-null  int16  \n",
      "dtypes: float32(6), int16(8)\n",
      "memory usage: 390.8 KB\n"
     ]
    }
   ],
   "source": [
    "# Converting to PD dataframe\n",
    "names = ['CreditScore', 'Age', 'Tenure', 'Balance', 'NumOfProducts', 'HasCrCard','IsActiveMember', 'EstimatedSalary',1,2,3,'a','b']\n",
    "df = pd.DataFrame(feature_space, columns=names)\n",
    "df['exited'] = y\n",
    "\n",
    "int_cols = ['HasCrCard','IsActiveMember', 1,2,3,'a','b', 'exited']\n",
    "float_cols = ['CreditScore', 'Age', 'Tenure', 'Balance', 'NumOfProducts', 'EstimatedSalary']\n",
    "\n",
    "for i in int_cols:\n",
    "    df[i] = df[i].astype('int16')\n",
    "for j in float_cols:\n",
    "    df[j] = df[j].astype('float32')\n",
    "    \n",
    "\n",
    "# Saving the preprocessed Data\n",
    "df.to_csv('Preprocessed_churn_dataset.csv')\n",
    "df.info()\n"
   ]
  },
  {
   "cell_type": "markdown",
   "id": "9455bbf3",
   "metadata": {},
   "source": [
    "## Outlier removal"
   ]
  },
  {
   "cell_type": "code",
   "execution_count": 254,
   "id": "40eda850",
   "metadata": {},
   "outputs": [
    {
     "data": {
      "image/png": "[encoded data removed]",
      "text/plain": [
       "<Figure size 1080x504 with 14 Axes>"
      ]
     },
     "metadata": {
      "needs_background": "light"
     },
     "output_type": "display_data"
    }
   ],
   "source": [
    "# Looking for outliers\n",
    "plt.figure(figsize=(15,7))\n",
    "i = 1\n",
    "for col in df.columns:\n",
    "    plt.subplot(3,5,i)\n",
    "    sns.boxplot(data=df, x = col, hue = 'exited')\n",
    "    i += 1"
   ]
  },
  {
   "cell_type": "code",
   "execution_count": 255,
   "id": "11b240ab",
   "metadata": {},
   "outputs": [],
   "source": [
    "# Removing the Outliers\n",
    "\n",
    "from sklearn.covariance import EllipticEnvelope\n",
    "import warnings\n",
    "warnings.filterwarnings('ignore')\n",
    "\n",
    "out_rem = EllipticEnvelope(contamination=.1,random_state=33)\n",
    "mask = out_rem.fit_predict(df)"
   ]
  },
  {
   "cell_type": "code",
   "execution_count": 256,
   "id": "0a45cbda",
   "metadata": {},
   "outputs": [],
   "source": [
    "mask = np.where(mask != 1,True, False)\n",
    "df['isoutlier'] = mask"
   ]
  },
  {
   "cell_type": "code",
   "execution_count": 257,
   "id": "d3363185",
   "metadata": {},
   "outputs": [],
   "source": [
    "df_no_outlier = df[df.isoutlier == False]\n",
    "df_no_outlier.drop('isoutlier',axis = 1, inplace=True)"
   ]
  },
  {
   "cell_type": "code",
   "execution_count": 258,
   "id": "2383854e",
   "metadata": {},
   "outputs": [
    {
     "data": {
      "image/png": "[encoded data removed]",
      "text/plain": [
       "<Figure size 1080x504 with 14 Axes>"
      ]
     },
     "metadata": {
      "needs_background": "light"
     },
     "output_type": "display_data"
    }
   ],
   "source": [
    "# Looking for outliers again to check the difference\n",
    "plt.figure(figsize=(15,7))\n",
    "i = 1\n",
    "for col in df_no_outlier.columns:\n",
    "    plt.subplot(3,5,i)\n",
    "    sns.boxplot(data=df_no_outlier, x = col)\n",
    "    i += 1"
   ]
  },
  {
   "cell_type": "markdown",
   "id": "7316385b",
   "metadata": {},
   "source": [
    "## Setting response and feature dataframe separate"
   ]
  },
  {
   "cell_type": "code",
   "execution_count": 259,
   "id": "c91f7140",
   "metadata": {},
   "outputs": [],
   "source": [
    "XX = df_no_outlier.drop('exited', axis = 1)\n",
    "yy = df_no_outlier.exited"
   ]
  },
  {
   "cell_type": "markdown",
   "id": "f94069a8",
   "metadata": {},
   "source": [
    "## Checking for class imbalance"
   ]
  },
  {
   "cell_type": "code",
   "execution_count": 260,
   "id": "8a0313d5",
   "metadata": {},
   "outputs": [
    {
     "data": {
      "text/plain": [
       "0    7486\n",
       "1    1514\n",
       "Name: exited, dtype: int64"
      ]
     },
     "execution_count": 260,
     "metadata": {},
     "output_type": "execute_result"
    }
   ],
   "source": [
    "df_no_outlier.exited.value_counts()"
   ]
  },
  {
   "cell_type": "code",
   "execution_count": 261,
   "id": "333dd743",
   "metadata": {},
   "outputs": [
    {
     "name": "stdout",
     "output_type": "stream",
     "text": [
      "Original data: X = (9000, 13), (9000,)\n",
      "0    7486\n",
      "1    1514\n",
      "Name: exited, dtype: int64\n",
      "Oversampled data: X = (14972, 13), (14972,)\n",
      "1    7486\n",
      "0    7486\n",
      "Name: exited, dtype: int64\n"
     ]
    }
   ],
   "source": [
    "# import library\n",
    "from imblearn.over_sampling import SMOTE\n",
    "\n",
    "smote = SMOTE()\n",
    "\n",
    "\n",
    "# fit predictor and target variable\n",
    "x_smote, y_smote = smote.fit_resample(XX, yy)\n",
    "\n",
    "\n",
    "print(f'Original data: X = {XX.shape}, {yy.shape}')\n",
    "print(yy.value_counts())\n",
    "print(f'Oversampled data: X = {x_smote.shape}, {y_smote.shape}')\n",
    "print(y_smote.value_counts())\n"
   ]
  },
  {
   "cell_type": "code",
   "execution_count": null,
   "id": "0b178495",
   "metadata": {},
   "outputs": [],
   "source": [
    "\n"
   ]
  },
  {
   "cell_type": "markdown",
   "id": "dca30148",
   "metadata": {},
   "source": [
    "## Creating train and test set"
   ]
  },
  {
   "cell_type": "code",
   "execution_count": 262,
   "id": "070dd204",
   "metadata": {},
   "outputs": [],
   "source": [
    "from sklearn.model_selection import train_test_split"
   ]
  },
  {
   "cell_type": "code",
   "execution_count": 263,
   "id": "3fcaf835",
   "metadata": {},
   "outputs": [],
   "source": [
    "xtrain, xtest, ytrain, ytest = train_test_split(x_smote, y_smote, test_size=.1, random_state= 33)"
   ]
  },
  {
   "cell_type": "code",
   "execution_count": 264,
   "id": "2bc9252f",
   "metadata": {},
   "outputs": [
    {
     "data": {
      "text/plain": [
       "(13474, 13)"
      ]
     },
     "execution_count": 264,
     "metadata": {},
     "output_type": "execute_result"
    }
   ],
   "source": [
    "xtrain.shape"
   ]
  },
  {
   "cell_type": "markdown",
   "id": "af64ea5f",
   "metadata": {},
   "source": [
    "## Creating a DL model"
   ]
  },
  {
   "cell_type": "code",
   "execution_count": 265,
   "id": "c6a2937d",
   "metadata": {},
   "outputs": [
    {
     "name": "stdout",
     "output_type": "stream",
     "text": [
      "0\n"
     ]
    }
   ],
   "source": [
    "import os\n",
    "os.environ['TFF_CPP_MIN_LOG_LEVEL'] = '2' # ignores tf wanrings and red notes\n",
    "import tensorflow as tf\n",
    "from tensorflow import keras\n",
    "from tensorflow.keras.layers import Dense, Activation, Dropout, Flatten\n",
    "\n",
    "#Enable Gpu\n",
    "physical_devices = tf.config.list_physical_devices('GPU')\n",
    "# tf.config.experimental.set_memory_growth(physical_devices[0], True)\n",
    "print(len(physical_devices))\n"
   ]
  },
  {
   "cell_type": "code",
   "execution_count": 363,
   "id": "ee440ede",
   "metadata": {},
   "outputs": [],
   "source": [
    "# Model intanciation\n",
    "Model = keras.models.Sequential()\n",
    "Model.add(Flatten())\n",
    "\n",
    "# Model.add(keras.layers.Input(13))\n",
    "\n",
    "Model.add(Dense( units = 100, activation = 'relu'))\n",
    "# Model.add(Dropout(.2))\n",
    "\n",
    "Model.add(Dense( units = 50, activation= 'relu'))\n",
    "# Model.add(Dropout(.2))\n",
    "\n",
    "Model.add(Dense( units = 30, activation= 'relu'))\n",
    "# Model.add(Dropout(.2))\n",
    "\n",
    "Model.add(Dense( units = 10, activation= 'relu'))\n",
    "\n",
    "\n",
    "Model.add(Dense(units=1, activation='sigmoid'))"
   ]
  },
  {
   "cell_type": "code",
   "execution_count": 364,
   "id": "f25b7764",
   "metadata": {},
   "outputs": [],
   "source": [
    "METRICS = [\n",
    "      # keras.metrics.TruePositives(name='tp'),\n",
    "      # keras.metrics.FalsePositives(name='fp'),\n",
    "      # keras.metrics.TrueNegatives(name='tn'),\n",
    "      # keras.metrics.FalseNegatives(name='fn'), \n",
    "      keras.metrics.BinaryAccuracy(name='accuracy'),\n",
    "      keras.metrics.Precision(name='precision'),\n",
    "      keras.metrics.Recall(name='recall'),\n",
    "      keras.metrics.AUC(name='auc'),\n",
    "      keras.metrics.AUC(name='prc', curve='PR'), # precision-recall curve\n",
    "]"
   ]
  },
  {
   "cell_type": "code",
   "execution_count": 365,
   "id": "654706d9",
   "metadata": {},
   "outputs": [],
   "source": [
    "Model.compile(optimizer= keras.optimizers.Adam(), loss='binary_crossentropy', metrics = METRICS)"
   ]
  },
  {
   "cell_type": "code",
   "execution_count": 366,
   "id": "e8a11c58",
   "metadata": {
    "scrolled": true
   },
   "outputs": [
    {
     "name": "stdout",
     "output_type": "stream",
     "text": [
      "Epoch 1/300\n",
      "41/41 [==============================] - 2s 33ms/step - loss: 0.6757 - accuracy: 0.5836 - precision: 0.5608 - recall: 0.8216 - auc: 0.6296 - prc: 0.6226 - val_loss: 0.6102 - val_accuracy: 0.6714 - val_precision: 0.6988 - val_recall: 0.6501 - val_auc: 0.7322 - val_prc: 0.7510\n",
      "Epoch 2/300\n",
      "41/41 [==============================] - 0s 2ms/step - loss: 0.5918 - accuracy: 0.7001 - precision: 0.7047 - recall: 0.6937 - auc: 0.7593 - prc: 0.7459 - val_loss: 0.5205 - val_accuracy: 0.7352 - val_precision: 0.7522 - val_recall: 0.7340 - val_auc: 0.8203 - val_prc: 0.8454\n",
      "Epoch 3/300\n",
      "41/41 [==============================] - 0s 2ms/step - loss: 0.5345 - accuracy: 0.7366 - precision: 0.7369 - recall: 0.7382 - auc: 0.8090 - prc: 0.8020 - val_loss: 0.5080 - val_accuracy: 0.7574 - val_precision: 0.7725 - val_recall: 0.7582 - val_auc: 0.8285 - val_prc: 0.8523\n",
      "Epoch 4/300\n",
      "41/41 [==============================] - 0s 2ms/step - loss: 0.5209 - accuracy: 0.7446 - precision: 0.7437 - recall: 0.7464 - auc: 0.8207 - prc: 0.8135 - val_loss: 0.5012 - val_accuracy: 0.7589 - val_precision: 0.8039 - val_recall: 0.7112 - val_auc: 0.8379 - val_prc: 0.8589\n",
      "Epoch 5/300\n",
      "41/41 [==============================] - 0s 2ms/step - loss: 0.5041 - accuracy: 0.7589 - precision: 0.7631 - recall: 0.7485 - auc: 0.8342 - prc: 0.8247 - val_loss: 0.4985 - val_accuracy: 0.7582 - val_precision: 0.7471 - val_recall: 0.8108 - val_auc: 0.8394 - val_prc: 0.8592\n",
      "Epoch 6/300\n",
      "41/41 [==============================] - 0s 2ms/step - loss: 0.5088 - accuracy: 0.7556 - precision: 0.7527 - recall: 0.7666 - auc: 0.8310 - prc: 0.8276 - val_loss: 0.5173 - val_accuracy: 0.7463 - val_precision: 0.8425 - val_recall: 0.6316 - val_auc: 0.8420 - val_prc: 0.8616\n",
      "Epoch 7/300\n",
      "41/41 [==============================] - 0s 2ms/step - loss: 0.4957 - accuracy: 0.7613 - precision: 0.7731 - recall: 0.7395 - auc: 0.8418 - prc: 0.8325 - val_loss: 0.4956 - val_accuracy: 0.7545 - val_precision: 0.7391 - val_recall: 0.8179 - val_auc: 0.8443 - val_prc: 0.8622\n",
      "Epoch 8/300\n",
      "41/41 [==============================] - 0s 2ms/step - loss: 0.5056 - accuracy: 0.7548 - precision: 0.7449 - recall: 0.7634 - auc: 0.8352 - prc: 0.8241 - val_loss: 0.4870 - val_accuracy: 0.7604 - val_precision: 0.7617 - val_recall: 0.7866 - val_auc: 0.8458 - val_prc: 0.8639\n",
      "Epoch 9/300\n",
      "41/41 [==============================] - 0s 2ms/step - loss: 0.5016 - accuracy: 0.7573 - precision: 0.7547 - recall: 0.7629 - auc: 0.8365 - prc: 0.8258 - val_loss: 0.4978 - val_accuracy: 0.7582 - val_precision: 0.8244 - val_recall: 0.6814 - val_auc: 0.8476 - val_prc: 0.8637\n",
      "Epoch 10/300\n",
      "41/41 [==============================] - 0s 2ms/step - loss: 0.4894 - accuracy: 0.7662 - precision: 0.7758 - recall: 0.7427 - auc: 0.8450 - prc: 0.8330 - val_loss: 0.4849 - val_accuracy: 0.7596 - val_precision: 0.8153 - val_recall: 0.6970 - val_auc: 0.8537 - val_prc: 0.8674\n",
      "Epoch 11/300\n",
      "41/41 [==============================] - 0s 2ms/step - loss: 0.4814 - accuracy: 0.7708 - precision: 0.7707 - recall: 0.7590 - auc: 0.8507 - prc: 0.8353 - val_loss: 0.4717 - val_accuracy: 0.7708 - val_precision: 0.7914 - val_recall: 0.7610 - val_auc: 0.8563 - val_prc: 0.8706\n",
      "Epoch 12/300\n",
      "41/41 [==============================] - 0s 2ms/step - loss: 0.4797 - accuracy: 0.7682 - precision: 0.7757 - recall: 0.7569 - auc: 0.8520 - prc: 0.8429 - val_loss: 0.4725 - val_accuracy: 0.7678 - val_precision: 0.8009 - val_recall: 0.7383 - val_auc: 0.8576 - val_prc: 0.8697\n",
      "Epoch 13/300\n",
      "41/41 [==============================] - 0s 2ms/step - loss: 0.4659 - accuracy: 0.7829 - precision: 0.7796 - recall: 0.7762 - auc: 0.8617 - prc: 0.8508 - val_loss: 0.4638 - val_accuracy: 0.7723 - val_precision: 0.7991 - val_recall: 0.7525 - val_auc: 0.8632 - val_prc: 0.8748\n",
      "Epoch 14/300\n",
      "41/41 [==============================] - 0s 2ms/step - loss: 0.4710 - accuracy: 0.7752 - precision: 0.7717 - recall: 0.7719 - auc: 0.8575 - prc: 0.8436 - val_loss: 0.4746 - val_accuracy: 0.7671 - val_precision: 0.8247 - val_recall: 0.7027 - val_auc: 0.8646 - val_prc: 0.8744\n",
      "Epoch 15/300\n",
      "41/41 [==============================] - 0s 2ms/step - loss: 0.4743 - accuracy: 0.7754 - precision: 0.7814 - recall: 0.7613 - auc: 0.8559 - prc: 0.8438 - val_loss: 0.4590 - val_accuracy: 0.7841 - val_precision: 0.7951 - val_recall: 0.7895 - val_auc: 0.8651 - val_prc: 0.8765\n",
      "Epoch 16/300\n",
      "41/41 [==============================] - 0s 2ms/step - loss: 0.4587 - accuracy: 0.7860 - precision: 0.7721 - recall: 0.7962 - auc: 0.8652 - prc: 0.8480 - val_loss: 0.4524 - val_accuracy: 0.7886 - val_precision: 0.7927 - val_recall: 0.8051 - val_auc: 0.8690 - val_prc: 0.8784\n",
      "Epoch 17/300\n",
      "41/41 [==============================] - 0s 2ms/step - loss: 0.4578 - accuracy: 0.7817 - precision: 0.7707 - recall: 0.8083 - auc: 0.8661 - prc: 0.8569 - val_loss: 0.4535 - val_accuracy: 0.7834 - val_precision: 0.7882 - val_recall: 0.7994 - val_auc: 0.8682 - val_prc: 0.8777\n",
      "Epoch 18/300\n",
      "41/41 [==============================] - 0s 2ms/step - loss: 0.4524 - accuracy: 0.7851 - precision: 0.7750 - recall: 0.8020 - auc: 0.8692 - prc: 0.8611 - val_loss: 0.4487 - val_accuracy: 0.7886 - val_precision: 0.7986 - val_recall: 0.7952 - val_auc: 0.8710 - val_prc: 0.8799\n",
      "Epoch 19/300\n",
      "41/41 [==============================] - 0s 2ms/step - loss: 0.4444 - accuracy: 0.7948 - precision: 0.7805 - recall: 0.8188 - auc: 0.8732 - prc: 0.8584 - val_loss: 0.4575 - val_accuracy: 0.7826 - val_precision: 0.7635 - val_recall: 0.8450 - val_auc: 0.8679 - val_prc: 0.8778\n",
      "Epoch 20/300\n",
      "41/41 [==============================] - 0s 2ms/step - loss: 0.4461 - accuracy: 0.7890 - precision: 0.7725 - recall: 0.8182 - auc: 0.8732 - prc: 0.8636 - val_loss: 0.4472 - val_accuracy: 0.7871 - val_precision: 0.8114 - val_recall: 0.7710 - val_auc: 0.8750 - val_prc: 0.8821\n",
      "Epoch 21/300\n",
      "41/41 [==============================] - 0s 2ms/step - loss: 0.4469 - accuracy: 0.7905 - precision: 0.7786 - recall: 0.8090 - auc: 0.8721 - prc: 0.8595 - val_loss: 0.4420 - val_accuracy: 0.7930 - val_precision: 0.7928 - val_recall: 0.8165 - val_auc: 0.8747 - val_prc: 0.8835\n",
      "Epoch 22/300\n",
      "41/41 [==============================] - 0s 2ms/step - loss: 0.4373 - accuracy: 0.7966 - precision: 0.7850 - recall: 0.8157 - auc: 0.8780 - prc: 0.8686 - val_loss: 0.4382 - val_accuracy: 0.7930 - val_precision: 0.8011 - val_recall: 0.8023 - val_auc: 0.8777 - val_prc: 0.8824\n",
      "Epoch 23/300\n",
      "41/41 [==============================] - 0s 2ms/step - loss: 0.4432 - accuracy: 0.7929 - precision: 0.7892 - recall: 0.8007 - auc: 0.8745 - prc: 0.8632 - val_loss: 0.4428 - val_accuracy: 0.7915 - val_precision: 0.7972 - val_recall: 0.8051 - val_auc: 0.8745 - val_prc: 0.8829\n",
      "Epoch 24/300\n",
      "41/41 [==============================] - 0s 2ms/step - loss: 0.4388 - accuracy: 0.7942 - precision: 0.7860 - recall: 0.8057 - auc: 0.8767 - prc: 0.8646 - val_loss: 0.4407 - val_accuracy: 0.7938 - val_precision: 0.7972 - val_recall: 0.8108 - val_auc: 0.8761 - val_prc: 0.8826\n",
      "Epoch 25/300\n",
      "41/41 [==============================] - 0s 2ms/step - loss: 0.4343 - accuracy: 0.7961 - precision: 0.7805 - recall: 0.8175 - auc: 0.8793 - prc: 0.8640 - val_loss: 0.4352 - val_accuracy: 0.7938 - val_precision: 0.8014 - val_recall: 0.8037 - val_auc: 0.8789 - val_prc: 0.8823\n",
      "Epoch 26/300\n",
      "41/41 [==============================] - 0s 2ms/step - loss: 0.4234 - accuracy: 0.8051 - precision: 0.7937 - recall: 0.8229 - auc: 0.8865 - prc: 0.8771 - val_loss: 0.4307 - val_accuracy: 0.8012 - val_precision: 0.7992 - val_recall: 0.8265 - val_auc: 0.8813 - val_prc: 0.8846\n",
      "Epoch 27/300\n",
      "41/41 [==============================] - 0s 2ms/step - loss: 0.4231 - accuracy: 0.8058 - precision: 0.7898 - recall: 0.8302 - auc: 0.8862 - prc: 0.8754 - val_loss: 0.4380 - val_accuracy: 0.7923 - val_precision: 0.8209 - val_recall: 0.7696 - val_auc: 0.8810 - val_prc: 0.8855\n",
      "Epoch 28/300\n",
      "41/41 [==============================] - 0s 2ms/step - loss: 0.4238 - accuracy: 0.8053 - precision: 0.7906 - recall: 0.8189 - auc: 0.8859 - prc: 0.8693 - val_loss: 0.4401 - val_accuracy: 0.7938 - val_precision: 0.8305 - val_recall: 0.7596 - val_auc: 0.8823 - val_prc: 0.8851\n",
      "Epoch 29/300\n"
     ]
    },
    {
     "name": "stdout",
     "output_type": "stream",
     "text": [
      "41/41 [==============================] - 0s 2ms/step - loss: 0.4245 - accuracy: 0.8076 - precision: 0.7967 - recall: 0.8230 - auc: 0.8858 - prc: 0.8705 - val_loss: 0.4351 - val_accuracy: 0.7930 - val_precision: 0.7775 - val_recall: 0.8450 - val_auc: 0.8794 - val_prc: 0.8853\n",
      "Epoch 30/300\n",
      "41/41 [==============================] - 0s 2ms/step - loss: 0.4218 - accuracy: 0.8075 - precision: 0.7902 - recall: 0.8316 - auc: 0.8874 - prc: 0.8735 - val_loss: 0.4650 - val_accuracy: 0.7767 - val_precision: 0.8478 - val_recall: 0.6970 - val_auc: 0.8801 - val_prc: 0.8827\n",
      "Epoch 31/300\n",
      "41/41 [==============================] - 0s 2ms/step - loss: 0.4343 - accuracy: 0.7991 - precision: 0.7947 - recall: 0.8052 - auc: 0.8803 - prc: 0.8651 - val_loss: 0.4280 - val_accuracy: 0.8019 - val_precision: 0.7824 - val_recall: 0.8592 - val_auc: 0.8836 - val_prc: 0.8874\n",
      "Epoch 32/300\n",
      "41/41 [==============================] - 0s 2ms/step - loss: 0.4204 - accuracy: 0.8013 - precision: 0.7834 - recall: 0.8340 - auc: 0.8876 - prc: 0.8758 - val_loss: 0.4301 - val_accuracy: 0.7945 - val_precision: 0.8132 - val_recall: 0.7866 - val_auc: 0.8836 - val_prc: 0.8845\n",
      "Epoch 33/300\n",
      "41/41 [==============================] - 0s 2ms/step - loss: 0.4077 - accuracy: 0.8102 - precision: 0.7989 - recall: 0.8205 - auc: 0.8950 - prc: 0.8812 - val_loss: 0.4368 - val_accuracy: 0.7878 - val_precision: 0.8325 - val_recall: 0.7425 - val_auc: 0.8858 - val_prc: 0.8859\n",
      "Epoch 34/300\n",
      "41/41 [==============================] - 0s 2ms/step - loss: 0.4165 - accuracy: 0.8125 - precision: 0.8013 - recall: 0.8296 - auc: 0.8894 - prc: 0.8744 - val_loss: 0.4235 - val_accuracy: 0.8056 - val_precision: 0.8219 - val_recall: 0.8009 - val_auc: 0.8876 - val_prc: 0.8873\n",
      "Epoch 35/300\n",
      "41/41 [==============================] - 0s 2ms/step - loss: 0.4125 - accuracy: 0.8094 - precision: 0.8032 - recall: 0.8200 - auc: 0.8920 - prc: 0.8824 - val_loss: 0.4251 - val_accuracy: 0.8071 - val_precision: 0.8072 - val_recall: 0.8279 - val_auc: 0.8846 - val_prc: 0.8896\n",
      "Epoch 36/300\n",
      "41/41 [==============================] - 0s 2ms/step - loss: 0.4116 - accuracy: 0.8123 - precision: 0.7938 - recall: 0.8393 - auc: 0.8927 - prc: 0.8777 - val_loss: 0.4213 - val_accuracy: 0.8042 - val_precision: 0.7946 - val_recall: 0.8421 - val_auc: 0.8860 - val_prc: 0.8881\n",
      "Epoch 37/300\n",
      "41/41 [==============================] - 0s 2ms/step - loss: 0.4080 - accuracy: 0.8164 - precision: 0.8010 - recall: 0.8389 - auc: 0.8942 - prc: 0.8819 - val_loss: 0.4165 - val_accuracy: 0.8108 - val_precision: 0.7971 - val_recall: 0.8549 - val_auc: 0.8898 - val_prc: 0.8946\n",
      "Epoch 38/300\n",
      "41/41 [==============================] - 0s 2ms/step - loss: 0.4141 - accuracy: 0.8111 - precision: 0.7918 - recall: 0.8425 - auc: 0.8919 - prc: 0.8796 - val_loss: 0.4173 - val_accuracy: 0.8108 - val_precision: 0.8043 - val_recall: 0.8421 - val_auc: 0.8887 - val_prc: 0.8912\n",
      "Epoch 39/300\n",
      "41/41 [==============================] - 0s 2ms/step - loss: 0.3968 - accuracy: 0.8219 - precision: 0.8101 - recall: 0.8380 - auc: 0.9007 - prc: 0.8899 - val_loss: 0.4113 - val_accuracy: 0.8079 - val_precision: 0.8092 - val_recall: 0.8265 - val_auc: 0.8918 - val_prc: 0.8945\n",
      "Epoch 40/300\n",
      "41/41 [==============================] - 0s 2ms/step - loss: 0.4043 - accuracy: 0.8155 - precision: 0.7992 - recall: 0.8402 - auc: 0.8960 - prc: 0.8851 - val_loss: 0.4324 - val_accuracy: 0.7923 - val_precision: 0.8417 - val_recall: 0.7411 - val_auc: 0.8906 - val_prc: 0.8933\n",
      "Epoch 41/300\n",
      "41/41 [==============================] - 0s 2ms/step - loss: 0.4071 - accuracy: 0.8156 - precision: 0.8070 - recall: 0.8248 - auc: 0.8948 - prc: 0.8819 - val_loss: 0.4213 - val_accuracy: 0.7938 - val_precision: 0.8244 - val_recall: 0.7681 - val_auc: 0.8918 - val_prc: 0.8953\n",
      "Epoch 42/300\n",
      "41/41 [==============================] - 0s 2ms/step - loss: 0.4116 - accuracy: 0.8126 - precision: 0.8070 - recall: 0.8258 - auc: 0.8925 - prc: 0.8836 - val_loss: 0.4088 - val_accuracy: 0.8212 - val_precision: 0.8139 - val_recall: 0.8521 - val_auc: 0.8937 - val_prc: 0.8953\n",
      "Epoch 43/300\n",
      "41/41 [==============================] - 0s 2ms/step - loss: 0.3904 - accuracy: 0.8262 - precision: 0.8091 - recall: 0.8487 - auc: 0.9040 - prc: 0.8923 - val_loss: 0.4040 - val_accuracy: 0.8205 - val_precision: 0.8128 - val_recall: 0.8521 - val_auc: 0.8963 - val_prc: 0.8975\n",
      "Epoch 44/300\n",
      "41/41 [==============================] - 0s 2ms/step - loss: 0.3908 - accuracy: 0.8215 - precision: 0.8046 - recall: 0.8500 - auc: 0.9034 - prc: 0.8942 - val_loss: 0.4265 - val_accuracy: 0.7982 - val_precision: 0.8459 - val_recall: 0.7496 - val_auc: 0.8934 - val_prc: 0.8913\n",
      "Epoch 45/300\n",
      "41/41 [==============================] - 0s 2ms/step - loss: 0.3968 - accuracy: 0.8142 - precision: 0.8072 - recall: 0.8262 - auc: 0.9000 - prc: 0.8899 - val_loss: 0.4263 - val_accuracy: 0.7982 - val_precision: 0.8493 - val_recall: 0.7454 - val_auc: 0.8932 - val_prc: 0.8914\n",
      "Epoch 46/300\n",
      "41/41 [==============================] - 0s 2ms/step - loss: 0.3994 - accuracy: 0.8161 - precision: 0.8095 - recall: 0.8238 - auc: 0.8985 - prc: 0.8877 - val_loss: 0.4084 - val_accuracy: 0.8197 - val_precision: 0.7987 - val_recall: 0.8748 - val_auc: 0.8949 - val_prc: 0.8967\n",
      "Epoch 47/300\n",
      "41/41 [==============================] - 0s 2ms/step - loss: 0.3902 - accuracy: 0.8235 - precision: 0.8045 - recall: 0.8564 - auc: 0.9030 - prc: 0.8919 - val_loss: 0.4087 - val_accuracy: 0.8138 - val_precision: 0.8219 - val_recall: 0.8208 - val_auc: 0.8939 - val_prc: 0.8958\n",
      "Epoch 48/300\n",
      "41/41 [==============================] - 0s 2ms/step - loss: 0.3836 - accuracy: 0.8238 - precision: 0.8078 - recall: 0.8385 - auc: 0.9070 - prc: 0.8942 - val_loss: 0.4128 - val_accuracy: 0.8079 - val_precision: 0.8394 - val_recall: 0.7809 - val_auc: 0.8973 - val_prc: 0.8986\n",
      "Epoch 49/300\n",
      "41/41 [==============================] - 0s 2ms/step - loss: 0.3868 - accuracy: 0.8237 - precision: 0.8156 - recall: 0.8352 - auc: 0.9047 - prc: 0.8923 - val_loss: 0.4082 - val_accuracy: 0.8242 - val_precision: 0.8042 - val_recall: 0.8762 - val_auc: 0.8955 - val_prc: 0.8977\n",
      "Epoch 50/300\n",
      "41/41 [==============================] - 0s 2ms/step - loss: 0.3829 - accuracy: 0.8255 - precision: 0.8069 - recall: 0.8477 - auc: 0.9074 - prc: 0.8955 - val_loss: 0.4063 - val_accuracy: 0.8131 - val_precision: 0.8245 - val_recall: 0.8151 - val_auc: 0.8955 - val_prc: 0.8959\n",
      "Epoch 51/300\n",
      "41/41 [==============================] - 0s 2ms/step - loss: 0.3738 - accuracy: 0.8306 - precision: 0.8201 - recall: 0.8437 - auc: 0.9123 - prc: 0.9018 - val_loss: 0.4057 - val_accuracy: 0.8220 - val_precision: 0.8284 - val_recall: 0.8307 - val_auc: 0.8952 - val_prc: 0.8959\n",
      "Epoch 52/300\n",
      "41/41 [==============================] - 0s 2ms/step - loss: 0.3702 - accuracy: 0.8335 - precision: 0.8163 - recall: 0.8526 - auc: 0.9138 - prc: 0.9018 - val_loss: 0.4055 - val_accuracy: 0.8205 - val_precision: 0.8270 - val_recall: 0.8293 - val_auc: 0.8959 - val_prc: 0.8981\n",
      "Epoch 53/300\n",
      "41/41 [==============================] - 0s 2ms/step - loss: 0.3870 - accuracy: 0.8247 - precision: 0.8097 - recall: 0.8465 - auc: 0.9051 - prc: 0.8945 - val_loss: 0.4026 - val_accuracy: 0.8257 - val_precision: 0.8391 - val_recall: 0.8236 - val_auc: 0.8979 - val_prc: 0.8996\n",
      "Epoch 54/300\n",
      "41/41 [==============================] - 0s 2ms/step - loss: 0.3769 - accuracy: 0.8320 - precision: 0.8143 - recall: 0.8559 - auc: 0.9104 - prc: 0.8960 - val_loss: 0.4199 - val_accuracy: 0.8019 - val_precision: 0.8516 - val_recall: 0.7511 - val_auc: 0.8988 - val_prc: 0.8991\n",
      "Epoch 55/300\n",
      "41/41 [==============================] - 0s 2ms/step - loss: 0.3801 - accuracy: 0.8277 - precision: 0.8101 - recall: 0.8533 - auc: 0.9086 - prc: 0.8957 - val_loss: 0.4024 - val_accuracy: 0.8168 - val_precision: 0.8314 - val_recall: 0.8137 - val_auc: 0.8984 - val_prc: 0.8990\n",
      "Epoch 56/300\n",
      "41/41 [==============================] - 0s 2ms/step - loss: 0.3689 - accuracy: 0.8333 - precision: 0.8206 - recall: 0.8517 - auc: 0.9145 - prc: 0.9055 - val_loss: 0.3977 - val_accuracy: 0.8249 - val_precision: 0.8266 - val_recall: 0.8407 - val_auc: 0.8988 - val_prc: 0.8997\n",
      "Epoch 57/300\n"
     ]
    },
    {
     "name": "stdout",
     "output_type": "stream",
     "text": [
      "41/41 [==============================] - 0s 2ms/step - loss: 0.3667 - accuracy: 0.8401 - precision: 0.8251 - recall: 0.8581 - auc: 0.9156 - prc: 0.9045 - val_loss: 0.4018 - val_accuracy: 0.8182 - val_precision: 0.8388 - val_recall: 0.8065 - val_auc: 0.9002 - val_prc: 0.8975\n",
      "Epoch 58/300\n",
      "41/41 [==============================] - 0s 2ms/step - loss: 0.3712 - accuracy: 0.8361 - precision: 0.8195 - recall: 0.8577 - auc: 0.9130 - prc: 0.9015 - val_loss: 0.4001 - val_accuracy: 0.8264 - val_precision: 0.8010 - val_recall: 0.8876 - val_auc: 0.9002 - val_prc: 0.8985\n",
      "Epoch 59/300\n",
      "41/41 [==============================] - 0s 2ms/step - loss: 0.3715 - accuracy: 0.8290 - precision: 0.8065 - recall: 0.8634 - auc: 0.9135 - prc: 0.9031 - val_loss: 0.3955 - val_accuracy: 0.8346 - val_precision: 0.8117 - val_recall: 0.8890 - val_auc: 0.8999 - val_prc: 0.8994\n",
      "Epoch 60/300\n",
      "41/41 [==============================] - 0s 2ms/step - loss: 0.3667 - accuracy: 0.8319 - precision: 0.8107 - recall: 0.8612 - auc: 0.9150 - prc: 0.9032 - val_loss: 0.3966 - val_accuracy: 0.8257 - val_precision: 0.8000 - val_recall: 0.8876 - val_auc: 0.9012 - val_prc: 0.9022\n",
      "Epoch 61/300\n",
      "41/41 [==============================] - 0s 2ms/step - loss: 0.3629 - accuracy: 0.8413 - precision: 0.8207 - recall: 0.8724 - auc: 0.9168 - prc: 0.9055 - val_loss: 0.3876 - val_accuracy: 0.8316 - val_precision: 0.8091 - val_recall: 0.8862 - val_auc: 0.9049 - val_prc: 0.9069\n",
      "Epoch 62/300\n",
      "41/41 [==============================] - 0s 2ms/step - loss: 0.3712 - accuracy: 0.8358 - precision: 0.8163 - recall: 0.8647 - auc: 0.9127 - prc: 0.9010 - val_loss: 0.3914 - val_accuracy: 0.8272 - val_precision: 0.8219 - val_recall: 0.8535 - val_auc: 0.9024 - val_prc: 0.9040\n",
      "Epoch 63/300\n",
      "41/41 [==============================] - 0s 2ms/step - loss: 0.3686 - accuracy: 0.8344 - precision: 0.8115 - recall: 0.8645 - auc: 0.9139 - prc: 0.8991 - val_loss: 0.3853 - val_accuracy: 0.8338 - val_precision: 0.8206 - val_recall: 0.8720 - val_auc: 0.9058 - val_prc: 0.9072\n",
      "Epoch 64/300\n",
      "41/41 [==============================] - 0s 2ms/step - loss: 0.3588 - accuracy: 0.8453 - precision: 0.8231 - recall: 0.8781 - auc: 0.9184 - prc: 0.9083 - val_loss: 0.3881 - val_accuracy: 0.8316 - val_precision: 0.8140 - val_recall: 0.8777 - val_auc: 0.9038 - val_prc: 0.9039\n",
      "Epoch 65/300\n",
      "41/41 [==============================] - 0s 2ms/step - loss: 0.3626 - accuracy: 0.8382 - precision: 0.8183 - recall: 0.8666 - auc: 0.9166 - prc: 0.9045 - val_loss: 0.3792 - val_accuracy: 0.8368 - val_precision: 0.8224 - val_recall: 0.8762 - val_auc: 0.9075 - val_prc: 0.9064\n",
      "Epoch 66/300\n",
      "41/41 [==============================] - 0s 2ms/step - loss: 0.3553 - accuracy: 0.8400 - precision: 0.8229 - recall: 0.8693 - auc: 0.9199 - prc: 0.9106 - val_loss: 0.3947 - val_accuracy: 0.8264 - val_precision: 0.8289 - val_recall: 0.8407 - val_auc: 0.9021 - val_prc: 0.9025\n",
      "Epoch 67/300\n",
      "41/41 [==============================] - 0s 2ms/step - loss: 0.3633 - accuracy: 0.8376 - precision: 0.8218 - recall: 0.8622 - auc: 0.9165 - prc: 0.9065 - val_loss: 0.3765 - val_accuracy: 0.8420 - val_precision: 0.8311 - val_recall: 0.8748 - val_auc: 0.9101 - val_prc: 0.9111\n",
      "Epoch 68/300\n",
      "41/41 [==============================] - 0s 2ms/step - loss: 0.3647 - accuracy: 0.8382 - precision: 0.8171 - recall: 0.8725 - auc: 0.9157 - prc: 0.9048 - val_loss: 0.3837 - val_accuracy: 0.8272 - val_precision: 0.8202 - val_recall: 0.8563 - val_auc: 0.9064 - val_prc: 0.9076\n",
      "Epoch 69/300\n",
      "41/41 [==============================] - 0s 2ms/step - loss: 0.3516 - accuracy: 0.8411 - precision: 0.8186 - recall: 0.8775 - auc: 0.9216 - prc: 0.9128 - val_loss: 0.3822 - val_accuracy: 0.8375 - val_precision: 0.8306 - val_recall: 0.8649 - val_auc: 0.9073 - val_prc: 0.9072\n",
      "Epoch 70/300\n",
      "41/41 [==============================] - 0s 2ms/step - loss: 0.3537 - accuracy: 0.8434 - precision: 0.8295 - recall: 0.8637 - auc: 0.9212 - prc: 0.9114 - val_loss: 0.3854 - val_accuracy: 0.8323 - val_precision: 0.8308 - val_recall: 0.8521 - val_auc: 0.9044 - val_prc: 0.9030\n",
      "Epoch 71/300\n",
      "41/41 [==============================] - 0s 2ms/step - loss: 0.3530 - accuracy: 0.8391 - precision: 0.8216 - recall: 0.8581 - auc: 0.9218 - prc: 0.9095 - val_loss: 0.3826 - val_accuracy: 0.8390 - val_precision: 0.8053 - val_recall: 0.9118 - val_auc: 0.9089 - val_prc: 0.9097\n",
      "Epoch 72/300\n",
      "41/41 [==============================] - 0s 2ms/step - loss: 0.3545 - accuracy: 0.8367 - precision: 0.8179 - recall: 0.8603 - auc: 0.9205 - prc: 0.9086 - val_loss: 0.4042 - val_accuracy: 0.8049 - val_precision: 0.8595 - val_recall: 0.7482 - val_auc: 0.9095 - val_prc: 0.9084\n",
      "Epoch 73/300\n",
      "41/41 [==============================] - 0s 2ms/step - loss: 0.3597 - accuracy: 0.8343 - precision: 0.8241 - recall: 0.8500 - auc: 0.9187 - prc: 0.9070 - val_loss: 0.4050 - val_accuracy: 0.8064 - val_precision: 0.8565 - val_recall: 0.7553 - val_auc: 0.9079 - val_prc: 0.9093\n",
      "Epoch 74/300\n",
      "41/41 [==============================] - 0s 2ms/step - loss: 0.3654 - accuracy: 0.8363 - precision: 0.8305 - recall: 0.8475 - auc: 0.9164 - prc: 0.9055 - val_loss: 0.3773 - val_accuracy: 0.8368 - val_precision: 0.8322 - val_recall: 0.8606 - val_auc: 0.9100 - val_prc: 0.9101\n",
      "Epoch 75/300\n",
      "41/41 [==============================] - 0s 2ms/step - loss: 0.3453 - accuracy: 0.8455 - precision: 0.8277 - recall: 0.8647 - auc: 0.9245 - prc: 0.9120 - val_loss: 0.3731 - val_accuracy: 0.8427 - val_precision: 0.8235 - val_recall: 0.8890 - val_auc: 0.9117 - val_prc: 0.9087\n",
      "Epoch 76/300\n",
      "41/41 [==============================] - 0s 2ms/step - loss: 0.3487 - accuracy: 0.8489 - precision: 0.8346 - recall: 0.8745 - auc: 0.9229 - prc: 0.9129 - val_loss: 0.3920 - val_accuracy: 0.8272 - val_precision: 0.8604 - val_recall: 0.7980 - val_auc: 0.9095 - val_prc: 0.9084\n",
      "Epoch 77/300\n",
      "41/41 [==============================] - 0s 2ms/step - loss: 0.3347 - accuracy: 0.8537 - precision: 0.8404 - recall: 0.8718 - auc: 0.9301 - prc: 0.9213 - val_loss: 0.3817 - val_accuracy: 0.8286 - val_precision: 0.8522 - val_recall: 0.8122 - val_auc: 0.9115 - val_prc: 0.9089\n",
      "Epoch 78/300\n",
      "41/41 [==============================] - 0s 2ms/step - loss: 0.3386 - accuracy: 0.8523 - precision: 0.8351 - recall: 0.8715 - auc: 0.9278 - prc: 0.9130 - val_loss: 0.3887 - val_accuracy: 0.8205 - val_precision: 0.8498 - val_recall: 0.7966 - val_auc: 0.9101 - val_prc: 0.9087\n",
      "Epoch 79/300\n",
      "41/41 [==============================] - 0s 2ms/step - loss: 0.3363 - accuracy: 0.8534 - precision: 0.8373 - recall: 0.8726 - auc: 0.9284 - prc: 0.9159 - val_loss: 0.3700 - val_accuracy: 0.8450 - val_precision: 0.8293 - val_recall: 0.8848 - val_auc: 0.9125 - val_prc: 0.9089\n",
      "Epoch 80/300\n",
      "41/41 [==============================] - 0s 2ms/step - loss: 0.3409 - accuracy: 0.8513 - precision: 0.8282 - recall: 0.8813 - auc: 0.9268 - prc: 0.9127 - val_loss: 0.3955 - val_accuracy: 0.8182 - val_precision: 0.8512 - val_recall: 0.7895 - val_auc: 0.9095 - val_prc: 0.9051\n",
      "Epoch 81/300\n",
      "41/41 [==============================] - 0s 2ms/step - loss: 0.3371 - accuracy: 0.8533 - precision: 0.8375 - recall: 0.8778 - auc: 0.9284 - prc: 0.9198 - val_loss: 0.3892 - val_accuracy: 0.8123 - val_precision: 0.8538 - val_recall: 0.7724 - val_auc: 0.9124 - val_prc: 0.9110\n",
      "Epoch 82/300\n",
      "41/41 [==============================] - 0s 2ms/step - loss: 0.3265 - accuracy: 0.8553 - precision: 0.8442 - recall: 0.8663 - auc: 0.9331 - prc: 0.9221 - val_loss: 0.3757 - val_accuracy: 0.8361 - val_precision: 0.8347 - val_recall: 0.8549 - val_auc: 0.9098 - val_prc: 0.9090\n",
      "Epoch 83/300\n",
      "41/41 [==============================] - 0s 2ms/step - loss: 0.3267 - accuracy: 0.8539 - precision: 0.8371 - recall: 0.8791 - auc: 0.9331 - prc: 0.9232 - val_loss: 0.3828 - val_accuracy: 0.8264 - val_precision: 0.8464 - val_recall: 0.8151 - val_auc: 0.9105 - val_prc: 0.9087\n",
      "Epoch 84/300\n",
      "41/41 [==============================] - 0s 2ms/step - loss: 0.3352 - accuracy: 0.8508 - precision: 0.8391 - recall: 0.8706 - auc: 0.9284 - prc: 0.9191 - val_loss: 0.3710 - val_accuracy: 0.8398 - val_precision: 0.8191 - val_recall: 0.8890 - val_auc: 0.9130 - val_prc: 0.9116\n",
      "Epoch 85/300\n"
     ]
    },
    {
     "name": "stdout",
     "output_type": "stream",
     "text": [
      "41/41 [==============================] - 0s 2ms/step - loss: 0.3281 - accuracy: 0.8600 - precision: 0.8364 - recall: 0.8941 - auc: 0.9319 - prc: 0.9216 - val_loss: 0.3763 - val_accuracy: 0.8205 - val_precision: 0.8405 - val_recall: 0.8094 - val_auc: 0.9130 - val_prc: 0.9090\n",
      "Epoch 86/300\n",
      "41/41 [==============================] - 0s 2ms/step - loss: 0.3372 - accuracy: 0.8534 - precision: 0.8404 - recall: 0.8743 - auc: 0.9275 - prc: 0.9180 - val_loss: 0.3715 - val_accuracy: 0.8457 - val_precision: 0.8452 - val_recall: 0.8620 - val_auc: 0.9134 - val_prc: 0.9126\n",
      "Epoch 87/300\n",
      "41/41 [==============================] - 0s 2ms/step - loss: 0.3292 - accuracy: 0.8582 - precision: 0.8451 - recall: 0.8768 - auc: 0.9314 - prc: 0.9228 - val_loss: 0.3804 - val_accuracy: 0.8272 - val_precision: 0.8456 - val_recall: 0.8179 - val_auc: 0.9127 - val_prc: 0.9119\n",
      "Epoch 88/300\n",
      "41/41 [==============================] - 0s 2ms/step - loss: 0.3209 - accuracy: 0.8599 - precision: 0.8455 - recall: 0.8787 - auc: 0.9351 - prc: 0.9250 - val_loss: 0.3863 - val_accuracy: 0.8338 - val_precision: 0.8426 - val_recall: 0.8378 - val_auc: 0.9085 - val_prc: 0.9059\n",
      "Epoch 89/300\n",
      "41/41 [==============================] - 0s 2ms/step - loss: 0.3217 - accuracy: 0.8604 - precision: 0.8461 - recall: 0.8849 - auc: 0.9344 - prc: 0.9262 - val_loss: 0.3681 - val_accuracy: 0.8338 - val_precision: 0.8456 - val_recall: 0.8336 - val_auc: 0.9165 - val_prc: 0.9126\n",
      "Epoch 90/300\n",
      "41/41 [==============================] - 0s 2ms/step - loss: 0.3234 - accuracy: 0.8585 - precision: 0.8419 - recall: 0.8798 - auc: 0.9340 - prc: 0.9247 - val_loss: 0.3695 - val_accuracy: 0.8375 - val_precision: 0.8227 - val_recall: 0.8777 - val_auc: 0.9128 - val_prc: 0.9115\n",
      "Epoch 91/300\n",
      "41/41 [==============================] - 0s 2ms/step - loss: 0.3202 - accuracy: 0.8627 - precision: 0.8463 - recall: 0.8862 - auc: 0.9346 - prc: 0.9233 - val_loss: 0.3878 - val_accuracy: 0.8331 - val_precision: 0.8003 - val_recall: 0.9061 - val_auc: 0.9104 - val_prc: 0.9094\n",
      "Epoch 92/300\n",
      "41/41 [==============================] - 0s 2ms/step - loss: 0.3192 - accuracy: 0.8608 - precision: 0.8451 - recall: 0.8867 - auc: 0.9357 - prc: 0.9288 - val_loss: 0.3898 - val_accuracy: 0.8168 - val_precision: 0.8562 - val_recall: 0.7795 - val_auc: 0.9136 - val_prc: 0.9101\n",
      "Epoch 93/300\n",
      "41/41 [==============================] - 0s 2ms/step - loss: 0.3212 - accuracy: 0.8599 - precision: 0.8444 - recall: 0.8762 - auc: 0.9352 - prc: 0.9256 - val_loss: 0.3653 - val_accuracy: 0.8405 - val_precision: 0.8306 - val_recall: 0.8720 - val_auc: 0.9151 - val_prc: 0.9092\n",
      "Epoch 94/300\n",
      "41/41 [==============================] - 0s 2ms/step - loss: 0.3267 - accuracy: 0.8584 - precision: 0.8390 - recall: 0.8862 - auc: 0.9323 - prc: 0.9222 - val_loss: 0.3608 - val_accuracy: 0.8361 - val_precision: 0.8483 - val_recall: 0.8350 - val_auc: 0.9186 - val_prc: 0.9146\n",
      "Epoch 95/300\n",
      "41/41 [==============================] - 0s 2ms/step - loss: 0.3107 - accuracy: 0.8687 - precision: 0.8543 - recall: 0.8856 - auc: 0.9394 - prc: 0.9290 - val_loss: 0.3806 - val_accuracy: 0.8242 - val_precision: 0.8520 - val_recall: 0.8023 - val_auc: 0.9130 - val_prc: 0.9091\n",
      "Epoch 96/300\n",
      "41/41 [==============================] - 0s 2ms/step - loss: 0.3149 - accuracy: 0.8659 - precision: 0.8546 - recall: 0.8820 - auc: 0.9371 - prc: 0.9278 - val_loss: 0.4353 - val_accuracy: 0.7982 - val_precision: 0.8855 - val_recall: 0.7041 - val_auc: 0.9161 - val_prc: 0.9112\n",
      "Epoch 97/300\n",
      "41/41 [==============================] - 0s 2ms/step - loss: 0.3230 - accuracy: 0.8584 - precision: 0.8489 - recall: 0.8740 - auc: 0.9344 - prc: 0.9245 - val_loss: 0.3666 - val_accuracy: 0.8501 - val_precision: 0.8216 - val_recall: 0.9104 - val_auc: 0.9171 - val_prc: 0.9119\n",
      "Epoch 98/300\n",
      "41/41 [==============================] - 0s 2ms/step - loss: 0.3183 - accuracy: 0.8621 - precision: 0.8428 - recall: 0.8911 - auc: 0.9362 - prc: 0.9282 - val_loss: 0.3682 - val_accuracy: 0.8353 - val_precision: 0.8402 - val_recall: 0.8450 - val_auc: 0.9164 - val_prc: 0.9113\n",
      "Epoch 99/300\n",
      "41/41 [==============================] - 0s 2ms/step - loss: 0.3110 - accuracy: 0.8640 - precision: 0.8499 - recall: 0.8842 - auc: 0.9388 - prc: 0.9289 - val_loss: 0.3608 - val_accuracy: 0.8479 - val_precision: 0.8365 - val_recall: 0.8805 - val_auc: 0.9175 - val_prc: 0.9140\n",
      "Epoch 100/300\n",
      "41/41 [==============================] - 0s 2ms/step - loss: 0.3174 - accuracy: 0.8582 - precision: 0.8389 - recall: 0.8870 - auc: 0.9359 - prc: 0.9279 - val_loss: 0.3614 - val_accuracy: 0.8450 - val_precision: 0.8208 - val_recall: 0.8990 - val_auc: 0.9177 - val_prc: 0.9143\n",
      "Epoch 101/300\n",
      "41/41 [==============================] - 0s 2ms/step - loss: 0.3193 - accuracy: 0.8602 - precision: 0.8393 - recall: 0.8887 - auc: 0.9350 - prc: 0.9240 - val_loss: 0.3685 - val_accuracy: 0.8383 - val_precision: 0.8392 - val_recall: 0.8535 - val_auc: 0.9157 - val_prc: 0.9105\n",
      "Epoch 102/300\n",
      "41/41 [==============================] - 0s 3ms/step - loss: 0.2983 - accuracy: 0.8733 - precision: 0.8584 - recall: 0.8871 - auc: 0.9440 - prc: 0.9324 - val_loss: 0.3630 - val_accuracy: 0.8494 - val_precision: 0.8189 - val_recall: 0.9132 - val_auc: 0.9184 - val_prc: 0.9133\n",
      "Epoch 103/300\n",
      "41/41 [==============================] - 0s 2ms/step - loss: 0.3118 - accuracy: 0.8659 - precision: 0.8447 - recall: 0.8911 - auc: 0.9385 - prc: 0.9264 - val_loss: 0.3603 - val_accuracy: 0.8420 - val_precision: 0.8460 - val_recall: 0.8521 - val_auc: 0.9199 - val_prc: 0.9136\n",
      "Epoch 104/300\n",
      "41/41 [==============================] - 0s 2ms/step - loss: 0.3077 - accuracy: 0.8675 - precision: 0.8520 - recall: 0.8894 - auc: 0.9392 - prc: 0.9292 - val_loss: 0.3624 - val_accuracy: 0.8390 - val_precision: 0.8329 - val_recall: 0.8649 - val_auc: 0.9180 - val_prc: 0.9143\n",
      "Epoch 105/300\n",
      "41/41 [==============================] - 0s 2ms/step - loss: 0.2899 - accuracy: 0.8768 - precision: 0.8593 - recall: 0.8993 - auc: 0.9473 - prc: 0.9395 - val_loss: 0.3599 - val_accuracy: 0.8472 - val_precision: 0.8363 - val_recall: 0.8791 - val_auc: 0.9183 - val_prc: 0.9125\n",
      "Epoch 106/300\n",
      "41/41 [==============================] - 0s 2ms/step - loss: 0.3036 - accuracy: 0.8667 - precision: 0.8442 - recall: 0.8944 - auc: 0.9415 - prc: 0.9297 - val_loss: 0.3705 - val_accuracy: 0.8368 - val_precision: 0.8378 - val_recall: 0.8521 - val_auc: 0.9156 - val_prc: 0.9087\n",
      "Epoch 107/300\n",
      "41/41 [==============================] - 0s 2ms/step - loss: 0.3117 - accuracy: 0.8602 - precision: 0.8451 - recall: 0.8792 - auc: 0.9381 - prc: 0.9287 - val_loss: 0.3893 - val_accuracy: 0.8145 - val_precision: 0.8590 - val_recall: 0.7710 - val_auc: 0.9154 - val_prc: 0.9095\n",
      "Epoch 108/300\n",
      "41/41 [==============================] - 0s 2ms/step - loss: 0.3248 - accuracy: 0.8555 - precision: 0.8439 - recall: 0.8683 - auc: 0.9340 - prc: 0.9236 - val_loss: 0.3641 - val_accuracy: 0.8412 - val_precision: 0.8429 - val_recall: 0.8549 - val_auc: 0.9191 - val_prc: 0.9111\n",
      "Epoch 109/300\n",
      "41/41 [==============================] - 0s 2ms/step - loss: 0.3007 - accuracy: 0.8665 - precision: 0.8471 - recall: 0.8991 - auc: 0.9429 - prc: 0.9372 - val_loss: 0.3581 - val_accuracy: 0.8435 - val_precision: 0.8280 - val_recall: 0.8834 - val_auc: 0.9196 - val_prc: 0.9118\n",
      "Epoch 110/300\n",
      "41/41 [==============================] - 0s 2ms/step - loss: 0.3061 - accuracy: 0.8678 - precision: 0.8487 - recall: 0.8930 - auc: 0.9408 - prc: 0.9315 - val_loss: 0.3625 - val_accuracy: 0.8346 - val_precision: 0.8175 - val_recall: 0.8791 - val_auc: 0.9182 - val_prc: 0.9153\n",
      "Epoch 111/300\n",
      "41/41 [==============================] - 0s 2ms/step - loss: 0.3021 - accuracy: 0.8708 - precision: 0.8526 - recall: 0.8908 - auc: 0.9419 - prc: 0.9300 - val_loss: 0.4547 - val_accuracy: 0.7915 - val_precision: 0.8850 - val_recall: 0.6899 - val_auc: 0.9151 - val_prc: 0.9073\n",
      "Epoch 112/300\n",
      "41/41 [==============================] - 0s 2ms/step - loss: 0.3251 - accuracy: 0.8555 - precision: 0.8462 - recall: 0.8650 - auc: 0.9339 - prc: 0.9221 - val_loss: 0.3732 - val_accuracy: 0.8212 - val_precision: 0.8511 - val_recall: 0.7966 - val_auc: 0.9195 - val_prc: 0.9153\n",
      "Epoch 113/300\n"
     ]
    },
    {
     "name": "stdout",
     "output_type": "stream",
     "text": [
      "41/41 [==============================] - 0s 3ms/step - loss: 0.2919 - accuracy: 0.8753 - precision: 0.8600 - recall: 0.8921 - auc: 0.9460 - prc: 0.9335 - val_loss: 0.3776 - val_accuracy: 0.8361 - val_precision: 0.8404 - val_recall: 0.8464 - val_auc: 0.9164 - val_prc: 0.9136\n",
      "Epoch 114/300\n",
      "41/41 [==============================] - 0s 2ms/step - loss: 0.2943 - accuracy: 0.8751 - precision: 0.8540 - recall: 0.8988 - auc: 0.9455 - prc: 0.9349 - val_loss: 0.3624 - val_accuracy: 0.8442 - val_precision: 0.8363 - val_recall: 0.8720 - val_auc: 0.9181 - val_prc: 0.9093\n",
      "Epoch 115/300\n",
      "41/41 [==============================] - 0s 2ms/step - loss: 0.2958 - accuracy: 0.8733 - precision: 0.8512 - recall: 0.9047 - auc: 0.9444 - prc: 0.9356 - val_loss: 0.3664 - val_accuracy: 0.8286 - val_precision: 0.8440 - val_recall: 0.8236 - val_auc: 0.9189 - val_prc: 0.9083\n",
      "Epoch 116/300\n",
      "41/41 [==============================] - 0s 2ms/step - loss: 0.2917 - accuracy: 0.8699 - precision: 0.8535 - recall: 0.8888 - auc: 0.9459 - prc: 0.9370 - val_loss: 0.3635 - val_accuracy: 0.8450 - val_precision: 0.8250 - val_recall: 0.8919 - val_auc: 0.9176 - val_prc: 0.9102\n",
      "Epoch 117/300\n",
      "41/41 [==============================] - 0s 2ms/step - loss: 0.2968 - accuracy: 0.8697 - precision: 0.8477 - recall: 0.8987 - auc: 0.9441 - prc: 0.9353 - val_loss: 0.3555 - val_accuracy: 0.8435 - val_precision: 0.8298 - val_recall: 0.8805 - val_auc: 0.9202 - val_prc: 0.9155\n",
      "Epoch 118/300\n",
      "41/41 [==============================] - 0s 2ms/step - loss: 0.2932 - accuracy: 0.8769 - precision: 0.8600 - recall: 0.8981 - auc: 0.9455 - prc: 0.9367 - val_loss: 0.3575 - val_accuracy: 0.8450 - val_precision: 0.8365 - val_recall: 0.8734 - val_auc: 0.9194 - val_prc: 0.9119\n",
      "Epoch 119/300\n",
      "41/41 [==============================] - 0s 2ms/step - loss: 0.2911 - accuracy: 0.8800 - precision: 0.8632 - recall: 0.8991 - auc: 0.9463 - prc: 0.9354 - val_loss: 0.3719 - val_accuracy: 0.8361 - val_precision: 0.8453 - val_recall: 0.8393 - val_auc: 0.9181 - val_prc: 0.9154\n",
      "Epoch 120/300\n",
      "41/41 [==============================] - 0s 2ms/step - loss: 0.2840 - accuracy: 0.8815 - precision: 0.8641 - recall: 0.9081 - auc: 0.9488 - prc: 0.9428 - val_loss: 0.3551 - val_accuracy: 0.8501 - val_precision: 0.8318 - val_recall: 0.8933 - val_auc: 0.9205 - val_prc: 0.9115\n",
      "Epoch 121/300\n",
      "41/41 [==============================] - 0s 2ms/step - loss: 0.2846 - accuracy: 0.8788 - precision: 0.8594 - recall: 0.9047 - auc: 0.9484 - prc: 0.9394 - val_loss: 0.4066 - val_accuracy: 0.8131 - val_precision: 0.8752 - val_recall: 0.7482 - val_auc: 0.9184 - val_prc: 0.9091\n",
      "Epoch 122/300\n",
      "41/41 [==============================] - 0s 2ms/step - loss: 0.3023 - accuracy: 0.8664 - precision: 0.8578 - recall: 0.8809 - auc: 0.9421 - prc: 0.9331 - val_loss: 0.3600 - val_accuracy: 0.8412 - val_precision: 0.8188 - val_recall: 0.8933 - val_auc: 0.9207 - val_prc: 0.9185\n",
      "Epoch 123/300\n",
      "41/41 [==============================] - 0s 2ms/step - loss: 0.2999 - accuracy: 0.8696 - precision: 0.8516 - recall: 0.8922 - auc: 0.9420 - prc: 0.9295 - val_loss: 0.3783 - val_accuracy: 0.8279 - val_precision: 0.8663 - val_recall: 0.7923 - val_auc: 0.9210 - val_prc: 0.9144\n",
      "Epoch 124/300\n",
      "41/41 [==============================] - 0s 2ms/step - loss: 0.2979 - accuracy: 0.8710 - precision: 0.8587 - recall: 0.8851 - auc: 0.9433 - prc: 0.9322 - val_loss: 0.3770 - val_accuracy: 0.8353 - val_precision: 0.8627 - val_recall: 0.8137 - val_auc: 0.9180 - val_prc: 0.9099\n",
      "Epoch 125/300\n",
      "41/41 [==============================] - 0s 2ms/step - loss: 0.2855 - accuracy: 0.8741 - precision: 0.8601 - recall: 0.8943 - auc: 0.9477 - prc: 0.9404 - val_loss: 0.3584 - val_accuracy: 0.8435 - val_precision: 0.8514 - val_recall: 0.8478 - val_auc: 0.9215 - val_prc: 0.9175\n",
      "Epoch 126/300\n",
      "41/41 [==============================] - 0s 2ms/step - loss: 0.2894 - accuracy: 0.8748 - precision: 0.8567 - recall: 0.8961 - auc: 0.9465 - prc: 0.9359 - val_loss: 0.3762 - val_accuracy: 0.8301 - val_precision: 0.8395 - val_recall: 0.8336 - val_auc: 0.9147 - val_prc: 0.9069\n",
      "Epoch 127/300\n",
      "41/41 [==============================] - 0s 2ms/step - loss: 0.2887 - accuracy: 0.8743 - precision: 0.8577 - recall: 0.8922 - auc: 0.9467 - prc: 0.9357 - val_loss: 0.3521 - val_accuracy: 0.8442 - val_precision: 0.8300 - val_recall: 0.8819 - val_auc: 0.9223 - val_prc: 0.9154\n",
      "Epoch 128/300\n",
      "41/41 [==============================] - 0s 2ms/step - loss: 0.2856 - accuracy: 0.8778 - precision: 0.8588 - recall: 0.9044 - auc: 0.9478 - prc: 0.9394 - val_loss: 0.3508 - val_accuracy: 0.8450 - val_precision: 0.8489 - val_recall: 0.8549 - val_auc: 0.9243 - val_prc: 0.9166\n",
      "Epoch 129/300\n",
      "41/41 [==============================] - 0s 2ms/step - loss: 0.2784 - accuracy: 0.8789 - precision: 0.8581 - recall: 0.9070 - auc: 0.9505 - prc: 0.9432 - val_loss: 0.3931 - val_accuracy: 0.8427 - val_precision: 0.7845 - val_recall: 0.9630 - val_auc: 0.9236 - val_prc: 0.9171\n",
      "Epoch 130/300\n",
      "41/41 [==============================] - 0s 2ms/step - loss: 0.3078 - accuracy: 0.8631 - precision: 0.8417 - recall: 0.8936 - auc: 0.9403 - prc: 0.9303 - val_loss: 0.3601 - val_accuracy: 0.8442 - val_precision: 0.8448 - val_recall: 0.8592 - val_auc: 0.9210 - val_prc: 0.9154\n",
      "Epoch 131/300\n",
      "41/41 [==============================] - 0s 2ms/step - loss: 0.2812 - accuracy: 0.8793 - precision: 0.8609 - recall: 0.9050 - auc: 0.9498 - prc: 0.9423 - val_loss: 0.3506 - val_accuracy: 0.8539 - val_precision: 0.8355 - val_recall: 0.8962 - val_auc: 0.9230 - val_prc: 0.9162\n",
      "Epoch 132/300\n",
      "41/41 [==============================] - 0s 2ms/step - loss: 0.2833 - accuracy: 0.8767 - precision: 0.8584 - recall: 0.9029 - auc: 0.9484 - prc: 0.9415 - val_loss: 0.3596 - val_accuracy: 0.8442 - val_precision: 0.8588 - val_recall: 0.8393 - val_auc: 0.9223 - val_prc: 0.9161\n",
      "Epoch 133/300\n",
      "41/41 [==============================] - 0s 2ms/step - loss: 0.2844 - accuracy: 0.8780 - precision: 0.8643 - recall: 0.8973 - auc: 0.9482 - prc: 0.9405 - val_loss: 0.3566 - val_accuracy: 0.8450 - val_precision: 0.8087 - val_recall: 0.9203 - val_auc: 0.9225 - val_prc: 0.9154\n",
      "Epoch 134/300\n",
      "41/41 [==============================] - 0s 2ms/step - loss: 0.2950 - accuracy: 0.8719 - precision: 0.8465 - recall: 0.9101 - auc: 0.9454 - prc: 0.9366 - val_loss: 0.3508 - val_accuracy: 0.8509 - val_precision: 0.8365 - val_recall: 0.8876 - val_auc: 0.9217 - val_prc: 0.9114\n",
      "Epoch 135/300\n",
      "41/41 [==============================] - 0s 2ms/step - loss: 0.2839 - accuracy: 0.8768 - precision: 0.8612 - recall: 0.8973 - auc: 0.9484 - prc: 0.9396 - val_loss: 0.3575 - val_accuracy: 0.8479 - val_precision: 0.8439 - val_recall: 0.8691 - val_auc: 0.9229 - val_prc: 0.9167\n",
      "Epoch 136/300\n",
      "41/41 [==============================] - 0s 2ms/step - loss: 0.2808 - accuracy: 0.8818 - precision: 0.8664 - recall: 0.9015 - auc: 0.9499 - prc: 0.9420 - val_loss: 0.3560 - val_accuracy: 0.8501 - val_precision: 0.8275 - val_recall: 0.9004 - val_auc: 0.9217 - val_prc: 0.9157\n",
      "Epoch 137/300\n",
      "41/41 [==============================] - 0s 2ms/step - loss: 0.2717 - accuracy: 0.8858 - precision: 0.8652 - recall: 0.9159 - auc: 0.9527 - prc: 0.9454 - val_loss: 0.3470 - val_accuracy: 0.8524 - val_precision: 0.8490 - val_recall: 0.8720 - val_auc: 0.9254 - val_prc: 0.9203\n",
      "Epoch 138/300\n",
      "41/41 [==============================] - 0s 2ms/step - loss: 0.2738 - accuracy: 0.8845 - precision: 0.8672 - recall: 0.9086 - auc: 0.9517 - prc: 0.9437 - val_loss: 0.3633 - val_accuracy: 0.8353 - val_precision: 0.8552 - val_recall: 0.8236 - val_auc: 0.9220 - val_prc: 0.9118\n",
      "Epoch 139/300\n",
      "41/41 [==============================] - 0s 2ms/step - loss: 0.2735 - accuracy: 0.8828 - precision: 0.8696 - recall: 0.8993 - auc: 0.9520 - prc: 0.9421 - val_loss: 0.3618 - val_accuracy: 0.8405 - val_precision: 0.8578 - val_recall: 0.8321 - val_auc: 0.9216 - val_prc: 0.9109\n",
      "Epoch 140/300\n",
      "41/41 [==============================] - 0s 2ms/step - loss: 0.2784 - accuracy: 0.8836 - precision: 0.8671 - recall: 0.9047 - auc: 0.9506 - prc: 0.9415 - val_loss: 0.3770 - val_accuracy: 0.8346 - val_precision: 0.8692 - val_recall: 0.8037 - val_auc: 0.9223 - val_prc: 0.9107\n",
      "Epoch 141/300\n"
     ]
    },
    {
     "name": "stdout",
     "output_type": "stream",
     "text": [
      "41/41 [==============================] - 0s 2ms/step - loss: 0.2809 - accuracy: 0.8775 - precision: 0.8652 - recall: 0.8953 - auc: 0.9499 - prc: 0.9429 - val_loss: 0.3550 - val_accuracy: 0.8494 - val_precision: 0.8463 - val_recall: 0.8691 - val_auc: 0.9221 - val_prc: 0.9132\n",
      "Epoch 142/300\n",
      "41/41 [==============================] - 0s 2ms/step - loss: 0.2701 - accuracy: 0.8845 - precision: 0.8702 - recall: 0.9040 - auc: 0.9539 - prc: 0.9474 - val_loss: 0.3514 - val_accuracy: 0.8539 - val_precision: 0.8494 - val_recall: 0.8748 - val_auc: 0.9241 - val_prc: 0.9125\n",
      "Epoch 143/300\n",
      "41/41 [==============================] - 0s 2ms/step - loss: 0.2600 - accuracy: 0.8916 - precision: 0.8734 - recall: 0.9136 - auc: 0.9576 - prc: 0.9505 - val_loss: 0.3530 - val_accuracy: 0.8531 - val_precision: 0.8380 - val_recall: 0.8905 - val_auc: 0.9211 - val_prc: 0.9112\n",
      "Epoch 144/300\n",
      "41/41 [==============================] - 0s 2ms/step - loss: 0.2751 - accuracy: 0.8870 - precision: 0.8714 - recall: 0.9090 - auc: 0.9506 - prc: 0.9403 - val_loss: 0.3541 - val_accuracy: 0.8479 - val_precision: 0.8329 - val_recall: 0.8862 - val_auc: 0.9218 - val_prc: 0.9129\n",
      "Epoch 145/300\n",
      "41/41 [==============================] - 0s 2ms/step - loss: 0.2740 - accuracy: 0.8789 - precision: 0.8584 - recall: 0.9047 - auc: 0.9513 - prc: 0.9419 - val_loss: 0.3605 - val_accuracy: 0.8494 - val_precision: 0.8434 - val_recall: 0.8734 - val_auc: 0.9201 - val_prc: 0.9123\n",
      "Epoch 146/300\n",
      "41/41 [==============================] - 0s 2ms/step - loss: 0.2673 - accuracy: 0.8860 - precision: 0.8640 - recall: 0.9121 - auc: 0.9539 - prc: 0.9437 - val_loss: 0.3555 - val_accuracy: 0.8531 - val_precision: 0.8473 - val_recall: 0.8762 - val_auc: 0.9218 - val_prc: 0.9140\n",
      "Epoch 147/300\n",
      "41/41 [==============================] - 0s 2ms/step - loss: 0.2759 - accuracy: 0.8831 - precision: 0.8694 - recall: 0.9020 - auc: 0.9510 - prc: 0.9433 - val_loss: 0.3689 - val_accuracy: 0.8487 - val_precision: 0.8580 - val_recall: 0.8506 - val_auc: 0.9210 - val_prc: 0.9151\n",
      "Epoch 148/300\n",
      "41/41 [==============================] - 0s 2ms/step - loss: 0.2779 - accuracy: 0.8780 - precision: 0.8591 - recall: 0.9028 - auc: 0.9504 - prc: 0.9421 - val_loss: 0.3502 - val_accuracy: 0.8501 - val_precision: 0.8427 - val_recall: 0.8762 - val_auc: 0.9232 - val_prc: 0.9157\n",
      "Epoch 149/300\n",
      "41/41 [==============================] - 0s 2ms/step - loss: 0.2716 - accuracy: 0.8847 - precision: 0.8677 - recall: 0.9075 - auc: 0.9528 - prc: 0.9462 - val_loss: 0.3401 - val_accuracy: 0.8561 - val_precision: 0.8510 - val_recall: 0.8777 - val_auc: 0.9270 - val_prc: 0.9172\n",
      "Epoch 150/300\n",
      "41/41 [==============================] - 0s 3ms/step - loss: 0.2681 - accuracy: 0.8840 - precision: 0.8644 - recall: 0.9093 - auc: 0.9541 - prc: 0.9463 - val_loss: 0.3636 - val_accuracy: 0.8487 - val_precision: 0.8099 - val_recall: 0.9275 - val_auc: 0.9237 - val_prc: 0.9167\n",
      "Epoch 151/300\n",
      "41/41 [==============================] - 0s 2ms/step - loss: 0.2749 - accuracy: 0.8801 - precision: 0.8571 - recall: 0.9102 - auc: 0.9519 - prc: 0.9442 - val_loss: 0.3788 - val_accuracy: 0.8375 - val_precision: 0.8667 - val_recall: 0.8137 - val_auc: 0.9209 - val_prc: 0.9095\n",
      "Epoch 152/300\n",
      "41/41 [==============================] - 0s 2ms/step - loss: 0.2691 - accuracy: 0.8846 - precision: 0.8744 - recall: 0.8981 - auc: 0.9543 - prc: 0.9461 - val_loss: 0.3495 - val_accuracy: 0.8568 - val_precision: 0.8204 - val_recall: 0.9289 - val_auc: 0.9253 - val_prc: 0.9165\n",
      "Epoch 153/300\n",
      "41/41 [==============================] - 0s 2ms/step - loss: 0.2702 - accuracy: 0.8866 - precision: 0.8649 - recall: 0.9207 - auc: 0.9528 - prc: 0.9456 - val_loss: 0.3552 - val_accuracy: 0.8472 - val_precision: 0.8418 - val_recall: 0.8706 - val_auc: 0.9247 - val_prc: 0.9174\n",
      "Epoch 154/300\n",
      "41/41 [==============================] - 0s 2ms/step - loss: 0.2683 - accuracy: 0.8860 - precision: 0.8656 - recall: 0.9153 - auc: 0.9533 - prc: 0.9463 - val_loss: 0.3502 - val_accuracy: 0.8501 - val_precision: 0.8427 - val_recall: 0.8762 - val_auc: 0.9254 - val_prc: 0.9169\n",
      "Epoch 155/300\n",
      "41/41 [==============================] - 0s 2ms/step - loss: 0.2779 - accuracy: 0.8809 - precision: 0.8625 - recall: 0.9066 - auc: 0.9504 - prc: 0.9432 - val_loss: 0.3497 - val_accuracy: 0.8472 - val_precision: 0.8318 - val_recall: 0.8862 - val_auc: 0.9254 - val_prc: 0.9165\n",
      "Epoch 156/300\n",
      "41/41 [==============================] - 0s 2ms/step - loss: 0.2689 - accuracy: 0.8824 - precision: 0.8654 - recall: 0.9036 - auc: 0.9533 - prc: 0.9462 - val_loss: 0.3542 - val_accuracy: 0.8568 - val_precision: 0.8391 - val_recall: 0.8976 - val_auc: 0.9227 - val_prc: 0.9125\n",
      "Epoch 157/300\n",
      "41/41 [==============================] - 0s 2ms/step - loss: 0.2690 - accuracy: 0.8872 - precision: 0.8658 - recall: 0.9150 - auc: 0.9538 - prc: 0.9453 - val_loss: 0.3486 - val_accuracy: 0.8576 - val_precision: 0.8384 - val_recall: 0.9004 - val_auc: 0.9259 - val_prc: 0.9188\n",
      "Epoch 158/300\n",
      "41/41 [==============================] - 0s 2ms/step - loss: 0.2613 - accuracy: 0.8873 - precision: 0.8705 - recall: 0.9060 - auc: 0.9564 - prc: 0.9487 - val_loss: 0.3549 - val_accuracy: 0.8487 - val_precision: 0.8559 - val_recall: 0.8535 - val_auc: 0.9258 - val_prc: 0.9196\n",
      "Epoch 159/300\n",
      "41/41 [==============================] - 0s 2ms/step - loss: 0.2618 - accuracy: 0.8897 - precision: 0.8717 - recall: 0.9144 - auc: 0.9560 - prc: 0.9486 - val_loss: 0.3593 - val_accuracy: 0.8539 - val_precision: 0.8211 - val_recall: 0.9203 - val_auc: 0.9238 - val_prc: 0.9152\n",
      "Epoch 160/300\n",
      "41/41 [==============================] - 0s 2ms/step - loss: 0.2593 - accuracy: 0.8915 - precision: 0.8679 - recall: 0.9211 - auc: 0.9572 - prc: 0.9508 - val_loss: 0.3480 - val_accuracy: 0.8561 - val_precision: 0.8425 - val_recall: 0.8905 - val_auc: 0.9260 - val_prc: 0.9159\n",
      "Epoch 161/300\n",
      "41/41 [==============================] - 0s 2ms/step - loss: 0.2579 - accuracy: 0.8894 - precision: 0.8724 - recall: 0.9126 - auc: 0.9575 - prc: 0.9509 - val_loss: 0.3490 - val_accuracy: 0.8591 - val_precision: 0.8577 - val_recall: 0.8748 - val_auc: 0.9269 - val_prc: 0.9173\n",
      "Epoch 162/300\n",
      "41/41 [==============================] - 0s 2ms/step - loss: 0.2556 - accuracy: 0.8904 - precision: 0.8761 - recall: 0.9118 - auc: 0.9576 - prc: 0.9509 - val_loss: 0.3517 - val_accuracy: 0.8561 - val_precision: 0.8550 - val_recall: 0.8720 - val_auc: 0.9257 - val_prc: 0.9166\n",
      "Epoch 163/300\n",
      "41/41 [==============================] - 0s 2ms/step - loss: 0.2641 - accuracy: 0.8869 - precision: 0.8657 - recall: 0.9134 - auc: 0.9549 - prc: 0.9472 - val_loss: 0.3542 - val_accuracy: 0.8457 - val_precision: 0.8377 - val_recall: 0.8734 - val_auc: 0.9245 - val_prc: 0.9191\n",
      "Epoch 164/300\n",
      "41/41 [==============================] - 0s 2ms/step - loss: 0.2552 - accuracy: 0.8930 - precision: 0.8709 - recall: 0.9195 - auc: 0.9581 - prc: 0.9493 - val_loss: 0.3479 - val_accuracy: 0.8546 - val_precision: 0.8526 - val_recall: 0.8720 - val_auc: 0.9256 - val_prc: 0.9161\n",
      "Epoch 165/300\n",
      "41/41 [==============================] - 0s 2ms/step - loss: 0.2602 - accuracy: 0.8880 - precision: 0.8739 - recall: 0.9023 - auc: 0.9568 - prc: 0.9489 - val_loss: 0.3439 - val_accuracy: 0.8635 - val_precision: 0.8483 - val_recall: 0.8990 - val_auc: 0.9258 - val_prc: 0.9179\n",
      "Epoch 166/300\n",
      "41/41 [==============================] - 0s 2ms/step - loss: 0.2568 - accuracy: 0.8899 - precision: 0.8667 - recall: 0.9215 - auc: 0.9574 - prc: 0.9498 - val_loss: 0.3502 - val_accuracy: 0.8605 - val_precision: 0.8581 - val_recall: 0.8777 - val_auc: 0.9260 - val_prc: 0.9152\n",
      "Epoch 167/300\n",
      "41/41 [==============================] - 0s 2ms/step - loss: 0.2575 - accuracy: 0.8871 - precision: 0.8679 - recall: 0.9119 - auc: 0.9578 - prc: 0.9518 - val_loss: 0.3725 - val_accuracy: 0.8405 - val_precision: 0.8664 - val_recall: 0.8208 - val_auc: 0.9244 - val_prc: 0.9160\n",
      "Epoch 168/300\n",
      "41/41 [==============================] - 0s 2ms/step - loss: 0.2598 - accuracy: 0.8883 - precision: 0.8713 - recall: 0.9085 - auc: 0.9570 - prc: 0.9490 - val_loss: 0.3588 - val_accuracy: 0.8524 - val_precision: 0.8433 - val_recall: 0.8805 - val_auc: 0.9238 - val_prc: 0.9128\n",
      "Epoch 169/300\n"
     ]
    },
    {
     "name": "stdout",
     "output_type": "stream",
     "text": [
      "41/41 [==============================] - 0s 2ms/step - loss: 0.2579 - accuracy: 0.8904 - precision: 0.8703 - recall: 0.9112 - auc: 0.9575 - prc: 0.9495 - val_loss: 0.3806 - val_accuracy: 0.8338 - val_precision: 0.8690 - val_recall: 0.8023 - val_auc: 0.9237 - val_prc: 0.9138\n",
      "Epoch 170/300\n",
      "41/41 [==============================] - 0s 2ms/step - loss: 0.2620 - accuracy: 0.8895 - precision: 0.8771 - recall: 0.9056 - auc: 0.9555 - prc: 0.9477 - val_loss: 0.3553 - val_accuracy: 0.8487 - val_precision: 0.8519 - val_recall: 0.8592 - val_auc: 0.9270 - val_prc: 0.9197\n",
      "Epoch 171/300\n",
      "41/41 [==============================] - 0s 2ms/step - loss: 0.2485 - accuracy: 0.8936 - precision: 0.8771 - recall: 0.9134 - auc: 0.9602 - prc: 0.9531 - val_loss: 0.3480 - val_accuracy: 0.8591 - val_precision: 0.8628 - val_recall: 0.8677 - val_auc: 0.9285 - val_prc: 0.9197\n",
      "Epoch 172/300\n",
      "41/41 [==============================] - 0s 2ms/step - loss: 0.2517 - accuracy: 0.8954 - precision: 0.8787 - recall: 0.9173 - auc: 0.9590 - prc: 0.9520 - val_loss: 0.3863 - val_accuracy: 0.8301 - val_precision: 0.8703 - val_recall: 0.7923 - val_auc: 0.9256 - val_prc: 0.9166\n",
      "Epoch 173/300\n",
      "41/41 [==============================] - 0s 2ms/step - loss: 0.2513 - accuracy: 0.8956 - precision: 0.8799 - recall: 0.9151 - auc: 0.9591 - prc: 0.9507 - val_loss: 0.3525 - val_accuracy: 0.8576 - val_precision: 0.8271 - val_recall: 0.9189 - val_auc: 0.9269 - val_prc: 0.9193\n",
      "Epoch 174/300\n",
      "41/41 [==============================] - 0s 2ms/step - loss: 0.2462 - accuracy: 0.8968 - precision: 0.8766 - recall: 0.9244 - auc: 0.9606 - prc: 0.9544 - val_loss: 0.3783 - val_accuracy: 0.8420 - val_precision: 0.8701 - val_recall: 0.8193 - val_auc: 0.9210 - val_prc: 0.9084\n",
      "Epoch 175/300\n",
      "41/41 [==============================] - 0s 2ms/step - loss: 0.2514 - accuracy: 0.8951 - precision: 0.8749 - recall: 0.9202 - auc: 0.9590 - prc: 0.9483 - val_loss: 0.3472 - val_accuracy: 0.8613 - val_precision: 0.8573 - val_recall: 0.8805 - val_auc: 0.9272 - val_prc: 0.9183\n",
      "Epoch 176/300\n",
      "41/41 [==============================] - 0s 2ms/step - loss: 0.2570 - accuracy: 0.8898 - precision: 0.8725 - recall: 0.9149 - auc: 0.9569 - prc: 0.9490 - val_loss: 0.3497 - val_accuracy: 0.8605 - val_precision: 0.8289 - val_recall: 0.9232 - val_auc: 0.9264 - val_prc: 0.9176\n",
      "Epoch 177/300\n",
      "41/41 [==============================] - 0s 2ms/step - loss: 0.2558 - accuracy: 0.8898 - precision: 0.8678 - recall: 0.9195 - auc: 0.9583 - prc: 0.9521 - val_loss: 0.3477 - val_accuracy: 0.8553 - val_precision: 0.8396 - val_recall: 0.8933 - val_auc: 0.9272 - val_prc: 0.9192\n",
      "Epoch 178/300\n",
      "41/41 [==============================] - 0s 2ms/step - loss: 0.2512 - accuracy: 0.8910 - precision: 0.8675 - recall: 0.9198 - auc: 0.9595 - prc: 0.9523 - val_loss: 0.3468 - val_accuracy: 0.8524 - val_precision: 0.8369 - val_recall: 0.8905 - val_auc: 0.9270 - val_prc: 0.9180\n",
      "Epoch 179/300\n",
      "41/41 [==============================] - 0s 2ms/step - loss: 0.2542 - accuracy: 0.8913 - precision: 0.8715 - recall: 0.9164 - auc: 0.9586 - prc: 0.9513 - val_loss: 0.3539 - val_accuracy: 0.8657 - val_precision: 0.8321 - val_recall: 0.9303 - val_auc: 0.9266 - val_prc: 0.9177\n",
      "Epoch 180/300\n",
      "41/41 [==============================] - 0s 2ms/step - loss: 0.2557 - accuracy: 0.8903 - precision: 0.8646 - recall: 0.9223 - auc: 0.9587 - prc: 0.9515 - val_loss: 0.3496 - val_accuracy: 0.8546 - val_precision: 0.8449 - val_recall: 0.8834 - val_auc: 0.9265 - val_prc: 0.9166\n",
      "Epoch 181/300\n",
      "41/41 [==============================] - 0s 2ms/step - loss: 0.2417 - accuracy: 0.8970 - precision: 0.8812 - recall: 0.9172 - auc: 0.9625 - prc: 0.9572 - val_loss: 0.3492 - val_accuracy: 0.8702 - val_precision: 0.8657 - val_recall: 0.8890 - val_auc: 0.9271 - val_prc: 0.9158\n",
      "Epoch 182/300\n",
      "41/41 [==============================] - 0s 2ms/step - loss: 0.2462 - accuracy: 0.8928 - precision: 0.8787 - recall: 0.9130 - auc: 0.9615 - prc: 0.9563 - val_loss: 0.3477 - val_accuracy: 0.8642 - val_precision: 0.8514 - val_recall: 0.8962 - val_auc: 0.9270 - val_prc: 0.9162\n",
      "Epoch 183/300\n",
      "41/41 [==============================] - 0s 2ms/step - loss: 0.2381 - accuracy: 0.9013 - precision: 0.8819 - recall: 0.9267 - auc: 0.9639 - prc: 0.9593 - val_loss: 0.3571 - val_accuracy: 0.8598 - val_precision: 0.8579 - val_recall: 0.8762 - val_auc: 0.9236 - val_prc: 0.9129\n",
      "Epoch 184/300\n",
      "41/41 [==============================] - 0s 2ms/step - loss: 0.2408 - accuracy: 0.8987 - precision: 0.8799 - recall: 0.9232 - auc: 0.9628 - prc: 0.9569 - val_loss: 0.3558 - val_accuracy: 0.8583 - val_precision: 0.8395 - val_recall: 0.9004 - val_auc: 0.9243 - val_prc: 0.9141\n",
      "Epoch 185/300\n",
      "41/41 [==============================] - 0s 2ms/step - loss: 0.2445 - accuracy: 0.8936 - precision: 0.8720 - recall: 0.9169 - auc: 0.9612 - prc: 0.9527 - val_loss: 0.3707 - val_accuracy: 0.8516 - val_precision: 0.8156 - val_recall: 0.9246 - val_auc: 0.9241 - val_prc: 0.9152\n",
      "Epoch 186/300\n",
      "41/41 [==============================] - 0s 2ms/step - loss: 0.2475 - accuracy: 0.8960 - precision: 0.8730 - recall: 0.9246 - auc: 0.9602 - prc: 0.9524 - val_loss: 0.3651 - val_accuracy: 0.8487 - val_precision: 0.8600 - val_recall: 0.8478 - val_auc: 0.9249 - val_prc: 0.9149\n",
      "Epoch 187/300\n",
      "41/41 [==============================] - 0s 2ms/step - loss: 0.2576 - accuracy: 0.8912 - precision: 0.8719 - recall: 0.9161 - auc: 0.9573 - prc: 0.9496 - val_loss: 0.3602 - val_accuracy: 0.8613 - val_precision: 0.8258 - val_recall: 0.9303 - val_auc: 0.9260 - val_prc: 0.9153\n",
      "Epoch 188/300\n",
      "41/41 [==============================] - 0s 2ms/step - loss: 0.2397 - accuracy: 0.9010 - precision: 0.8769 - recall: 0.9299 - auc: 0.9636 - prc: 0.9575 - val_loss: 0.3576 - val_accuracy: 0.8598 - val_precision: 0.8682 - val_recall: 0.8620 - val_auc: 0.9276 - val_prc: 0.9162\n",
      "Epoch 189/300\n",
      "41/41 [==============================] - 0s 2ms/step - loss: 0.2427 - accuracy: 0.8979 - precision: 0.8821 - recall: 0.9180 - auc: 0.9620 - prc: 0.9551 - val_loss: 0.3421 - val_accuracy: 0.8635 - val_precision: 0.8465 - val_recall: 0.9018 - val_auc: 0.9285 - val_prc: 0.9207\n",
      "Epoch 190/300\n",
      "41/41 [==============================] - 0s 2ms/step - loss: 0.2403 - accuracy: 0.8993 - precision: 0.8802 - recall: 0.9216 - auc: 0.9625 - prc: 0.9550 - val_loss: 0.3794 - val_accuracy: 0.8516 - val_precision: 0.8034 - val_recall: 0.9474 - val_auc: 0.9258 - val_prc: 0.9165\n",
      "Epoch 191/300\n",
      "41/41 [==============================] - 0s 2ms/step - loss: 0.2637 - accuracy: 0.8847 - precision: 0.8622 - recall: 0.9191 - auc: 0.9559 - prc: 0.9515 - val_loss: 0.3676 - val_accuracy: 0.8509 - val_precision: 0.8659 - val_recall: 0.8450 - val_auc: 0.9272 - val_prc: 0.9192\n",
      "Epoch 192/300\n",
      "41/41 [==============================] - 0s 2ms/step - loss: 0.2439 - accuracy: 0.8941 - precision: 0.8775 - recall: 0.9130 - auc: 0.9620 - prc: 0.9548 - val_loss: 0.3429 - val_accuracy: 0.8702 - val_precision: 0.8438 - val_recall: 0.9218 - val_auc: 0.9299 - val_prc: 0.9204\n",
      "Epoch 193/300\n",
      "41/41 [==============================] - 0s 2ms/step - loss: 0.2351 - accuracy: 0.9030 - precision: 0.8857 - recall: 0.9227 - auc: 0.9645 - prc: 0.9574 - val_loss: 0.3841 - val_accuracy: 0.8442 - val_precision: 0.8775 - val_recall: 0.8151 - val_auc: 0.9260 - val_prc: 0.9165\n",
      "Epoch 194/300\n",
      "41/41 [==============================] - 0s 2ms/step - loss: 0.2498 - accuracy: 0.8914 - precision: 0.8749 - recall: 0.9142 - auc: 0.9597 - prc: 0.9534 - val_loss: 0.3430 - val_accuracy: 0.8650 - val_precision: 0.8370 - val_recall: 0.9203 - val_auc: 0.9302 - val_prc: 0.9214\n",
      "Epoch 195/300\n",
      "41/41 [==============================] - 0s 2ms/step - loss: 0.2337 - accuracy: 0.9009 - precision: 0.8825 - recall: 0.9249 - auc: 0.9654 - prc: 0.9600 - val_loss: 0.3421 - val_accuracy: 0.8680 - val_precision: 0.8562 - val_recall: 0.8976 - val_auc: 0.9308 - val_prc: 0.9234\n",
      "Epoch 196/300\n",
      "41/41 [==============================] - 0s 2ms/step - loss: 0.2338 - accuracy: 0.9056 - precision: 0.8853 - recall: 0.9315 - auc: 0.9640 - prc: 0.9573 - val_loss: 0.3632 - val_accuracy: 0.8635 - val_precision: 0.8599 - val_recall: 0.8819 - val_auc: 0.9255 - val_prc: 0.9147\n",
      "Epoch 197/300\n"
     ]
    },
    {
     "name": "stdout",
     "output_type": "stream",
     "text": [
      "41/41 [==============================] - 0s 2ms/step - loss: 0.2313 - accuracy: 0.9010 - precision: 0.8867 - recall: 0.9188 - auc: 0.9657 - prc: 0.9590 - val_loss: 0.3667 - val_accuracy: 0.8635 - val_precision: 0.8200 - val_recall: 0.9459 - val_auc: 0.9266 - val_prc: 0.9171\n",
      "Epoch 198/300\n",
      "41/41 [==============================] - 0s 3ms/step - loss: 0.2496 - accuracy: 0.8908 - precision: 0.8700 - recall: 0.9166 - auc: 0.9601 - prc: 0.9524 - val_loss: 0.3464 - val_accuracy: 0.8620 - val_precision: 0.8498 - val_recall: 0.8933 - val_auc: 0.9297 - val_prc: 0.9217\n",
      "Epoch 199/300\n",
      "41/41 [==============================] - 0s 2ms/step - loss: 0.2346 - accuracy: 0.9016 - precision: 0.8821 - recall: 0.9262 - auc: 0.9646 - prc: 0.9585 - val_loss: 0.3732 - val_accuracy: 0.8524 - val_precision: 0.8631 - val_recall: 0.8521 - val_auc: 0.9232 - val_prc: 0.9125\n",
      "Epoch 200/300\n",
      "41/41 [==============================] - 0s 2ms/step - loss: 0.2404 - accuracy: 0.9012 - precision: 0.8854 - recall: 0.9218 - auc: 0.9624 - prc: 0.9564 - val_loss: 0.3551 - val_accuracy: 0.8576 - val_precision: 0.8420 - val_recall: 0.8947 - val_auc: 0.9244 - val_prc: 0.9152\n",
      "Epoch 201/300\n",
      "41/41 [==============================] - 0s 2ms/step - loss: 0.2430 - accuracy: 0.8985 - precision: 0.8791 - recall: 0.9192 - auc: 0.9622 - prc: 0.9540 - val_loss: 0.3693 - val_accuracy: 0.8531 - val_precision: 0.8344 - val_recall: 0.8962 - val_auc: 0.9235 - val_prc: 0.9162\n",
      "Epoch 202/300\n",
      "41/41 [==============================] - 0s 2ms/step - loss: 0.2330 - accuracy: 0.9023 - precision: 0.8790 - recall: 0.9330 - auc: 0.9652 - prc: 0.9585 - val_loss: 0.3466 - val_accuracy: 0.8628 - val_precision: 0.8329 - val_recall: 0.9218 - val_auc: 0.9301 - val_prc: 0.9228\n",
      "Epoch 203/300\n",
      "41/41 [==============================] - 0s 2ms/step - loss: 0.2522 - accuracy: 0.8946 - precision: 0.8734 - recall: 0.9241 - auc: 0.9593 - prc: 0.9540 - val_loss: 0.3686 - val_accuracy: 0.8457 - val_precision: 0.8656 - val_recall: 0.8336 - val_auc: 0.9257 - val_prc: 0.9147\n",
      "Epoch 204/300\n",
      "41/41 [==============================] - 0s 2ms/step - loss: 0.2461 - accuracy: 0.8978 - precision: 0.8835 - recall: 0.9186 - auc: 0.9609 - prc: 0.9551 - val_loss: 0.3647 - val_accuracy: 0.8516 - val_precision: 0.8650 - val_recall: 0.8478 - val_auc: 0.9272 - val_prc: 0.9168\n",
      "Epoch 205/300\n",
      "41/41 [==============================] - 0s 2ms/step - loss: 0.2297 - accuracy: 0.9038 - precision: 0.8864 - recall: 0.9248 - auc: 0.9660 - prc: 0.9600 - val_loss: 0.3527 - val_accuracy: 0.8509 - val_precision: 0.8374 - val_recall: 0.8862 - val_auc: 0.9253 - val_prc: 0.9137\n",
      "Epoch 206/300\n",
      "41/41 [==============================] - 0s 3ms/step - loss: 0.2381 - accuracy: 0.8992 - precision: 0.8822 - recall: 0.9217 - auc: 0.9628 - prc: 0.9560 - val_loss: 0.3811 - val_accuracy: 0.8509 - val_precision: 0.8091 - val_recall: 0.9346 - val_auc: 0.9230 - val_prc: 0.9143\n",
      "Epoch 207/300\n",
      "41/41 [==============================] - 0s 2ms/step - loss: 0.2460 - accuracy: 0.8959 - precision: 0.8752 - recall: 0.9226 - auc: 0.9607 - prc: 0.9536 - val_loss: 0.3730 - val_accuracy: 0.8546 - val_precision: 0.8596 - val_recall: 0.8620 - val_auc: 0.9273 - val_prc: 0.9169\n",
      "Epoch 208/300\n",
      "41/41 [==============================] - 0s 2ms/step - loss: 0.2420 - accuracy: 0.8975 - precision: 0.8796 - recall: 0.9160 - auc: 0.9621 - prc: 0.9535 - val_loss: 0.3669 - val_accuracy: 0.8620 - val_precision: 0.8227 - val_recall: 0.9374 - val_auc: 0.9278 - val_prc: 0.9203\n",
      "Epoch 209/300\n",
      "41/41 [==============================] - 0s 2ms/step - loss: 0.2339 - accuracy: 0.9024 - precision: 0.8811 - recall: 0.9324 - auc: 0.9648 - prc: 0.9595 - val_loss: 0.3603 - val_accuracy: 0.8628 - val_precision: 0.8453 - val_recall: 0.9018 - val_auc: 0.9249 - val_prc: 0.9171\n",
      "Epoch 210/300\n",
      "41/41 [==============================] - 0s 2ms/step - loss: 0.2303 - accuracy: 0.9056 - precision: 0.8886 - recall: 0.9297 - auc: 0.9659 - prc: 0.9608 - val_loss: 0.3751 - val_accuracy: 0.8501 - val_precision: 0.8615 - val_recall: 0.8492 - val_auc: 0.9247 - val_prc: 0.9132\n",
      "Epoch 211/300\n",
      "41/41 [==============================] - 0s 2ms/step - loss: 0.2364 - accuracy: 0.8974 - precision: 0.8811 - recall: 0.9151 - auc: 0.9637 - prc: 0.9560 - val_loss: 0.3557 - val_accuracy: 0.8665 - val_precision: 0.8482 - val_recall: 0.9061 - val_auc: 0.9263 - val_prc: 0.9156\n",
      "Epoch 212/300\n",
      "41/41 [==============================] - 0s 2ms/step - loss: 0.2411 - accuracy: 0.8980 - precision: 0.8735 - recall: 0.9277 - auc: 0.9620 - prc: 0.9540 - val_loss: 0.3618 - val_accuracy: 0.8605 - val_precision: 0.8632 - val_recall: 0.8706 - val_auc: 0.9262 - val_prc: 0.9168\n",
      "Epoch 213/300\n",
      "41/41 [==============================] - 0s 2ms/step - loss: 0.2350 - accuracy: 0.9020 - precision: 0.8865 - recall: 0.9200 - auc: 0.9643 - prc: 0.9567 - val_loss: 0.3640 - val_accuracy: 0.8576 - val_precision: 0.8375 - val_recall: 0.9018 - val_auc: 0.9264 - val_prc: 0.9160\n",
      "Epoch 214/300\n",
      "41/41 [==============================] - 0s 2ms/step - loss: 0.2332 - accuracy: 0.9014 - precision: 0.8792 - recall: 0.9280 - auc: 0.9653 - prc: 0.9600 - val_loss: 0.3499 - val_accuracy: 0.8702 - val_precision: 0.8385 - val_recall: 0.9303 - val_auc: 0.9289 - val_prc: 0.9162\n",
      "Epoch 215/300\n",
      "41/41 [==============================] - 0s 2ms/step - loss: 0.2224 - accuracy: 0.9073 - precision: 0.8872 - recall: 0.9319 - auc: 0.9683 - prc: 0.9633 - val_loss: 0.3639 - val_accuracy: 0.8546 - val_precision: 0.8468 - val_recall: 0.8805 - val_auc: 0.9252 - val_prc: 0.9162\n",
      "Epoch 216/300\n",
      "41/41 [==============================] - 0s 2ms/step - loss: 0.2357 - accuracy: 0.8962 - precision: 0.8738 - recall: 0.9229 - auc: 0.9644 - prc: 0.9585 - val_loss: 0.3536 - val_accuracy: 0.8628 - val_precision: 0.8364 - val_recall: 0.9161 - val_auc: 0.9269 - val_prc: 0.9162\n",
      "Epoch 217/300\n",
      "41/41 [==============================] - 0s 2ms/step - loss: 0.2271 - accuracy: 0.9087 - precision: 0.8853 - recall: 0.9371 - auc: 0.9664 - prc: 0.9598 - val_loss: 0.3487 - val_accuracy: 0.8642 - val_precision: 0.8430 - val_recall: 0.9090 - val_auc: 0.9294 - val_prc: 0.9205\n",
      "Epoch 218/300\n",
      "41/41 [==============================] - 0s 3ms/step - loss: 0.2231 - accuracy: 0.9078 - precision: 0.8880 - recall: 0.9310 - auc: 0.9679 - prc: 0.9616 - val_loss: 0.3606 - val_accuracy: 0.8665 - val_precision: 0.8392 - val_recall: 0.9203 - val_auc: 0.9275 - val_prc: 0.9190\n",
      "Epoch 219/300\n",
      "41/41 [==============================] - 0s 2ms/step - loss: 0.2399 - accuracy: 0.8978 - precision: 0.8735 - recall: 0.9305 - auc: 0.9629 - prc: 0.9566 - val_loss: 0.3552 - val_accuracy: 0.8546 - val_precision: 0.8627 - val_recall: 0.8578 - val_auc: 0.9289 - val_prc: 0.9208\n",
      "Epoch 220/300\n",
      "41/41 [==============================] - 0s 2ms/step - loss: 0.2210 - accuracy: 0.9078 - precision: 0.8943 - recall: 0.9225 - auc: 0.9688 - prc: 0.9631 - val_loss: 0.3519 - val_accuracy: 0.8635 - val_precision: 0.8609 - val_recall: 0.8805 - val_auc: 0.9288 - val_prc: 0.9174\n",
      "Epoch 221/300\n",
      "41/41 [==============================] - 0s 2ms/step - loss: 0.2222 - accuracy: 0.9077 - precision: 0.8896 - recall: 0.9299 - auc: 0.9679 - prc: 0.9620 - val_loss: 0.3582 - val_accuracy: 0.8620 - val_precision: 0.8636 - val_recall: 0.8734 - val_auc: 0.9296 - val_prc: 0.9185\n",
      "Epoch 222/300\n",
      "41/41 [==============================] - 0s 2ms/step - loss: 0.2260 - accuracy: 0.9083 - precision: 0.8883 - recall: 0.9348 - auc: 0.9668 - prc: 0.9606 - val_loss: 0.3611 - val_accuracy: 0.8598 - val_precision: 0.8355 - val_recall: 0.9104 - val_auc: 0.9260 - val_prc: 0.9177\n",
      "Epoch 223/300\n",
      "41/41 [==============================] - 0s 2ms/step - loss: 0.2251 - accuracy: 0.9087 - precision: 0.8882 - recall: 0.9362 - auc: 0.9670 - prc: 0.9625 - val_loss: 0.3598 - val_accuracy: 0.8598 - val_precision: 0.8454 - val_recall: 0.8947 - val_auc: 0.9262 - val_prc: 0.9145\n",
      "Epoch 224/300\n",
      "41/41 [==============================] - 0s 2ms/step - loss: 0.2268 - accuracy: 0.9063 - precision: 0.8848 - recall: 0.9312 - auc: 0.9670 - prc: 0.9599 - val_loss: 0.3451 - val_accuracy: 0.8680 - val_precision: 0.8449 - val_recall: 0.9147 - val_auc: 0.9299 - val_prc: 0.9185\n",
      "Epoch 225/300\n"
     ]
    },
    {
     "name": "stdout",
     "output_type": "stream",
     "text": [
      "41/41 [==============================] - 0s 2ms/step - loss: 0.2276 - accuracy: 0.9034 - precision: 0.8829 - recall: 0.9305 - auc: 0.9663 - prc: 0.9610 - val_loss: 0.3476 - val_accuracy: 0.8702 - val_precision: 0.8465 - val_recall: 0.9175 - val_auc: 0.9304 - val_prc: 0.9225\n",
      "Epoch 226/300\n",
      "41/41 [==============================] - 0s 2ms/step - loss: 0.2272 - accuracy: 0.9049 - precision: 0.8857 - recall: 0.9264 - auc: 0.9662 - prc: 0.9588 - val_loss: 0.3705 - val_accuracy: 0.8546 - val_precision: 0.8403 - val_recall: 0.8905 - val_auc: 0.9259 - val_prc: 0.9191\n",
      "Epoch 227/300\n",
      "41/41 [==============================] - 0s 2ms/step - loss: 0.2298 - accuracy: 0.9035 - precision: 0.8825 - recall: 0.9266 - auc: 0.9659 - prc: 0.9590 - val_loss: 0.3756 - val_accuracy: 0.8464 - val_precision: 0.8636 - val_recall: 0.8378 - val_auc: 0.9239 - val_prc: 0.9139\n",
      "Epoch 228/300\n",
      "41/41 [==============================] - 0s 2ms/step - loss: 0.2249 - accuracy: 0.9042 - precision: 0.8894 - recall: 0.9243 - auc: 0.9671 - prc: 0.9619 - val_loss: 0.3681 - val_accuracy: 0.8605 - val_precision: 0.8612 - val_recall: 0.8734 - val_auc: 0.9250 - val_prc: 0.9142\n",
      "Epoch 229/300\n",
      "41/41 [==============================] - 0s 2ms/step - loss: 0.2279 - accuracy: 0.9049 - precision: 0.8868 - recall: 0.9270 - auc: 0.9663 - prc: 0.9596 - val_loss: 0.3758 - val_accuracy: 0.8509 - val_precision: 0.8606 - val_recall: 0.8521 - val_auc: 0.9272 - val_prc: 0.9176\n",
      "Epoch 230/300\n",
      "41/41 [==============================] - 0s 2ms/step - loss: 0.2266 - accuracy: 0.9047 - precision: 0.8875 - recall: 0.9267 - auc: 0.9663 - prc: 0.9600 - val_loss: 0.3582 - val_accuracy: 0.8605 - val_precision: 0.8591 - val_recall: 0.8762 - val_auc: 0.9283 - val_prc: 0.9166\n",
      "Epoch 231/300\n",
      "41/41 [==============================] - 0s 2ms/step - loss: 0.2262 - accuracy: 0.9069 - precision: 0.8882 - recall: 0.9309 - auc: 0.9664 - prc: 0.9601 - val_loss: 0.3708 - val_accuracy: 0.8598 - val_precision: 0.8464 - val_recall: 0.8933 - val_auc: 0.9276 - val_prc: 0.9212\n",
      "Epoch 232/300\n",
      "41/41 [==============================] - 0s 2ms/step - loss: 0.2241 - accuracy: 0.9064 - precision: 0.8842 - recall: 0.9301 - auc: 0.9674 - prc: 0.9605 - val_loss: 0.3557 - val_accuracy: 0.8665 - val_precision: 0.8409 - val_recall: 0.9175 - val_auc: 0.9271 - val_prc: 0.9167\n",
      "Epoch 233/300\n",
      "41/41 [==============================] - 0s 2ms/step - loss: 0.2169 - accuracy: 0.9117 - precision: 0.8927 - recall: 0.9355 - auc: 0.9696 - prc: 0.9650 - val_loss: 0.3531 - val_accuracy: 0.8687 - val_precision: 0.8593 - val_recall: 0.8947 - val_auc: 0.9302 - val_prc: 0.9218\n",
      "Epoch 234/300\n",
      "41/41 [==============================] - 0s 2ms/step - loss: 0.2153 - accuracy: 0.9082 - precision: 0.8895 - recall: 0.9300 - auc: 0.9698 - prc: 0.9646 - val_loss: 0.3582 - val_accuracy: 0.8650 - val_precision: 0.8573 - val_recall: 0.8890 - val_auc: 0.9280 - val_prc: 0.9175\n",
      "Epoch 235/300\n",
      "41/41 [==============================] - 0s 2ms/step - loss: 0.2215 - accuracy: 0.9079 - precision: 0.8887 - recall: 0.9334 - auc: 0.9680 - prc: 0.9630 - val_loss: 0.3676 - val_accuracy: 0.8531 - val_precision: 0.8353 - val_recall: 0.8947 - val_auc: 0.9255 - val_prc: 0.9168\n",
      "Epoch 236/300\n",
      "41/41 [==============================] - 0s 2ms/step - loss: 0.2299 - accuracy: 0.9006 - precision: 0.8813 - recall: 0.9244 - auc: 0.9659 - prc: 0.9600 - val_loss: 0.3634 - val_accuracy: 0.8709 - val_precision: 0.8378 - val_recall: 0.9331 - val_auc: 0.9289 - val_prc: 0.9180\n",
      "Epoch 237/300\n",
      "41/41 [==============================] - 0s 2ms/step - loss: 0.2278 - accuracy: 0.9034 - precision: 0.8862 - recall: 0.9255 - auc: 0.9664 - prc: 0.9610 - val_loss: 0.3685 - val_accuracy: 0.8613 - val_precision: 0.8593 - val_recall: 0.8777 - val_auc: 0.9258 - val_prc: 0.9147\n",
      "Epoch 238/300\n",
      "41/41 [==============================] - 0s 2ms/step - loss: 0.2138 - accuracy: 0.9169 - precision: 0.8996 - recall: 0.9383 - auc: 0.9702 - prc: 0.9653 - val_loss: 0.3582 - val_accuracy: 0.8739 - val_precision: 0.8530 - val_recall: 0.9161 - val_auc: 0.9295 - val_prc: 0.9198\n",
      "Epoch 239/300\n",
      "41/41 [==============================] - 0s 2ms/step - loss: 0.2148 - accuracy: 0.9109 - precision: 0.8914 - recall: 0.9325 - auc: 0.9702 - prc: 0.9649 - val_loss: 0.3623 - val_accuracy: 0.8642 - val_precision: 0.8672 - val_recall: 0.8734 - val_auc: 0.9275 - val_prc: 0.9158\n",
      "Epoch 240/300\n",
      "41/41 [==============================] - 0s 2ms/step - loss: 0.2298 - accuracy: 0.9072 - precision: 0.8884 - recall: 0.9309 - auc: 0.9654 - prc: 0.9578 - val_loss: 0.3741 - val_accuracy: 0.8539 - val_precision: 0.8534 - val_recall: 0.8691 - val_auc: 0.9231 - val_prc: 0.9107\n",
      "Epoch 241/300\n",
      "41/41 [==============================] - 0s 2ms/step - loss: 0.2225 - accuracy: 0.9096 - precision: 0.8890 - recall: 0.9371 - auc: 0.9681 - prc: 0.9632 - val_loss: 0.3549 - val_accuracy: 0.8709 - val_precision: 0.8522 - val_recall: 0.9104 - val_auc: 0.9289 - val_prc: 0.9210\n",
      "Epoch 242/300\n",
      "41/41 [==============================] - 0s 2ms/step - loss: 0.2105 - accuracy: 0.9173 - precision: 0.8985 - recall: 0.9388 - auc: 0.9712 - prc: 0.9647 - val_loss: 0.3610 - val_accuracy: 0.8598 - val_precision: 0.8492 - val_recall: 0.8890 - val_auc: 0.9280 - val_prc: 0.9187\n",
      "Epoch 243/300\n",
      "41/41 [==============================] - 0s 2ms/step - loss: 0.2141 - accuracy: 0.9133 - precision: 0.8956 - recall: 0.9348 - auc: 0.9704 - prc: 0.9641 - val_loss: 0.3669 - val_accuracy: 0.8553 - val_precision: 0.8671 - val_recall: 0.8535 - val_auc: 0.9278 - val_prc: 0.9177\n",
      "Epoch 244/300\n",
      "41/41 [==============================] - 0s 2ms/step - loss: 0.2143 - accuracy: 0.9126 - precision: 0.8908 - recall: 0.9372 - auc: 0.9702 - prc: 0.9634 - val_loss: 0.3648 - val_accuracy: 0.8561 - val_precision: 0.8510 - val_recall: 0.8777 - val_auc: 0.9270 - val_prc: 0.9173\n",
      "Epoch 245/300\n",
      "41/41 [==============================] - 0s 2ms/step - loss: 0.2209 - accuracy: 0.9115 - precision: 0.8901 - recall: 0.9416 - auc: 0.9681 - prc: 0.9629 - val_loss: 0.3611 - val_accuracy: 0.8702 - val_precision: 0.8455 - val_recall: 0.9189 - val_auc: 0.9297 - val_prc: 0.9213\n",
      "Epoch 246/300\n",
      "41/41 [==============================] - 0s 2ms/step - loss: 0.2240 - accuracy: 0.9066 - precision: 0.8849 - recall: 0.9326 - auc: 0.9675 - prc: 0.9614 - val_loss: 0.3578 - val_accuracy: 0.8665 - val_precision: 0.8597 - val_recall: 0.8890 - val_auc: 0.9281 - val_prc: 0.9161\n",
      "Epoch 247/300\n",
      "41/41 [==============================] - 0s 2ms/step - loss: 0.2140 - accuracy: 0.9166 - precision: 0.8987 - recall: 0.9411 - auc: 0.9699 - prc: 0.9655 - val_loss: 0.3756 - val_accuracy: 0.8628 - val_precision: 0.8721 - val_recall: 0.8634 - val_auc: 0.9289 - val_prc: 0.9218\n",
      "Epoch 248/300\n",
      "41/41 [==============================] - 0s 2ms/step - loss: 0.2183 - accuracy: 0.9102 - precision: 0.8953 - recall: 0.9307 - auc: 0.9689 - prc: 0.9642 - val_loss: 0.3894 - val_accuracy: 0.8531 - val_precision: 0.8612 - val_recall: 0.8563 - val_auc: 0.9228 - val_prc: 0.9086\n",
      "Epoch 249/300\n",
      "41/41 [==============================] - 0s 2ms/step - loss: 0.2249 - accuracy: 0.9053 - precision: 0.8849 - recall: 0.9289 - auc: 0.9671 - prc: 0.9617 - val_loss: 0.3569 - val_accuracy: 0.8680 - val_precision: 0.8514 - val_recall: 0.9047 - val_auc: 0.9277 - val_prc: 0.9173\n",
      "Epoch 250/300\n",
      "41/41 [==============================] - 0s 2ms/step - loss: 0.2198 - accuracy: 0.9078 - precision: 0.8854 - recall: 0.9356 - auc: 0.9688 - prc: 0.9623 - val_loss: 0.3703 - val_accuracy: 0.8576 - val_precision: 0.8604 - val_recall: 0.8677 - val_auc: 0.9268 - val_prc: 0.9179\n",
      "Epoch 251/300\n",
      "41/41 [==============================] - 0s 2ms/step - loss: 0.2131 - accuracy: 0.9130 - precision: 0.8978 - recall: 0.9295 - auc: 0.9702 - prc: 0.9633 - val_loss: 0.3792 - val_accuracy: 0.8657 - val_precision: 0.8312 - val_recall: 0.9317 - val_auc: 0.9292 - val_prc: 0.9212\n",
      "Epoch 252/300\n",
      "41/41 [==============================] - 0s 2ms/step - loss: 0.2238 - accuracy: 0.9069 - precision: 0.8875 - recall: 0.9295 - auc: 0.9676 - prc: 0.9609 - val_loss: 0.3642 - val_accuracy: 0.8642 - val_precision: 0.8631 - val_recall: 0.8791 - val_auc: 0.9268 - val_prc: 0.9178\n",
      "Epoch 253/300\n"
     ]
    },
    {
     "name": "stdout",
     "output_type": "stream",
     "text": [
      "41/41 [==============================] - 0s 2ms/step - loss: 0.2045 - accuracy: 0.9167 - precision: 0.9012 - recall: 0.9353 - auc: 0.9731 - prc: 0.9685 - val_loss: 0.3707 - val_accuracy: 0.8598 - val_precision: 0.8630 - val_recall: 0.8691 - val_auc: 0.9273 - val_prc: 0.9170\n",
      "Epoch 254/300\n",
      "41/41 [==============================] - 0s 2ms/step - loss: 0.2095 - accuracy: 0.9114 - precision: 0.8946 - recall: 0.9320 - auc: 0.9708 - prc: 0.9656 - val_loss: 0.3697 - val_accuracy: 0.8568 - val_precision: 0.8632 - val_recall: 0.8620 - val_auc: 0.9296 - val_prc: 0.9216\n",
      "Epoch 255/300\n",
      "41/41 [==============================] - 0s 2ms/step - loss: 0.2098 - accuracy: 0.9149 - precision: 0.8979 - recall: 0.9378 - auc: 0.9712 - prc: 0.9669 - val_loss: 0.3726 - val_accuracy: 0.8553 - val_precision: 0.8703 - val_recall: 0.8492 - val_auc: 0.9282 - val_prc: 0.9174\n",
      "Epoch 256/300\n",
      "41/41 [==============================] - 0s 2ms/step - loss: 0.2183 - accuracy: 0.9103 - precision: 0.8935 - recall: 0.9336 - auc: 0.9688 - prc: 0.9633 - val_loss: 0.4184 - val_accuracy: 0.8294 - val_precision: 0.8678 - val_recall: 0.7937 - val_auc: 0.9204 - val_prc: 0.9095\n",
      "Epoch 257/300\n",
      "41/41 [==============================] - 0s 2ms/step - loss: 0.2214 - accuracy: 0.9068 - precision: 0.8930 - recall: 0.9244 - auc: 0.9680 - prc: 0.9620 - val_loss: 0.3780 - val_accuracy: 0.8605 - val_precision: 0.8632 - val_recall: 0.8706 - val_auc: 0.9265 - val_prc: 0.9154\n",
      "Epoch 258/300\n",
      "41/41 [==============================] - 0s 2ms/step - loss: 0.2116 - accuracy: 0.9135 - precision: 0.8962 - recall: 0.9361 - auc: 0.9711 - prc: 0.9663 - val_loss: 0.4244 - val_accuracy: 0.8338 - val_precision: 0.8832 - val_recall: 0.7852 - val_auc: 0.9273 - val_prc: 0.9164\n",
      "Epoch 259/300\n",
      "41/41 [==============================] - 0s 2ms/step - loss: 0.2239 - accuracy: 0.9039 - precision: 0.8909 - recall: 0.9210 - auc: 0.9677 - prc: 0.9626 - val_loss: 0.3607 - val_accuracy: 0.8702 - val_precision: 0.8577 - val_recall: 0.9004 - val_auc: 0.9300 - val_prc: 0.9212\n",
      "Epoch 260/300\n",
      "41/41 [==============================] - 0s 3ms/step - loss: 0.2028 - accuracy: 0.9167 - precision: 0.9002 - recall: 0.9366 - auc: 0.9736 - prc: 0.9697 - val_loss: 0.3529 - val_accuracy: 0.8731 - val_precision: 0.8528 - val_recall: 0.9147 - val_auc: 0.9314 - val_prc: 0.9227\n",
      "Epoch 261/300\n",
      "41/41 [==============================] - 0s 2ms/step - loss: 0.2145 - accuracy: 0.9139 - precision: 0.8938 - recall: 0.9408 - auc: 0.9702 - prc: 0.9667 - val_loss: 0.3753 - val_accuracy: 0.8702 - val_precision: 0.8317 - val_recall: 0.9417 - val_auc: 0.9270 - val_prc: 0.9134\n",
      "Epoch 262/300\n",
      "41/41 [==============================] - 0s 2ms/step - loss: 0.2318 - accuracy: 0.9050 - precision: 0.8812 - recall: 0.9378 - auc: 0.9656 - prc: 0.9616 - val_loss: 0.3806 - val_accuracy: 0.8561 - val_precision: 0.8694 - val_recall: 0.8521 - val_auc: 0.9280 - val_prc: 0.9159\n",
      "Epoch 263/300\n",
      "41/41 [==============================] - 0s 2ms/step - loss: 0.2194 - accuracy: 0.9078 - precision: 0.8897 - recall: 0.9335 - auc: 0.9686 - prc: 0.9641 - val_loss: 0.3524 - val_accuracy: 0.8717 - val_precision: 0.8562 - val_recall: 0.9061 - val_auc: 0.9299 - val_prc: 0.9191\n",
      "Epoch 264/300\n",
      "41/41 [==============================] - 0s 2ms/step - loss: 0.2171 - accuracy: 0.9113 - precision: 0.8906 - recall: 0.9339 - auc: 0.9695 - prc: 0.9625 - val_loss: 0.3892 - val_accuracy: 0.8613 - val_precision: 0.8177 - val_recall: 0.9445 - val_auc: 0.9258 - val_prc: 0.9145\n",
      "Epoch 265/300\n",
      "41/41 [==============================] - 0s 2ms/step - loss: 0.2309 - accuracy: 0.9001 - precision: 0.8802 - recall: 0.9264 - auc: 0.9656 - prc: 0.9591 - val_loss: 0.3529 - val_accuracy: 0.8680 - val_precision: 0.8552 - val_recall: 0.8990 - val_auc: 0.9300 - val_prc: 0.9189\n",
      "Epoch 266/300\n",
      "41/41 [==============================] - 0s 2ms/step - loss: 0.2156 - accuracy: 0.9111 - precision: 0.8964 - recall: 0.9300 - auc: 0.9698 - prc: 0.9650 - val_loss: 0.3683 - val_accuracy: 0.8680 - val_precision: 0.8514 - val_recall: 0.9047 - val_auc: 0.9267 - val_prc: 0.9156\n",
      "Epoch 267/300\n",
      "41/41 [==============================] - 0s 2ms/step - loss: 0.2220 - accuracy: 0.9102 - precision: 0.8866 - recall: 0.9383 - auc: 0.9678 - prc: 0.9612 - val_loss: 0.3953 - val_accuracy: 0.8494 - val_precision: 0.8613 - val_recall: 0.8478 - val_auc: 0.9256 - val_prc: 0.9183\n",
      "Epoch 268/300\n",
      "41/41 [==============================] - 0s 2ms/step - loss: 0.2082 - accuracy: 0.9124 - precision: 0.8961 - recall: 0.9325 - auc: 0.9714 - prc: 0.9660 - val_loss: 0.3507 - val_accuracy: 0.8702 - val_precision: 0.8548 - val_recall: 0.9047 - val_auc: 0.9320 - val_prc: 0.9219\n",
      "Epoch 269/300\n",
      "41/41 [==============================] - 0s 2ms/step - loss: 0.2040 - accuracy: 0.9157 - precision: 0.8957 - recall: 0.9414 - auc: 0.9733 - prc: 0.9694 - val_loss: 0.3660 - val_accuracy: 0.8650 - val_precision: 0.8302 - val_recall: 0.9317 - val_auc: 0.9293 - val_prc: 0.9193\n",
      "Epoch 270/300\n",
      "41/41 [==============================] - 0s 2ms/step - loss: 0.2082 - accuracy: 0.9167 - precision: 0.8972 - recall: 0.9396 - auc: 0.9724 - prc: 0.9683 - val_loss: 0.3795 - val_accuracy: 0.8561 - val_precision: 0.8748 - val_recall: 0.8450 - val_auc: 0.9282 - val_prc: 0.9166\n",
      "Epoch 271/300\n",
      "41/41 [==============================] - 0s 2ms/step - loss: 0.2090 - accuracy: 0.9178 - precision: 0.9022 - recall: 0.9363 - auc: 0.9713 - prc: 0.9657 - val_loss: 0.3875 - val_accuracy: 0.8524 - val_precision: 0.8549 - val_recall: 0.8634 - val_auc: 0.9254 - val_prc: 0.9166\n",
      "Epoch 272/300\n",
      "41/41 [==============================] - 0s 2ms/step - loss: 0.2105 - accuracy: 0.9129 - precision: 0.8934 - recall: 0.9356 - auc: 0.9709 - prc: 0.9638 - val_loss: 0.3850 - val_accuracy: 0.8665 - val_precision: 0.8209 - val_recall: 0.9516 - val_auc: 0.9292 - val_prc: 0.9157\n",
      "Epoch 273/300\n",
      "41/41 [==============================] - 0s 2ms/step - loss: 0.2194 - accuracy: 0.9071 - precision: 0.8865 - recall: 0.9334 - auc: 0.9690 - prc: 0.9647 - val_loss: 0.3616 - val_accuracy: 0.8665 - val_precision: 0.8520 - val_recall: 0.9004 - val_auc: 0.9292 - val_prc: 0.9191\n",
      "Epoch 274/300\n",
      "41/41 [==============================] - 0s 2ms/step - loss: 0.2037 - accuracy: 0.9186 - precision: 0.8988 - recall: 0.9431 - auc: 0.9726 - prc: 0.9673 - val_loss: 0.3666 - val_accuracy: 0.8650 - val_precision: 0.8396 - val_recall: 0.9161 - val_auc: 0.9292 - val_prc: 0.9195\n",
      "Epoch 275/300\n",
      "41/41 [==============================] - 0s 2ms/step - loss: 0.2125 - accuracy: 0.9095 - precision: 0.8954 - recall: 0.9262 - auc: 0.9708 - prc: 0.9659 - val_loss: 0.3672 - val_accuracy: 0.8724 - val_precision: 0.8526 - val_recall: 0.9132 - val_auc: 0.9294 - val_prc: 0.9188\n",
      "Epoch 276/300\n",
      "41/41 [==============================] - 0s 2ms/step - loss: 0.2036 - accuracy: 0.9201 - precision: 0.9003 - recall: 0.9444 - auc: 0.9729 - prc: 0.9684 - val_loss: 0.4006 - val_accuracy: 0.8464 - val_precision: 0.8701 - val_recall: 0.8293 - val_auc: 0.9287 - val_prc: 0.9202\n",
      "Epoch 277/300\n",
      "41/41 [==============================] - 0s 2ms/step - loss: 0.2101 - accuracy: 0.9161 - precision: 0.8994 - recall: 0.9373 - auc: 0.9706 - prc: 0.9640 - val_loss: 0.3770 - val_accuracy: 0.8657 - val_precision: 0.8287 - val_recall: 0.9360 - val_auc: 0.9273 - val_prc: 0.9123\n",
      "Epoch 278/300\n",
      "41/41 [==============================] - 0s 2ms/step - loss: 0.2157 - accuracy: 0.9084 - precision: 0.8906 - recall: 0.9312 - auc: 0.9700 - prc: 0.9662 - val_loss: 0.3686 - val_accuracy: 0.8798 - val_precision: 0.8527 - val_recall: 0.9303 - val_auc: 0.9276 - val_prc: 0.9152\n",
      "Epoch 279/300\n",
      "41/41 [==============================] - 0s 2ms/step - loss: 0.2111 - accuracy: 0.9140 - precision: 0.8932 - recall: 0.9393 - auc: 0.9705 - prc: 0.9647 - val_loss: 0.3603 - val_accuracy: 0.8657 - val_precision: 0.8434 - val_recall: 0.9118 - val_auc: 0.9319 - val_prc: 0.9207\n",
      "Epoch 280/300\n",
      "41/41 [==============================] - 0s 2ms/step - loss: 0.2118 - accuracy: 0.9104 - precision: 0.8871 - recall: 0.9403 - auc: 0.9714 - prc: 0.9669 - val_loss: 0.3617 - val_accuracy: 0.8687 - val_precision: 0.8372 - val_recall: 0.9289 - val_auc: 0.9277 - val_prc: 0.9141\n",
      "Epoch 281/300\n"
     ]
    },
    {
     "name": "stdout",
     "output_type": "stream",
     "text": [
      "41/41 [==============================] - 0s 2ms/step - loss: 0.1922 - accuracy: 0.9261 - precision: 0.9070 - recall: 0.9482 - auc: 0.9761 - prc: 0.9719 - val_loss: 0.3599 - val_accuracy: 0.8694 - val_precision: 0.8340 - val_recall: 0.9360 - val_auc: 0.9321 - val_prc: 0.9195\n",
      "Epoch 282/300\n",
      "41/41 [==============================] - 0s 2ms/step - loss: 0.2240 - accuracy: 0.9071 - precision: 0.8863 - recall: 0.9337 - auc: 0.9676 - prc: 0.9612 - val_loss: 0.3751 - val_accuracy: 0.8635 - val_precision: 0.8734 - val_recall: 0.8634 - val_auc: 0.9307 - val_prc: 0.9222\n",
      "Epoch 283/300\n",
      "41/41 [==============================] - 0s 2ms/step - loss: 0.1999 - accuracy: 0.9190 - precision: 0.9025 - recall: 0.9370 - auc: 0.9742 - prc: 0.9692 - val_loss: 0.3699 - val_accuracy: 0.8687 - val_precision: 0.8407 - val_recall: 0.9232 - val_auc: 0.9269 - val_prc: 0.9121\n",
      "Epoch 284/300\n",
      "41/41 [==============================] - 0s 2ms/step - loss: 0.2128 - accuracy: 0.9123 - precision: 0.8919 - recall: 0.9345 - auc: 0.9709 - prc: 0.9657 - val_loss: 0.4110 - val_accuracy: 0.8375 - val_precision: 0.8769 - val_recall: 0.8009 - val_auc: 0.9289 - val_prc: 0.9213\n",
      "Epoch 285/300\n",
      "41/41 [==============================] - 0s 2ms/step - loss: 0.2120 - accuracy: 0.9118 - precision: 0.8976 - recall: 0.9254 - auc: 0.9708 - prc: 0.9648 - val_loss: 0.4134 - val_accuracy: 0.8472 - val_precision: 0.8692 - val_recall: 0.8321 - val_auc: 0.9238 - val_prc: 0.9160\n",
      "Epoch 286/300\n",
      "41/41 [==============================] - 0s 2ms/step - loss: 0.2137 - accuracy: 0.9130 - precision: 0.8975 - recall: 0.9350 - auc: 0.9698 - prc: 0.9643 - val_loss: 0.3959 - val_accuracy: 0.8620 - val_precision: 0.8719 - val_recall: 0.8620 - val_auc: 0.9246 - val_prc: 0.9144\n",
      "Epoch 287/300\n",
      "41/41 [==============================] - 0s 2ms/step - loss: 0.2001 - accuracy: 0.9184 - precision: 0.9030 - recall: 0.9365 - auc: 0.9740 - prc: 0.9690 - val_loss: 0.4063 - val_accuracy: 0.8598 - val_precision: 0.8089 - val_recall: 0.9573 - val_auc: 0.9280 - val_prc: 0.9157\n",
      "Epoch 288/300\n",
      "41/41 [==============================] - 0s 2ms/step - loss: 0.2189 - accuracy: 0.9111 - precision: 0.8843 - recall: 0.9467 - auc: 0.9693 - prc: 0.9630 - val_loss: 0.3614 - val_accuracy: 0.8724 - val_precision: 0.8517 - val_recall: 0.9147 - val_auc: 0.9278 - val_prc: 0.9149\n",
      "Epoch 289/300\n",
      "41/41 [==============================] - 0s 2ms/step - loss: 0.1948 - accuracy: 0.9199 - precision: 0.8998 - recall: 0.9451 - auc: 0.9755 - prc: 0.9715 - val_loss: 0.3834 - val_accuracy: 0.8494 - val_precision: 0.8582 - val_recall: 0.8521 - val_auc: 0.9264 - val_prc: 0.9180\n",
      "Epoch 290/300\n",
      "41/41 [==============================] - 0s 2ms/step - loss: 0.2086 - accuracy: 0.9153 - precision: 0.8981 - recall: 0.9361 - auc: 0.9717 - prc: 0.9660 - val_loss: 0.3602 - val_accuracy: 0.8731 - val_precision: 0.8473 - val_recall: 0.9232 - val_auc: 0.9320 - val_prc: 0.9216\n",
      "Epoch 291/300\n",
      "41/41 [==============================] - 0s 2ms/step - loss: 0.2034 - accuracy: 0.9172 - precision: 0.8922 - recall: 0.9466 - auc: 0.9733 - prc: 0.9671 - val_loss: 0.3556 - val_accuracy: 0.8591 - val_precision: 0.8425 - val_recall: 0.8976 - val_auc: 0.9315 - val_prc: 0.9188\n",
      "Epoch 292/300\n",
      "41/41 [==============================] - 0s 2ms/step - loss: 0.2306 - accuracy: 0.9036 - precision: 0.8914 - recall: 0.9182 - auc: 0.9655 - prc: 0.9589 - val_loss: 0.3575 - val_accuracy: 0.8709 - val_precision: 0.8503 - val_recall: 0.9132 - val_auc: 0.9320 - val_prc: 0.9219\n",
      "Epoch 293/300\n",
      "41/41 [==============================] - 0s 2ms/step - loss: 0.1928 - accuracy: 0.9223 - precision: 0.9022 - recall: 0.9479 - auc: 0.9756 - prc: 0.9711 - val_loss: 0.3618 - val_accuracy: 0.8635 - val_precision: 0.8340 - val_recall: 0.9218 - val_auc: 0.9309 - val_prc: 0.9196\n",
      "Epoch 294/300\n",
      "41/41 [==============================] - 0s 2ms/step - loss: 0.1920 - accuracy: 0.9255 - precision: 0.9028 - recall: 0.9514 - auc: 0.9756 - prc: 0.9704 - val_loss: 0.3900 - val_accuracy: 0.8546 - val_precision: 0.8767 - val_recall: 0.8393 - val_auc: 0.9286 - val_prc: 0.9154\n",
      "Epoch 295/300\n",
      "41/41 [==============================] - 0s 2ms/step - loss: 0.2001 - accuracy: 0.9222 - precision: 0.9050 - recall: 0.9407 - auc: 0.9741 - prc: 0.9685 - val_loss: 0.3689 - val_accuracy: 0.8665 - val_precision: 0.8454 - val_recall: 0.9104 - val_auc: 0.9285 - val_prc: 0.9177\n",
      "Epoch 296/300\n",
      "41/41 [==============================] - 0s 2ms/step - loss: 0.1999 - accuracy: 0.9205 - precision: 0.8978 - recall: 0.9474 - auc: 0.9740 - prc: 0.9690 - val_loss: 0.3713 - val_accuracy: 0.8642 - val_precision: 0.8403 - val_recall: 0.9132 - val_auc: 0.9285 - val_prc: 0.9152\n",
      "Epoch 297/300\n",
      "41/41 [==============================] - 0s 2ms/step - loss: 0.2059 - accuracy: 0.9164 - precision: 0.8973 - recall: 0.9386 - auc: 0.9726 - prc: 0.9673 - val_loss: 0.3602 - val_accuracy: 0.8672 - val_precision: 0.8560 - val_recall: 0.8962 - val_auc: 0.9296 - val_prc: 0.9192\n",
      "Epoch 298/300\n",
      "41/41 [==============================] - 0s 2ms/step - loss: 0.1981 - accuracy: 0.9206 - precision: 0.9018 - recall: 0.9421 - auc: 0.9739 - prc: 0.9675 - val_loss: 0.3861 - val_accuracy: 0.8539 - val_precision: 0.8688 - val_recall: 0.8478 - val_auc: 0.9282 - val_prc: 0.9171\n",
      "Epoch 299/300\n",
      "41/41 [==============================] - 0s 2ms/step - loss: 0.2071 - accuracy: 0.9153 - precision: 0.8930 - recall: 0.9399 - auc: 0.9722 - prc: 0.9661 - val_loss: 0.3749 - val_accuracy: 0.8635 - val_precision: 0.8702 - val_recall: 0.8677 - val_auc: 0.9299 - val_prc: 0.9187\n",
      "Epoch 300/300\n",
      "41/41 [==============================] - 0s 2ms/step - loss: 0.1998 - accuracy: 0.9172 - precision: 0.9002 - recall: 0.9342 - auc: 0.9736 - prc: 0.9678 - val_loss: 0.3832 - val_accuracy: 0.8657 - val_precision: 0.8537 - val_recall: 0.8962 - val_auc: 0.9260 - val_prc: 0.9143\n"
     ]
    }
   ],
   "source": [
    "model_history = Model.fit(xtrain, ytrain, batch_size= 300, epochs= 300, validation_split=.1)"
   ]
  },
  {
   "cell_type": "code",
   "execution_count": 367,
   "id": "bd4f2630",
   "metadata": {
    "scrolled": true
   },
   "outputs": [
    {
     "name": "stdout",
     "output_type": "stream",
     "text": [
      "Model: \"sequential_14\"\n",
      "_________________________________________________________________\n",
      "Layer (type)                 Output Shape              Param #   \n",
      "=================================================================\n",
      "flatten_13 (Flatten)         (None, 13)                0         \n",
      "_________________________________________________________________\n",
      "dense_62 (Dense)             (None, 100)               1400      \n",
      "_________________________________________________________________\n",
      "dense_63 (Dense)             (None, 50)                5050      \n",
      "_________________________________________________________________\n",
      "dense_64 (Dense)             (None, 30)                1530      \n",
      "_________________________________________________________________\n",
      "dense_65 (Dense)             (None, 10)                310       \n",
      "_________________________________________________________________\n",
      "dense_66 (Dense)             (None, 1)                 11        \n",
      "=================================================================\n",
      "Total params: 8,301\n",
      "Trainable params: 8,301\n",
      "Non-trainable params: 0\n",
      "_________________________________________________________________\n",
      "None\n"
     ]
    }
   ],
   "source": [
    "print(Model.summary())"
   ]
  },
  {
   "cell_type": "code",
   "execution_count": 368,
   "id": "b3d31f78",
   "metadata": {
    "scrolled": true
   },
   "outputs": [],
   "source": [
    "dd = pd.DataFrame(model_history.history)\n",
    "# dd.sort_values('val_precision', ascending=False)"
   ]
  },
  {
   "cell_type": "code",
   "execution_count": 369,
   "id": "844d8e56",
   "metadata": {},
   "outputs": [],
   "source": [
    "# for i in dd.columns:\n",
    "    \n",
    "#     plt.plot(dd[i], label = i)\n",
    "#     plt.legend()\n"
   ]
  },
  {
   "cell_type": "code",
   "execution_count": 370,
   "id": "ff70f7ed",
   "metadata": {},
   "outputs": [],
   "source": [
    "to_plot = ['val_loss','val_accuracy','val_precision','val_recall', 'val_auc','val_prc']"
   ]
  },
  {
   "cell_type": "code",
   "execution_count": 371,
   "id": "3cf76c54",
   "metadata": {},
   "outputs": [],
   "source": [
    "import plotly.express as px"
   ]
  },
  {
   "cell_type": "code",
   "execution_count": 372,
   "id": "d96d4deb",
   "metadata": {
    "scrolled": true
   },
   "outputs": [
    {
     "data": {
      "image/png": "[encoded data removed]",
      "text/plain": [
       "<Figure size 1080x720 with 1 Axes>"
      ]
     },
     "metadata": {
      "needs_background": "light"
     },
     "output_type": "display_data"
    }
   ],
   "source": [
    "plt.figure(figsize=(15,10))\n",
    "plt.style.use('seaborn-notebook')\n",
    "plt.grid()\n",
    "\n",
    "plt.title('Performance w.r.t. Epochs')\n",
    "for i in to_plot:\n",
    "    plt.plot(dd[i], label = i)\n",
    "    plt.legend()\n",
    "plt.xlabel('Epochs')\n",
    "plt.ylabel('Performance')\n",
    "plt.savefig('./Saved_components/Performance_Model.jpg', bbox_inches='tight')\n",
    "plt.show()\n"
   ]
  },
  {
   "cell_type": "code",
   "execution_count": 373,
   "id": "491dbfad",
   "metadata": {},
   "outputs": [],
   "source": [
    "from sklearn.metrics import  confusion_matrix"
   ]
  },
  {
   "cell_type": "code",
   "execution_count": 374,
   "id": "f351afc1",
   "metadata": {},
   "outputs": [],
   "source": [
    "ypred = Model.predict(xtest)\n",
    "ypred = np.around(ypred)"
   ]
  },
  {
   "cell_type": "code",
   "execution_count": 375,
   "id": "284411d9",
   "metadata": {},
   "outputs": [],
   "source": [
    "def all_metrics(y_true, y_pred, heatmap = True):\n",
    "    from sklearn.metrics import f1_score, precision_score, recall_score,roc_auc_score, confusion_matrix\n",
    "    print('f1 score: ',f1_score(y_true, y_pred))\n",
    "    print( 'precision score: ', precision_score(y_true, y_pred))\n",
    "    print('recall score: ',recall_score(y_true,y_pred))\n",
    "    auc = roc_auc_score(y_true, y_pred)\n",
    "    print('AUC: %.3f' % auc)\n",
    "    if heatmap:\n",
    "        sns.heatmap(confusion_matrix(y_true, y_pred), annot=True,cmap='Blues', fmt='g')\n",
    "    else:\n",
    "        print(confusion_matrix(y_true, y_pred))"
   ]
  },
  {
   "cell_type": "code",
   "execution_count": 376,
   "id": "90c4cbd0",
   "metadata": {
    "scrolled": true
   },
   "outputs": [
    {
     "name": "stdout",
     "output_type": "stream",
     "text": [
      "f1 score:  0.8756476683937823\n",
      "precision score:  0.8513853904282116\n",
      "recall score:  0.9013333333333333\n",
      "AUC: 0.872\n"
     ]
    },
    {
     "data": {
      "image/png": "[encoded data removed]",
      "text/plain": [
       "<Figure size 576x396 with 2 Axes>"
      ]
     },
     "metadata": {
      "needs_background": "light"
     },
     "output_type": "display_data"
    }
   ],
   "source": [
    "all_metrics(ytest,ypred)"
   ]
  },
  {
   "cell_type": "code",
   "execution_count": null,
   "id": "1bb2dff6",
   "metadata": {},
   "outputs": [],
   "source": []
  },
  {
   "cell_type": "markdown",
   "id": "3c1738d4",
   "metadata": {},
   "source": [
    "## Saving the Model"
   ]
  },
  {
   "cell_type": "code",
   "execution_count": 377,
   "id": "0003e805",
   "metadata": {},
   "outputs": [],
   "source": [
    "# Saving the Model\n",
    "Model.save('./saved_model/my_model.h5')\n"
   ]
  },
  {
   "cell_type": "markdown",
   "id": "26c10e60",
   "metadata": {},
   "source": [
    "# Lets see other Model"
   ]
  },
  {
   "cell_type": "code",
   "execution_count": 198,
   "id": "5d138e90",
   "metadata": {},
   "outputs": [],
   "source": [
    "from sklearn.linear_model import LogisticRegression"
   ]
  },
  {
   "cell_type": "code",
   "execution_count": 285,
   "id": "3a3a8bbd",
   "metadata": {},
   "outputs": [
    {
     "data": {
      "text/plain": [
       "LogisticRegression()"
      ]
     },
     "execution_count": 285,
     "metadata": {},
     "output_type": "execute_result"
    }
   ],
   "source": [
    "log = LogisticRegression()\n",
    "log.fit(xtrain,ytrain)"
   ]
  },
  {
   "cell_type": "code",
   "execution_count": 286,
   "id": "ac348549",
   "metadata": {},
   "outputs": [],
   "source": [
    "ypreddd = log.predict(xtest)"
   ]
  },
  {
   "cell_type": "code",
   "execution_count": 287,
   "id": "b42e48bd",
   "metadata": {},
   "outputs": [
    {
     "name": "stdout",
     "output_type": "stream",
     "text": [
      "f1 score:  0.7490039840637451\n",
      "precision score:  0.746031746031746\n",
      "recall score:  0.752\n",
      "AUC: 0.748\n"
     ]
    },
    {
     "data": {
      "image/png": "[encoded data removed]",
      "text/plain": [
       "<Figure size 576x396 with 2 Axes>"
      ]
     },
     "metadata": {
      "needs_background": "light"
     },
     "output_type": "display_data"
    }
   ],
   "source": [
    "all_metrics(ytest,ypreddd)"
   ]
  },
  {
   "cell_type": "code",
   "execution_count": 379,
   "id": "679eae47",
   "metadata": {},
   "outputs": [
    {
     "data": {
      "text/plain": [
       "ExtraTreesClassifier()"
      ]
     },
     "execution_count": 379,
     "metadata": {},
     "output_type": "execute_result"
    }
   ],
   "source": [
    "from sklearn.ensemble import ExtraTreesClassifier\n",
    "extra = ExtraTreesClassifier()\n",
    "extra.fit(xtrain, ytrain)"
   ]
  },
  {
   "cell_type": "code",
   "execution_count": 380,
   "id": "d70aac9f",
   "metadata": {},
   "outputs": [],
   "source": [
    "extra_pred = extra.predict(xtest)"
   ]
  },
  {
   "cell_type": "code",
   "execution_count": 381,
   "id": "9a7709f6",
   "metadata": {},
   "outputs": [
    {
     "name": "stdout",
     "output_type": "stream",
     "text": [
      "f1 score:  0.9234793982995423\n",
      "precision score:  0.9062901155327343\n",
      "recall score:  0.9413333333333334\n",
      "AUC: 0.922\n"
     ]
    },
    {
     "data": {
      "image/png": "[encoded data removed]",
      "text/plain": [
       "<Figure size 576x396 with 2 Axes>"
      ]
     },
     "metadata": {
      "needs_background": "light"
     },
     "output_type": "display_data"
    }
   ],
   "source": [
    "all_metrics(ytest, extra_pred)"
   ]
  },
  {
   "cell_type": "code",
   "execution_count": null,
   "id": "a32edcb1",
   "metadata": {},
   "outputs": [],
   "source": []
  }
 ],
 "metadata": {
  "kernelspec": {
   "display_name": "tf",
   "language": "python",
   "name": "tf"
  },
  "language_info": {
   "codemirror_mode": {
    "name": "ipython",
    "version": 3
   },
   "file_extension": ".py",
   "mimetype": "text/x-python",
   "name": "python",
   "nbconvert_exporter": "python",
   "pygments_lexer": "ipython3",
   "version": "3.9.12"
  }
 },
 "nbformat": 4,
 "nbformat_minor": 5
}
