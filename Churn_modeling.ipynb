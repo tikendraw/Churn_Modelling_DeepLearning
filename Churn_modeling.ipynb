{
 "cells": [
  {
   "cell_type": "code",
   "execution_count": 13,
   "id": "0668d051",
   "metadata": {},
   "outputs": [
    {
     "name": "stdout",
     "output_type": "stream",
     "text": [
      "mkdir: cannot create directory ‘saved_model’: File exists\n",
      "mkdir: cannot create directory ‘saved_components’: File exists\n"
     ]
    }
   ],
   "source": [
    "import numpy as np\n",
    "import pandas as pd\n",
    "import os, shutil\n",
    "import matplotlib.pyplot as plt\n",
    "import seaborn as sns\n",
    "import joblib\n",
    "from sklearn.preprocessing import MinMaxScaler, OneHotEncoder\n",
    "from sklearn.pipeline import FeatureUnion\n",
    "from sklearn.compose import ColumnTransformer\n",
    "\n",
    "try:\n",
    "    !mkdir saved_model\n",
    "    !mkdir saved_components\n",
    "except Exception as e:\n",
    "    print(e)"
   ]
  },
  {
   "cell_type": "code",
   "execution_count": 14,
   "id": "b4a230f3",
   "metadata": {},
   "outputs": [
    {
     "data": {
      "text/plain": [
       "(['Churn_modeling.ipynb',\n",
       "  'app.py',\n",
       "  '.git',\n",
       "  '__pycache__',\n",
       "  'Preprocessed_churn_dataset.csv',\n",
       "  '.gitignore',\n",
       "  '.ipynb_checkpoints',\n",
       "  'README.md',\n",
       "  'test.py',\n",
       "  '=4.2.0',\n",
       "  'saved_components',\n",
       "  'saved_model',\n",
       "  'Static',\n",
       "  'Untitled.ipynb',\n",
       "  'Preprocess.py',\n",
       "  'churn_dataset'],\n",
       " ['Churn_Modelling.csv'])"
      ]
     },
     "execution_count": 14,
     "metadata": {},
     "output_type": "execute_result"
    }
   ],
   "source": [
    "os.listdir(), os.listdir('churn_dataset/')"
   ]
  },
  {
   "cell_type": "code",
   "execution_count": 15,
   "id": "b4dd26bb",
   "metadata": {},
   "outputs": [],
   "source": [
    "data = pd.read_csv('./churn_dataset/Churn_Modelling.csv')"
   ]
  },
  {
   "cell_type": "code",
   "execution_count": 16,
   "id": "9068e2ce",
   "metadata": {},
   "outputs": [
    {
     "data": {
      "text/html": [
       "<div>\n",
       "<style scoped>\n",
       "    .dataframe tbody tr th:only-of-type {\n",
       "        vertical-align: middle;\n",
       "    }\n",
       "\n",
       "    .dataframe tbody tr th {\n",
       "        vertical-align: top;\n",
       "    }\n",
       "\n",
       "    .dataframe thead th {\n",
       "        text-align: right;\n",
       "    }\n",
       "</style>\n",
       "<table border=\"1\" class=\"dataframe\">\n",
       "  <thead>\n",
       "    <tr style=\"text-align: right;\">\n",
       "      <th></th>\n",
       "      <th>RowNumber</th>\n",
       "      <th>CustomerId</th>\n",
       "      <th>Surname</th>\n",
       "      <th>CreditScore</th>\n",
       "      <th>Geography</th>\n",
       "      <th>Gender</th>\n",
       "      <th>Age</th>\n",
       "      <th>Tenure</th>\n",
       "      <th>Balance</th>\n",
       "      <th>NumOfProducts</th>\n",
       "      <th>HasCrCard</th>\n",
       "      <th>IsActiveMember</th>\n",
       "      <th>EstimatedSalary</th>\n",
       "      <th>Exited</th>\n",
       "    </tr>\n",
       "  </thead>\n",
       "  <tbody>\n",
       "    <tr>\n",
       "      <th>9149</th>\n",
       "      <td>9150</td>\n",
       "      <td>15814331</td>\n",
       "      <td>Lung</td>\n",
       "      <td>597</td>\n",
       "      <td>Germany</td>\n",
       "      <td>Female</td>\n",
       "      <td>43</td>\n",
       "      <td>7</td>\n",
       "      <td>119127.46</td>\n",
       "      <td>2</td>\n",
       "      <td>1</td>\n",
       "      <td>0</td>\n",
       "      <td>55809.92</td>\n",
       "      <td>0</td>\n",
       "    </tr>\n",
       "    <tr>\n",
       "      <th>4947</th>\n",
       "      <td>4948</td>\n",
       "      <td>15670354</td>\n",
       "      <td>Jen</td>\n",
       "      <td>753</td>\n",
       "      <td>France</td>\n",
       "      <td>Female</td>\n",
       "      <td>62</td>\n",
       "      <td>6</td>\n",
       "      <td>0.00</td>\n",
       "      <td>2</td>\n",
       "      <td>1</td>\n",
       "      <td>1</td>\n",
       "      <td>136398.90</td>\n",
       "      <td>0</td>\n",
       "    </tr>\n",
       "    <tr>\n",
       "      <th>1115</th>\n",
       "      <td>1116</td>\n",
       "      <td>15626608</td>\n",
       "      <td>Howarde</td>\n",
       "      <td>479</td>\n",
       "      <td>Spain</td>\n",
       "      <td>Male</td>\n",
       "      <td>48</td>\n",
       "      <td>5</td>\n",
       "      <td>87070.23</td>\n",
       "      <td>1</td>\n",
       "      <td>0</td>\n",
       "      <td>1</td>\n",
       "      <td>85646.41</td>\n",
       "      <td>0</td>\n",
       "    </tr>\n",
       "    <tr>\n",
       "      <th>8182</th>\n",
       "      <td>8183</td>\n",
       "      <td>15774402</td>\n",
       "      <td>Donaldson</td>\n",
       "      <td>562</td>\n",
       "      <td>Spain</td>\n",
       "      <td>Male</td>\n",
       "      <td>36</td>\n",
       "      <td>5</td>\n",
       "      <td>0.00</td>\n",
       "      <td>1</td>\n",
       "      <td>0</td>\n",
       "      <td>1</td>\n",
       "      <td>182843.24</td>\n",
       "      <td>0</td>\n",
       "    </tr>\n",
       "    <tr>\n",
       "      <th>7836</th>\n",
       "      <td>7837</td>\n",
       "      <td>15780492</td>\n",
       "      <td>Ignatyeva</td>\n",
       "      <td>648</td>\n",
       "      <td>France</td>\n",
       "      <td>Male</td>\n",
       "      <td>42</td>\n",
       "      <td>4</td>\n",
       "      <td>0.00</td>\n",
       "      <td>2</td>\n",
       "      <td>1</td>\n",
       "      <td>0</td>\n",
       "      <td>19283.14</td>\n",
       "      <td>0</td>\n",
       "    </tr>\n",
       "  </tbody>\n",
       "</table>\n",
       "</div>"
      ],
      "text/plain": [
       "      RowNumber  CustomerId    Surname  CreditScore Geography  Gender  Age  \\\n",
       "9149       9150    15814331       Lung          597   Germany  Female   43   \n",
       "4947       4948    15670354        Jen          753    France  Female   62   \n",
       "1115       1116    15626608    Howarde          479     Spain    Male   48   \n",
       "8182       8183    15774402  Donaldson          562     Spain    Male   36   \n",
       "7836       7837    15780492  Ignatyeva          648    France    Male   42   \n",
       "\n",
       "      Tenure    Balance  NumOfProducts  HasCrCard  IsActiveMember  \\\n",
       "9149       7  119127.46              2          1               0   \n",
       "4947       6       0.00              2          1               1   \n",
       "1115       5   87070.23              1          0               1   \n",
       "8182       5       0.00              1          0               1   \n",
       "7836       4       0.00              2          1               0   \n",
       "\n",
       "      EstimatedSalary  Exited  \n",
       "9149         55809.92       0  \n",
       "4947        136398.90       0  \n",
       "1115         85646.41       0  \n",
       "8182        182843.24       0  \n",
       "7836         19283.14       0  "
      ]
     },
     "execution_count": 16,
     "metadata": {},
     "output_type": "execute_result"
    }
   ],
   "source": [
    "data.sample(5)"
   ]
  },
  {
   "cell_type": "code",
   "execution_count": 17,
   "id": "279f99a6",
   "metadata": {},
   "outputs": [
    {
     "data": {
      "text/plain": [
       "(10000, 14)"
      ]
     },
     "execution_count": 17,
     "metadata": {},
     "output_type": "execute_result"
    }
   ],
   "source": [
    "data.shape"
   ]
  },
  {
   "cell_type": "code",
   "execution_count": 18,
   "id": "132abb57",
   "metadata": {},
   "outputs": [
    {
     "name": "stdout",
     "output_type": "stream",
     "text": [
      "<class 'pandas.core.frame.DataFrame'>\n",
      "RangeIndex: 10000 entries, 0 to 9999\n",
      "Data columns (total 14 columns):\n",
      " #   Column           Non-Null Count  Dtype  \n",
      "---  ------           --------------  -----  \n",
      " 0   RowNumber        10000 non-null  int64  \n",
      " 1   CustomerId       10000 non-null  int64  \n",
      " 2   Surname          10000 non-null  object \n",
      " 3   CreditScore      10000 non-null  int64  \n",
      " 4   Geography        10000 non-null  object \n",
      " 5   Gender           10000 non-null  object \n",
      " 6   Age              10000 non-null  int64  \n",
      " 7   Tenure           10000 non-null  int64  \n",
      " 8   Balance          10000 non-null  float64\n",
      " 9   NumOfProducts    10000 non-null  int64  \n",
      " 10  HasCrCard        10000 non-null  int64  \n",
      " 11  IsActiveMember   10000 non-null  int64  \n",
      " 12  EstimatedSalary  10000 non-null  float64\n",
      " 13  Exited           10000 non-null  int64  \n",
      "dtypes: float64(2), int64(9), object(3)\n",
      "memory usage: 1.1+ MB\n"
     ]
    }
   ],
   "source": [
    "data.info()"
   ]
  },
  {
   "cell_type": "code",
   "execution_count": 19,
   "id": "c2c076c3",
   "metadata": {
    "scrolled": true
   },
   "outputs": [
    {
     "data": {
      "text/html": [
       "<div>\n",
       "<style scoped>\n",
       "    .dataframe tbody tr th:only-of-type {\n",
       "        vertical-align: middle;\n",
       "    }\n",
       "\n",
       "    .dataframe tbody tr th {\n",
       "        vertical-align: top;\n",
       "    }\n",
       "\n",
       "    .dataframe thead th {\n",
       "        text-align: right;\n",
       "    }\n",
       "</style>\n",
       "<table border=\"1\" class=\"dataframe\">\n",
       "  <thead>\n",
       "    <tr style=\"text-align: right;\">\n",
       "      <th></th>\n",
       "      <th>count</th>\n",
       "      <th>mean</th>\n",
       "      <th>std</th>\n",
       "      <th>min</th>\n",
       "      <th>25%</th>\n",
       "      <th>50%</th>\n",
       "      <th>75%</th>\n",
       "      <th>max</th>\n",
       "    </tr>\n",
       "  </thead>\n",
       "  <tbody>\n",
       "    <tr>\n",
       "      <th>RowNumber</th>\n",
       "      <td>10000.0</td>\n",
       "      <td>5.000500e+03</td>\n",
       "      <td>2886.895680</td>\n",
       "      <td>1.00</td>\n",
       "      <td>2500.75</td>\n",
       "      <td>5.000500e+03</td>\n",
       "      <td>7.500250e+03</td>\n",
       "      <td>10000.00</td>\n",
       "    </tr>\n",
       "    <tr>\n",
       "      <th>CustomerId</th>\n",
       "      <td>10000.0</td>\n",
       "      <td>1.569094e+07</td>\n",
       "      <td>71936.186123</td>\n",
       "      <td>15565701.00</td>\n",
       "      <td>15628528.25</td>\n",
       "      <td>1.569074e+07</td>\n",
       "      <td>1.575323e+07</td>\n",
       "      <td>15815690.00</td>\n",
       "    </tr>\n",
       "    <tr>\n",
       "      <th>CreditScore</th>\n",
       "      <td>10000.0</td>\n",
       "      <td>6.505288e+02</td>\n",
       "      <td>96.653299</td>\n",
       "      <td>350.00</td>\n",
       "      <td>584.00</td>\n",
       "      <td>6.520000e+02</td>\n",
       "      <td>7.180000e+02</td>\n",
       "      <td>850.00</td>\n",
       "    </tr>\n",
       "    <tr>\n",
       "      <th>Age</th>\n",
       "      <td>10000.0</td>\n",
       "      <td>3.892180e+01</td>\n",
       "      <td>10.487806</td>\n",
       "      <td>18.00</td>\n",
       "      <td>32.00</td>\n",
       "      <td>3.700000e+01</td>\n",
       "      <td>4.400000e+01</td>\n",
       "      <td>92.00</td>\n",
       "    </tr>\n",
       "    <tr>\n",
       "      <th>Tenure</th>\n",
       "      <td>10000.0</td>\n",
       "      <td>5.012800e+00</td>\n",
       "      <td>2.892174</td>\n",
       "      <td>0.00</td>\n",
       "      <td>3.00</td>\n",
       "      <td>5.000000e+00</td>\n",
       "      <td>7.000000e+00</td>\n",
       "      <td>10.00</td>\n",
       "    </tr>\n",
       "    <tr>\n",
       "      <th>Balance</th>\n",
       "      <td>10000.0</td>\n",
       "      <td>7.648589e+04</td>\n",
       "      <td>62397.405202</td>\n",
       "      <td>0.00</td>\n",
       "      <td>0.00</td>\n",
       "      <td>9.719854e+04</td>\n",
       "      <td>1.276442e+05</td>\n",
       "      <td>250898.09</td>\n",
       "    </tr>\n",
       "    <tr>\n",
       "      <th>NumOfProducts</th>\n",
       "      <td>10000.0</td>\n",
       "      <td>1.530200e+00</td>\n",
       "      <td>0.581654</td>\n",
       "      <td>1.00</td>\n",
       "      <td>1.00</td>\n",
       "      <td>1.000000e+00</td>\n",
       "      <td>2.000000e+00</td>\n",
       "      <td>4.00</td>\n",
       "    </tr>\n",
       "    <tr>\n",
       "      <th>HasCrCard</th>\n",
       "      <td>10000.0</td>\n",
       "      <td>7.055000e-01</td>\n",
       "      <td>0.455840</td>\n",
       "      <td>0.00</td>\n",
       "      <td>0.00</td>\n",
       "      <td>1.000000e+00</td>\n",
       "      <td>1.000000e+00</td>\n",
       "      <td>1.00</td>\n",
       "    </tr>\n",
       "    <tr>\n",
       "      <th>IsActiveMember</th>\n",
       "      <td>10000.0</td>\n",
       "      <td>5.151000e-01</td>\n",
       "      <td>0.499797</td>\n",
       "      <td>0.00</td>\n",
       "      <td>0.00</td>\n",
       "      <td>1.000000e+00</td>\n",
       "      <td>1.000000e+00</td>\n",
       "      <td>1.00</td>\n",
       "    </tr>\n",
       "    <tr>\n",
       "      <th>EstimatedSalary</th>\n",
       "      <td>10000.0</td>\n",
       "      <td>1.000902e+05</td>\n",
       "      <td>57510.492818</td>\n",
       "      <td>11.58</td>\n",
       "      <td>51002.11</td>\n",
       "      <td>1.001939e+05</td>\n",
       "      <td>1.493882e+05</td>\n",
       "      <td>199992.48</td>\n",
       "    </tr>\n",
       "    <tr>\n",
       "      <th>Exited</th>\n",
       "      <td>10000.0</td>\n",
       "      <td>2.037000e-01</td>\n",
       "      <td>0.402769</td>\n",
       "      <td>0.00</td>\n",
       "      <td>0.00</td>\n",
       "      <td>0.000000e+00</td>\n",
       "      <td>0.000000e+00</td>\n",
       "      <td>1.00</td>\n",
       "    </tr>\n",
       "  </tbody>\n",
       "</table>\n",
       "</div>"
      ],
      "text/plain": [
       "                   count          mean           std          min  \\\n",
       "RowNumber        10000.0  5.000500e+03   2886.895680         1.00   \n",
       "CustomerId       10000.0  1.569094e+07  71936.186123  15565701.00   \n",
       "CreditScore      10000.0  6.505288e+02     96.653299       350.00   \n",
       "Age              10000.0  3.892180e+01     10.487806        18.00   \n",
       "Tenure           10000.0  5.012800e+00      2.892174         0.00   \n",
       "Balance          10000.0  7.648589e+04  62397.405202         0.00   \n",
       "NumOfProducts    10000.0  1.530200e+00      0.581654         1.00   \n",
       "HasCrCard        10000.0  7.055000e-01      0.455840         0.00   \n",
       "IsActiveMember   10000.0  5.151000e-01      0.499797         0.00   \n",
       "EstimatedSalary  10000.0  1.000902e+05  57510.492818        11.58   \n",
       "Exited           10000.0  2.037000e-01      0.402769         0.00   \n",
       "\n",
       "                         25%           50%           75%          max  \n",
       "RowNumber            2500.75  5.000500e+03  7.500250e+03     10000.00  \n",
       "CustomerId       15628528.25  1.569074e+07  1.575323e+07  15815690.00  \n",
       "CreditScore           584.00  6.520000e+02  7.180000e+02       850.00  \n",
       "Age                    32.00  3.700000e+01  4.400000e+01        92.00  \n",
       "Tenure                  3.00  5.000000e+00  7.000000e+00        10.00  \n",
       "Balance                 0.00  9.719854e+04  1.276442e+05    250898.09  \n",
       "NumOfProducts           1.00  1.000000e+00  2.000000e+00         4.00  \n",
       "HasCrCard               0.00  1.000000e+00  1.000000e+00         1.00  \n",
       "IsActiveMember          0.00  1.000000e+00  1.000000e+00         1.00  \n",
       "EstimatedSalary     51002.11  1.001939e+05  1.493882e+05    199992.48  \n",
       "Exited                  0.00  0.000000e+00  0.000000e+00         1.00  "
      ]
     },
     "execution_count": 19,
     "metadata": {},
     "output_type": "execute_result"
    }
   ],
   "source": [
    "data.describe().T"
   ]
  },
  {
   "cell_type": "code",
   "execution_count": 20,
   "id": "2a0d7695",
   "metadata": {},
   "outputs": [
    {
     "data": {
      "text/plain": [
       "array(['France', 'Spain', 'Germany'], dtype=object)"
      ]
     },
     "execution_count": 20,
     "metadata": {},
     "output_type": "execute_result"
    }
   ],
   "source": [
    "data.Geography.unique()"
   ]
  },
  {
   "cell_type": "code",
   "execution_count": 21,
   "id": "08442273",
   "metadata": {},
   "outputs": [],
   "source": [
    "# Surname, Rownumber and CustomerID does not have to do anything with response\n",
    "X = data.drop(['Surname','RowNumber','CustomerId','Exited'],axis = 1)\n",
    "y = data.Exited"
   ]
  },
  {
   "cell_type": "code",
   "execution_count": 22,
   "id": "853c0a61",
   "metadata": {},
   "outputs": [],
   "source": [
    "# setting categorical and numerical columns\n",
    "cat_cols = X.select_dtypes('object').columns\n",
    "num_cols = X.select_dtypes('number').columns"
   ]
  },
  {
   "cell_type": "code",
   "execution_count": 23,
   "id": "32c16ed2",
   "metadata": {},
   "outputs": [
    {
     "data": {
      "text/plain": [
       "(Index(['Geography', 'Gender'], dtype='object'),\n",
       " Index(['CreditScore', 'Age', 'Tenure', 'Balance', 'NumOfProducts', 'HasCrCard',\n",
       "        'IsActiveMember', 'EstimatedSalary'],\n",
       "       dtype='object'))"
      ]
     },
     "execution_count": 23,
     "metadata": {},
     "output_type": "execute_result"
    }
   ],
   "source": [
    "cat_cols, num_cols"
   ]
  },
  {
   "cell_type": "markdown",
   "id": "5d8c1237",
   "metadata": {},
   "source": [
    "## Column Transformer"
   ]
  },
  {
   "cell_type": "code",
   "execution_count": 24,
   "id": "cc9bbdce",
   "metadata": {},
   "outputs": [],
   "source": [
    "# Encoding categorical values\n",
    "X = data.drop(['Surname','RowNumber','CustomerId','Exited'],axis = 1)\n",
    "y = data.Exited\n",
    "ohe = OneHotEncoder(sparse=False)\n",
    "scaler = MinMaxScaler()"
   ]
  },
  {
   "cell_type": "code",
   "execution_count": 25,
   "id": "631a640e",
   "metadata": {},
   "outputs": [],
   "source": [
    "coltrans = ColumnTransformer([('scaler', scaler, num_cols),\n",
    "                             ('ohencoder', ohe, cat_cols)],remainder= 'passthrough'\n",
    "                            )"
   ]
  },
  {
   "cell_type": "code",
   "execution_count": 30,
   "id": "aeb1cb1c",
   "metadata": {},
   "outputs": [],
   "source": [
    "# SAving columntransformer\n",
    "\n",
    "joblib.dump(scaler, './saved_components/scaler.joblib')\n",
    "joblib.dump(ohe, './saved_components/ohe.joblib')"
   ]
  },
  {
   "cell_type": "code",
   "execution_count": 27,
   "id": "1d6a31ea",
   "metadata": {},
   "outputs": [],
   "source": [
    "feature_space = coltrans.fit_transform(X)"
   ]
  },
  {
   "cell_type": "code",
   "execution_count": 28,
   "id": "f900820c",
   "metadata": {},
   "outputs": [
    {
     "data": {
      "text/plain": [
       "(10000, 13)"
      ]
     },
     "execution_count": 28,
     "metadata": {},
     "output_type": "execute_result"
    }
   ],
   "source": [
    "feature_space.shape"
   ]
  },
  {
   "cell_type": "code",
   "execution_count": 29,
   "id": "504dd461",
   "metadata": {},
   "outputs": [
    {
     "data": {
      "text/plain": [
       "0       1\n",
       "1       0\n",
       "2       1\n",
       "3       0\n",
       "4       0\n",
       "       ..\n",
       "9995    0\n",
       "9996    0\n",
       "9997    1\n",
       "9998    1\n",
       "9999    0\n",
       "Name: Exited, Length: 10000, dtype: int64"
      ]
     },
     "execution_count": 29,
     "metadata": {},
     "output_type": "execute_result"
    }
   ],
   "source": [
    "y"
   ]
  },
  {
   "cell_type": "code",
   "execution_count": 17,
   "id": "f2ee53ec",
   "metadata": {},
   "outputs": [
    {
     "name": "stdout",
     "output_type": "stream",
     "text": [
      "<class 'pandas.core.frame.DataFrame'>\n",
      "RangeIndex: 10000 entries, 0 to 9999\n",
      "Data columns (total 14 columns):\n",
      " #   Column           Non-Null Count  Dtype  \n",
      "---  ------           --------------  -----  \n",
      " 0   CreditScore      10000 non-null  float32\n",
      " 1   Age              10000 non-null  float32\n",
      " 2   Tenure           10000 non-null  float32\n",
      " 3   Balance          10000 non-null  float32\n",
      " 4   NumOfProducts    10000 non-null  float32\n",
      " 5   HasCrCard        10000 non-null  int16  \n",
      " 6   IsActiveMember   10000 non-null  int16  \n",
      " 7   EstimatedSalary  10000 non-null  float32\n",
      " 8   1                10000 non-null  int16  \n",
      " 9   2                10000 non-null  int16  \n",
      " 10  3                10000 non-null  int16  \n",
      " 11  a                10000 non-null  int16  \n",
      " 12  b                10000 non-null  int16  \n",
      " 13  exited           10000 non-null  int16  \n",
      "dtypes: float32(6), int16(8)\n",
      "memory usage: 390.8 KB\n"
     ]
    }
   ],
   "source": [
    "# Converting to PD dataframe\n",
    "names = ['CreditScore', 'Age', 'Tenure', 'Balance', 'NumOfProducts', 'HasCrCard','IsActiveMember', 'EstimatedSalary',1,2,3,'a','b']\n",
    "df = pd.DataFrame(feature_space, columns=names)\n",
    "df['exited'] = y\n",
    "\n",
    "int_cols = ['HasCrCard','IsActiveMember', 1,2,3,'a','b', 'exited']\n",
    "float_cols = ['CreditScore', 'Age', 'Tenure', 'Balance', 'NumOfProducts', 'EstimatedSalary']\n",
    "\n",
    "for i in int_cols:\n",
    "    df[i] = df[i].astype('int16')\n",
    "for j in float_cols:\n",
    "    df[j] = df[j].astype('float32')\n",
    "    \n",
    "\n",
    "# Saving the preprocessed Data\n",
    "df.to_csv('Preprocessed_churn_dataset.csv')\n",
    "df.info()\n"
   ]
  },
  {
   "cell_type": "markdown",
   "id": "9455bbf3",
   "metadata": {},
   "source": [
    "## Outlier removal"
   ]
  },
  {
   "cell_type": "code",
   "execution_count": 18,
   "id": "40eda850",
   "metadata": {},
   "outputs": [
    {
     "data": {
      "image/png": "[encoded data removed]",
      "text/plain": [
       "<Figure size 1080x504 with 14 Axes>"
      ]
     },
     "metadata": {
      "needs_background": "light"
     },
     "output_type": "display_data"
    }
   ],
   "source": [
    "# Looking for outliers\n",
    "plt.figure(figsize=(15,7))\n",
    "i = 1\n",
    "for col in df.columns:\n",
    "    plt.subplot(3,5,i)\n",
    "    sns.boxplot(data=df, x = col, hue = 'exited')\n",
    "    i += 1"
   ]
  },
  {
   "cell_type": "code",
   "execution_count": 19,
   "id": "11b240ab",
   "metadata": {},
   "outputs": [],
   "source": [
    "# Removing the Outliers\n",
    "\n",
    "from sklearn.covariance import EllipticEnvelope\n",
    "import warnings\n",
    "warnings.filterwarnings('ignore')\n",
    "\n",
    "out_rem = EllipticEnvelope(contamination=.1,random_state=33)\n",
    "mask = out_rem.fit_predict(df)"
   ]
  },
  {
   "cell_type": "code",
   "execution_count": 20,
   "id": "0a45cbda",
   "metadata": {},
   "outputs": [],
   "source": [
    "mask = np.where(mask != 1,True, False)\n",
    "df['isoutlier'] = mask"
   ]
  },
  {
   "cell_type": "code",
   "execution_count": 21,
   "id": "d3363185",
   "metadata": {},
   "outputs": [],
   "source": [
    "df_no_outlier = df[df.isoutlier == False]\n",
    "df_no_outlier.drop('isoutlier',axis = 1, inplace=True)"
   ]
  },
  {
   "cell_type": "code",
   "execution_count": 22,
   "id": "2383854e",
   "metadata": {},
   "outputs": [
    {
     "data": {
      "image/png": "[encoded data removed]",
      "text/plain": [
       "<Figure size 1080x504 with 14 Axes>"
      ]
     },
     "metadata": {
      "needs_background": "light"
     },
     "output_type": "display_data"
    }
   ],
   "source": [
    "# Looking for outliers again to check the difference\n",
    "plt.figure(figsize=(15,7))\n",
    "i = 1\n",
    "for col in df_no_outlier.columns:\n",
    "    plt.subplot(3,5,i)\n",
    "    sns.boxplot(data=df_no_outlier, x = col)\n",
    "    i += 1"
   ]
  },
  {
   "cell_type": "markdown",
   "id": "7316385b",
   "metadata": {},
   "source": [
    "## Setting response and feature dataframe separate"
   ]
  },
  {
   "cell_type": "code",
   "execution_count": 23,
   "id": "c91f7140",
   "metadata": {},
   "outputs": [],
   "source": [
    "XX = df_no_outlier.drop('exited', axis = 1)\n",
    "yy = df_no_outlier.exited"
   ]
  },
  {
   "cell_type": "markdown",
   "id": "f94069a8",
   "metadata": {},
   "source": [
    "## Checking for class imbalance"
   ]
  },
  {
   "cell_type": "code",
   "execution_count": 24,
   "id": "8a0313d5",
   "metadata": {},
   "outputs": [
    {
     "data": {
      "text/plain": [
       "0    7486\n",
       "1    1514\n",
       "Name: exited, dtype: int64"
      ]
     },
     "execution_count": 24,
     "metadata": {},
     "output_type": "execute_result"
    }
   ],
   "source": [
    "df_no_outlier.exited.value_counts()"
   ]
  },
  {
   "cell_type": "code",
   "execution_count": 25,
   "id": "333dd743",
   "metadata": {},
   "outputs": [
    {
     "name": "stdout",
     "output_type": "stream",
     "text": [
      "Original data: X = (9000, 13), (9000,)\n",
      "0    7486\n",
      "1    1514\n",
      "Name: exited, dtype: int64\n",
      "Oversampled data: X = (14972, 13), (14972,)\n",
      "1    7486\n",
      "0    7486\n",
      "Name: exited, dtype: int64\n"
     ]
    }
   ],
   "source": [
    "# import library\n",
    "from imblearn.over_sampling import SMOTE\n",
    "\n",
    "smote = SMOTE()\n",
    "\n",
    "\n",
    "# fit predictor and target variable\n",
    "x_smote, y_smote = smote.fit_resample(XX, yy)\n",
    "\n",
    "\n",
    "print(f'Original data: X = {XX.shape}, {yy.shape}')\n",
    "print(yy.value_counts())\n",
    "print(f'Oversampled data: X = {x_smote.shape}, {y_smote.shape}')\n",
    "print(y_smote.value_counts())\n"
   ]
  },
  {
   "cell_type": "code",
   "execution_count": null,
   "id": "0b178495",
   "metadata": {},
   "outputs": [],
   "source": [
    "\n"
   ]
  },
  {
   "cell_type": "markdown",
   "id": "dca30148",
   "metadata": {},
   "source": [
    "## Creating train and test set"
   ]
  },
  {
   "cell_type": "code",
   "execution_count": 26,
   "id": "070dd204",
   "metadata": {},
   "outputs": [],
   "source": [
    "from sklearn.model_selection import train_test_split"
   ]
  },
  {
   "cell_type": "code",
   "execution_count": 27,
   "id": "3fcaf835",
   "metadata": {},
   "outputs": [],
   "source": [
    "xtrain, xtest, ytrain, ytest = train_test_split(x_smote, y_smote, test_size=.1, random_state= 33)"
   ]
  },
  {
   "cell_type": "code",
   "execution_count": 28,
   "id": "2bc9252f",
   "metadata": {},
   "outputs": [
    {
     "data": {
      "text/plain": [
       "(13474, 13)"
      ]
     },
     "execution_count": 28,
     "metadata": {},
     "output_type": "execute_result"
    }
   ],
   "source": [
    "xtrain.shape"
   ]
  },
  {
   "cell_type": "markdown",
   "id": "af64ea5f",
   "metadata": {},
   "source": [
    "## Creating a DL model"
   ]
  },
  {
   "cell_type": "code",
   "execution_count": 54,
   "id": "c6a2937d",
   "metadata": {},
   "outputs": [
    {
     "name": "stdout",
     "output_type": "stream",
     "text": [
      "0\n"
     ]
    }
   ],
   "source": [
    "import os\n",
    "os.environ['TFF_CPP_MIN_LOG_LEVEL'] = '2' # ignores tf wanrings and red notes\n",
    "import tensorflow as tf\n",
    "from tensorflow import keras\n",
    "from tensorflow.keras.layers import Dense, Activation, Dropout, Flatten\n",
    "\n",
    "#Enable Gpu\n",
    "physical_devices = tf.config.list_physical_devices('GPU')\n",
    "# tf.config.experimental.set_memory_growth(physical_devices[0], True)\n",
    "print(len(physical_devices))\n"
   ]
  },
  {
   "cell_type": "code",
   "execution_count": 30,
   "id": "ee440ede",
   "metadata": {},
   "outputs": [
    {
     "name": "stderr",
     "output_type": "stream",
     "text": [
      "2022-06-27 05:18:28.446420: I tensorflow/core/platform/cpu_feature_guard.cc:142] This TensorFlow binary is optimized with oneAPI Deep Neural Network Library (oneDNN) to use the following CPU instructions in performance-critical operations:  SSE4.1 SSE4.2 AVX AVX2 FMA\n",
      "To enable them in other operations, rebuild TensorFlow with the appropriate compiler flags.\n",
      "2022-06-27 05:18:28.446870: I tensorflow/compiler/jit/xla_gpu_device.cc:99] Not creating XLA devices, tf_xla_enable_xla_devices not set\n"
     ]
    }
   ],
   "source": [
    "# Model intanciation\n",
    "Model = keras.models.Sequential()\n",
    "Model.add(Flatten())\n",
    "\n",
    "# Model.add(keras.layers.Input(13))\n",
    "\n",
    "Model.add(Dense( units = 100, activation = 'relu'))\n",
    "# Model.add(Dropout(.2))\n",
    "\n",
    "Model.add(Dense( units = 50, activation= 'relu'))\n",
    "# Model.add(Dropout(.2))\n",
    "\n",
    "Model.add(Dense( units = 30, activation= 'relu'))\n",
    "# Model.add(Dropout(.2))\n",
    "\n",
    "Model.add(Dense( units = 10, activation= 'relu'))\n",
    "\n",
    "\n",
    "Model.add(Dense(units=1, activation='sigmoid'))"
   ]
  },
  {
   "cell_type": "code",
   "execution_count": 31,
   "id": "f25b7764",
   "metadata": {},
   "outputs": [],
   "source": [
    "METRICS = [\n",
    "      # keras.metrics.TruePositives(name='tp'),\n",
    "      # keras.metrics.FalsePositives(name='fp'),\n",
    "      # keras.metrics.TrueNegatives(name='tn'),\n",
    "      # keras.metrics.FalseNegatives(name='fn'), \n",
    "      keras.metrics.BinaryAccuracy(name='accuracy'),\n",
    "      keras.metrics.Precision(name='precision'),\n",
    "      keras.metrics.Recall(name='recall'),\n",
    "      keras.metrics.AUC(name='auc'),\n",
    "      keras.metrics.AUC(name='prc', curve='PR'), # precision-recall curve\n",
    "]"
   ]
  },
  {
   "cell_type": "code",
   "execution_count": 33,
   "id": "654706d9",
   "metadata": {},
   "outputs": [],
   "source": [
    "Model.compile(optimizer= keras.optimizers.Adam(), loss='binary_crossentropy', metrics = METRICS)"
   ]
  },
  {
   "cell_type": "code",
   "execution_count": 34,
   "id": "e8a11c58",
   "metadata": {
    "scrolled": true
   },
   "outputs": [
    {
     "name": "stderr",
     "output_type": "stream",
     "text": [
      "2022-06-27 05:19:14.310589: I tensorflow/compiler/mlir/mlir_graph_optimization_pass.cc:116] None of the MLIR optimization passes are enabled (registered 2)\n",
      "2022-06-27 05:19:14.332570: I tensorflow/core/platform/profile_utils/cpu_utils.cc:112] CPU Frequency: 2499950000 Hz\n"
     ]
    }
   ],
   "source": [
    "model_history = Model.fit(xtrain, ytrain, batch_size= 300, epochs= 300, validation_split=.1, verbose = 0)"
   ]
  },
  {
   "cell_type": "code",
   "execution_count": 35,
   "id": "bd4f2630",
   "metadata": {
    "scrolled": true
   },
   "outputs": [
    {
     "name": "stdout",
     "output_type": "stream",
     "text": [
      "Model: \"sequential\"\n",
      "_________________________________________________________________\n",
      "Layer (type)                 Output Shape              Param #   \n",
      "=================================================================\n",
      "flatten (Flatten)            (None, 13)                0         \n",
      "_________________________________________________________________\n",
      "dense (Dense)                (None, 100)               1400      \n",
      "_________________________________________________________________\n",
      "dense_1 (Dense)              (None, 50)                5050      \n",
      "_________________________________________________________________\n",
      "dense_2 (Dense)              (None, 30)                1530      \n",
      "_________________________________________________________________\n",
      "dense_3 (Dense)              (None, 10)                310       \n",
      "_________________________________________________________________\n",
      "dense_4 (Dense)              (None, 1)                 11        \n",
      "=================================================================\n",
      "Total params: 8,301\n",
      "Trainable params: 8,301\n",
      "Non-trainable params: 0\n",
      "_________________________________________________________________\n",
      "None\n"
     ]
    }
   ],
   "source": [
    "print(Model.summary())"
   ]
  },
  {
   "cell_type": "code",
   "execution_count": 36,
   "id": "b3d31f78",
   "metadata": {
    "scrolled": true
   },
   "outputs": [],
   "source": [
    "dd = pd.DataFrame(model_history.history)\n",
    "# dd.sort_values('val_precision', ascending=False)"
   ]
  },
  {
   "cell_type": "code",
   "execution_count": 37,
   "id": "844d8e56",
   "metadata": {},
   "outputs": [],
   "source": [
    "# for i in dd.columns:\n",
    "    \n",
    "#     plt.plot(dd[i], label = i)\n",
    "#     plt.legend()\n"
   ]
  },
  {
   "cell_type": "code",
   "execution_count": 38,
   "id": "ff70f7ed",
   "metadata": {},
   "outputs": [],
   "source": [
    "to_plot = ['val_loss','val_accuracy','val_precision','val_recall', 'val_auc','val_prc']"
   ]
  },
  {
   "cell_type": "code",
   "execution_count": 39,
   "id": "3cf76c54",
   "metadata": {},
   "outputs": [],
   "source": [
    "import plotly.express as px"
   ]
  },
  {
   "cell_type": "code",
   "execution_count": 40,
   "id": "d96d4deb",
   "metadata": {
    "scrolled": true
   },
   "outputs": [
    {
     "data": {
      "image/png": "[encoded data removed]",
      "text/plain": [
       "<Figure size 1080x720 with 1 Axes>"
      ]
     },
     "metadata": {
      "needs_background": "light"
     },
     "output_type": "display_data"
    }
   ],
   "source": [
    "plt.figure(figsize=(15,10))\n",
    "plt.style.use('seaborn-notebook')\n",
    "plt.grid()\n",
    "\n",
    "plt.title('Performance w.r.t. Epochs')\n",
    "for i in to_plot:\n",
    "    plt.plot(dd[i], label = i)\n",
    "    plt.legend()\n",
    "plt.xlabel('Epochs')\n",
    "plt.ylabel('Performance')\n",
    "plt.savefig('./Saved_components/Performance_Model.jpg', bbox_inches='tight')\n",
    "plt.show()\n"
   ]
  },
  {
   "cell_type": "code",
   "execution_count": 41,
   "id": "491dbfad",
   "metadata": {},
   "outputs": [],
   "source": [
    "from sklearn.metrics import  confusion_matrix"
   ]
  },
  {
   "cell_type": "code",
   "execution_count": 42,
   "id": "f351afc1",
   "metadata": {},
   "outputs": [],
   "source": [
    "ypred = Model.predict(xtest)\n",
    "ypred = np.around(ypred)"
   ]
  },
  {
   "cell_type": "code",
   "execution_count": 43,
   "id": "284411d9",
   "metadata": {},
   "outputs": [],
   "source": [
    "def all_metrics(y_true, y_pred, heatmap = True):\n",
    "    from sklearn.metrics import f1_score, precision_score, recall_score,roc_auc_score, confusion_matrix\n",
    "    print('f1 score: ',f1_score(y_true, y_pred))\n",
    "    print( 'precision score: ', precision_score(y_true, y_pred))\n",
    "    print('recall score: ',recall_score(y_true,y_pred))\n",
    "    auc = roc_auc_score(y_true, y_pred)\n",
    "    print('AUC: %.3f' % auc)\n",
    "    if heatmap:\n",
    "        sns.heatmap(confusion_matrix(y_true, y_pred), annot=True,cmap='Blues', fmt='g')\n",
    "    else:\n",
    "        print(confusion_matrix(y_true, y_pred))"
   ]
  },
  {
   "cell_type": "code",
   "execution_count": 44,
   "id": "90c4cbd0",
   "metadata": {
    "scrolled": true
   },
   "outputs": [
    {
     "name": "stdout",
     "output_type": "stream",
     "text": [
      "f1 score:  0.8788839568801522\n",
      "precision score:  0.837968561064087\n",
      "recall score:  0.924\n",
      "AUC: 0.872\n"
     ]
    },
    {
     "data": {
      "image/png": "[encoded data removed]",
      "text/plain": [
       "<Figure size 576x396 with 2 Axes>"
      ]
     },
     "metadata": {
      "needs_background": "light"
     },
     "output_type": "display_data"
    }
   ],
   "source": [
    "all_metrics(ytest,ypred)"
   ]
  },
  {
   "cell_type": "code",
   "execution_count": null,
   "id": "1bb2dff6",
   "metadata": {},
   "outputs": [],
   "source": []
  },
  {
   "cell_type": "markdown",
   "id": "3c1738d4",
   "metadata": {},
   "source": [
    "## Saving the Model"
   ]
  },
  {
   "cell_type": "code",
   "execution_count": 45,
   "id": "0003e805",
   "metadata": {},
   "outputs": [],
   "source": [
    "# Saving the Model\n",
    "Model.save('./saved_model/my_model.h5')\n"
   ]
  },
  {
   "cell_type": "markdown",
   "id": "26c10e60",
   "metadata": {},
   "source": [
    "# Lets see other Model"
   ]
  },
  {
   "cell_type": "code",
   "execution_count": 46,
   "id": "5d138e90",
   "metadata": {},
   "outputs": [],
   "source": [
    "from sklearn.linear_model import LogisticRegression"
   ]
  },
  {
   "cell_type": "code",
   "execution_count": 47,
   "id": "3a3a8bbd",
   "metadata": {},
   "outputs": [
    {
     "data": {
      "text/plain": [
       "LogisticRegression()"
      ]
     },
     "execution_count": 47,
     "metadata": {},
     "output_type": "execute_result"
    }
   ],
   "source": [
    "log = LogisticRegression()\n",
    "log.fit(xtrain,ytrain)"
   ]
  },
  {
   "cell_type": "code",
   "execution_count": 48,
   "id": "ac348549",
   "metadata": {},
   "outputs": [],
   "source": [
    "ypreddd = log.predict(xtest)"
   ]
  },
  {
   "cell_type": "code",
   "execution_count": 49,
   "id": "b42e48bd",
   "metadata": {},
   "outputs": [
    {
     "name": "stdout",
     "output_type": "stream",
     "text": [
      "f1 score:  0.753968253968254\n",
      "precision score:  0.7480314960629921\n",
      "recall score:  0.76\n",
      "AUC: 0.752\n"
     ]
    },
    {
     "data": {
      "image/png": "[encoded data removed]",
      "text/plain": [
       "<Figure size 576x396 with 2 Axes>"
      ]
     },
     "metadata": {
      "needs_background": "light"
     },
     "output_type": "display_data"
    }
   ],
   "source": [
    "all_metrics(ytest,ypreddd)"
   ]
  },
  {
   "cell_type": "code",
   "execution_count": 50,
   "id": "679eae47",
   "metadata": {},
   "outputs": [
    {
     "data": {
      "text/plain": [
       "ExtraTreesClassifier()"
      ]
     },
     "execution_count": 50,
     "metadata": {},
     "output_type": "execute_result"
    }
   ],
   "source": [
    "from sklearn.ensemble import ExtraTreesClassifier\n",
    "extra = ExtraTreesClassifier()\n",
    "extra.fit(xtrain, ytrain)"
   ]
  },
  {
   "cell_type": "code",
   "execution_count": 51,
   "id": "d70aac9f",
   "metadata": {},
   "outputs": [],
   "source": [
    "extra_pred = extra.predict(xtest)"
   ]
  },
  {
   "cell_type": "code",
   "execution_count": 52,
   "id": "9a7709f6",
   "metadata": {},
   "outputs": [
    {
     "name": "stdout",
     "output_type": "stream",
     "text": [
      "f1 score:  0.930628272251309\n",
      "precision score:  0.9138817480719794\n",
      "recall score:  0.948\n",
      "AUC: 0.929\n"
     ]
    },
    {
     "data": {
      "image/png": "[encoded data removed]",
      "text/plain": [
       "<Figure size 576x396 with 2 Axes>"
      ]
     },
     "metadata": {
      "needs_background": "light"
     },
     "output_type": "display_data"
    }
   ],
   "source": [
    "all_metrics(ytest, extra_pred)"
   ]
  },
  {
   "cell_type": "markdown",
   "id": "b63895bd",
   "metadata": {},
   "source": [
    "# Tree wins"
   ]
  },
  {
   "cell_type": "code",
   "execution_count": null,
   "id": "12782df1",
   "metadata": {},
   "outputs": [],
   "source": []
  }
 ],
 "metadata": {
  "kernelspec": {
   "display_name": "tf",
   "language": "python",
   "name": "tf"
  },
  "language_info": {
   "codemirror_mode": {
    "name": "ipython",
    "version": 3
   },
   "file_extension": ".py",
   "mimetype": "text/x-python",
   "name": "python",
   "nbconvert_exporter": "python",
   "pygments_lexer": "ipython3",
   "version": "3.9.12"
  }
 },
 "nbformat": 4,
 "nbformat_minor": 5
}
