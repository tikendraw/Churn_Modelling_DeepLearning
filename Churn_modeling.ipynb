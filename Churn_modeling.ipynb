{
 "cells": [
  {
   "cell_type": "code",
   "execution_count": 106,
   "id": "0668d051",
   "metadata": {},
   "outputs": [],
   "source": [
    "import numpy as np\n",
    "import pandas as pd\n",
    "import os, shutil\n",
    "import matplotlib.pyplot as plt\n",
    "import seaborn as sns"
   ]
  },
  {
   "cell_type": "code",
   "execution_count": 107,
   "id": "b4a230f3",
   "metadata": {},
   "outputs": [
    {
     "data": {
      "text/plain": [
       "(['Churn_modeling.ipynb', '.ipynb_checkpoints', 'churn_dataset'],\n",
       " ['Churn_Modelling.csv'])"
      ]
     },
     "execution_count": 107,
     "metadata": {},
     "output_type": "execute_result"
    }
   ],
   "source": [
    "os.listdir(), os.listdir('churn_dataset/')"
   ]
  },
  {
   "cell_type": "code",
   "execution_count": 108,
   "id": "b4dd26bb",
   "metadata": {},
   "outputs": [],
   "source": [
    "data = pd.read_csv('./churn_dataset/Churn_Modelling.csv')"
   ]
  },
  {
   "cell_type": "code",
   "execution_count": 109,
   "id": "9068e2ce",
   "metadata": {},
   "outputs": [
    {
     "data": {
      "text/html": [
       "<div>\n",
       "<style scoped>\n",
       "    .dataframe tbody tr th:only-of-type {\n",
       "        vertical-align: middle;\n",
       "    }\n",
       "\n",
       "    .dataframe tbody tr th {\n",
       "        vertical-align: top;\n",
       "    }\n",
       "\n",
       "    .dataframe thead th {\n",
       "        text-align: right;\n",
       "    }\n",
       "</style>\n",
       "<table border=\"1\" class=\"dataframe\">\n",
       "  <thead>\n",
       "    <tr style=\"text-align: right;\">\n",
       "      <th></th>\n",
       "      <th>RowNumber</th>\n",
       "      <th>CustomerId</th>\n",
       "      <th>Surname</th>\n",
       "      <th>CreditScore</th>\n",
       "      <th>Geography</th>\n",
       "      <th>Gender</th>\n",
       "      <th>Age</th>\n",
       "      <th>Tenure</th>\n",
       "      <th>Balance</th>\n",
       "      <th>NumOfProducts</th>\n",
       "      <th>HasCrCard</th>\n",
       "      <th>IsActiveMember</th>\n",
       "      <th>EstimatedSalary</th>\n",
       "      <th>Exited</th>\n",
       "    </tr>\n",
       "  </thead>\n",
       "  <tbody>\n",
       "    <tr>\n",
       "      <th>9188</th>\n",
       "      <td>9189</td>\n",
       "      <td>15778192</td>\n",
       "      <td>Nkemdilim</td>\n",
       "      <td>628</td>\n",
       "      <td>Spain</td>\n",
       "      <td>Male</td>\n",
       "      <td>28</td>\n",
       "      <td>4</td>\n",
       "      <td>0.00</td>\n",
       "      <td>2</td>\n",
       "      <td>1</td>\n",
       "      <td>1</td>\n",
       "      <td>176750.81</td>\n",
       "      <td>0</td>\n",
       "    </tr>\n",
       "    <tr>\n",
       "      <th>9670</th>\n",
       "      <td>9671</td>\n",
       "      <td>15651336</td>\n",
       "      <td>Chidiebere</td>\n",
       "      <td>756</td>\n",
       "      <td>France</td>\n",
       "      <td>Female</td>\n",
       "      <td>32</td>\n",
       "      <td>4</td>\n",
       "      <td>0.00</td>\n",
       "      <td>2</td>\n",
       "      <td>1</td>\n",
       "      <td>0</td>\n",
       "      <td>147040.25</td>\n",
       "      <td>0</td>\n",
       "    </tr>\n",
       "    <tr>\n",
       "      <th>1879</th>\n",
       "      <td>1880</td>\n",
       "      <td>15768095</td>\n",
       "      <td>Yeh</td>\n",
       "      <td>579</td>\n",
       "      <td>France</td>\n",
       "      <td>Male</td>\n",
       "      <td>31</td>\n",
       "      <td>9</td>\n",
       "      <td>0.00</td>\n",
       "      <td>1</td>\n",
       "      <td>0</td>\n",
       "      <td>1</td>\n",
       "      <td>139048.00</td>\n",
       "      <td>0</td>\n",
       "    </tr>\n",
       "    <tr>\n",
       "      <th>9844</th>\n",
       "      <td>9845</td>\n",
       "      <td>15588456</td>\n",
       "      <td>Hsieh</td>\n",
       "      <td>658</td>\n",
       "      <td>France</td>\n",
       "      <td>Female</td>\n",
       "      <td>40</td>\n",
       "      <td>5</td>\n",
       "      <td>143566.12</td>\n",
       "      <td>1</td>\n",
       "      <td>1</td>\n",
       "      <td>1</td>\n",
       "      <td>189607.71</td>\n",
       "      <td>0</td>\n",
       "    </tr>\n",
       "    <tr>\n",
       "      <th>473</th>\n",
       "      <td>474</td>\n",
       "      <td>15681705</td>\n",
       "      <td>Fanucci</td>\n",
       "      <td>785</td>\n",
       "      <td>France</td>\n",
       "      <td>Male</td>\n",
       "      <td>28</td>\n",
       "      <td>8</td>\n",
       "      <td>0.00</td>\n",
       "      <td>2</td>\n",
       "      <td>1</td>\n",
       "      <td>0</td>\n",
       "      <td>77231.27</td>\n",
       "      <td>0</td>\n",
       "    </tr>\n",
       "  </tbody>\n",
       "</table>\n",
       "</div>"
      ],
      "text/plain": [
       "      RowNumber  CustomerId     Surname  CreditScore Geography  Gender  Age  \\\n",
       "9188       9189    15778192   Nkemdilim          628     Spain    Male   28   \n",
       "9670       9671    15651336  Chidiebere          756    France  Female   32   \n",
       "1879       1880    15768095         Yeh          579    France    Male   31   \n",
       "9844       9845    15588456       Hsieh          658    France  Female   40   \n",
       "473         474    15681705     Fanucci          785    France    Male   28   \n",
       "\n",
       "      Tenure    Balance  NumOfProducts  HasCrCard  IsActiveMember  \\\n",
       "9188       4       0.00              2          1               1   \n",
       "9670       4       0.00              2          1               0   \n",
       "1879       9       0.00              1          0               1   \n",
       "9844       5  143566.12              1          1               1   \n",
       "473        8       0.00              2          1               0   \n",
       "\n",
       "      EstimatedSalary  Exited  \n",
       "9188        176750.81       0  \n",
       "9670        147040.25       0  \n",
       "1879        139048.00       0  \n",
       "9844        189607.71       0  \n",
       "473          77231.27       0  "
      ]
     },
     "execution_count": 109,
     "metadata": {},
     "output_type": "execute_result"
    }
   ],
   "source": [
    "data.sample(5)"
   ]
  },
  {
   "cell_type": "code",
   "execution_count": 110,
   "id": "279f99a6",
   "metadata": {},
   "outputs": [
    {
     "data": {
      "text/plain": [
       "(10000, 14)"
      ]
     },
     "execution_count": 110,
     "metadata": {},
     "output_type": "execute_result"
    }
   ],
   "source": [
    "data.shape"
   ]
  },
  {
   "cell_type": "code",
   "execution_count": 111,
   "id": "132abb57",
   "metadata": {},
   "outputs": [
    {
     "name": "stdout",
     "output_type": "stream",
     "text": [
      "<class 'pandas.core.frame.DataFrame'>\n",
      "RangeIndex: 10000 entries, 0 to 9999\n",
      "Data columns (total 14 columns):\n",
      " #   Column           Non-Null Count  Dtype  \n",
      "---  ------           --------------  -----  \n",
      " 0   RowNumber        10000 non-null  int64  \n",
      " 1   CustomerId       10000 non-null  int64  \n",
      " 2   Surname          10000 non-null  object \n",
      " 3   CreditScore      10000 non-null  int64  \n",
      " 4   Geography        10000 non-null  object \n",
      " 5   Gender           10000 non-null  object \n",
      " 6   Age              10000 non-null  int64  \n",
      " 7   Tenure           10000 non-null  int64  \n",
      " 8   Balance          10000 non-null  float64\n",
      " 9   NumOfProducts    10000 non-null  int64  \n",
      " 10  HasCrCard        10000 non-null  int64  \n",
      " 11  IsActiveMember   10000 non-null  int64  \n",
      " 12  EstimatedSalary  10000 non-null  float64\n",
      " 13  Exited           10000 non-null  int64  \n",
      "dtypes: float64(2), int64(9), object(3)\n",
      "memory usage: 1.1+ MB\n"
     ]
    }
   ],
   "source": [
    "data.info()"
   ]
  },
  {
   "cell_type": "code",
   "execution_count": 112,
   "id": "08442273",
   "metadata": {},
   "outputs": [],
   "source": [
    "# Surname does not have to do anything with response\n",
    "df = data.drop(['Surname','RowNumber','CustomerId'],axis = 1)"
   ]
  },
  {
   "cell_type": "code",
   "execution_count": 113,
   "id": "853c0a61",
   "metadata": {},
   "outputs": [],
   "source": [
    "# setting categorical and numerical columns\n",
    "cat_cols = df.select_dtypes('object')\n",
    "num_cols = df.select_dtypes('number')"
   ]
  },
  {
   "cell_type": "markdown",
   "id": "5d8c1237",
   "metadata": {},
   "source": [
    "## Categorical Encoding"
   ]
  },
  {
   "cell_type": "code",
   "execution_count": 114,
   "id": "cc9bbdce",
   "metadata": {},
   "outputs": [],
   "source": [
    "# Encoding categorical values\n",
    "from sklearn.preprocessing import OneHotEncoder\n",
    "\n",
    "ohe = OneHotEncoder(sparse=False)\n",
    "encoder_df = pd.DataFrame(ohe.fit_transform(df[['Geography','Gender']]))\n",
    "df = df.join(encoder_df)\n",
    "df.drop(['Geography', 'Gender'], axis = 1, inplace = True)"
   ]
  },
  {
   "cell_type": "code",
   "execution_count": 115,
   "id": "4abdc4ea",
   "metadata": {
    "scrolled": false
   },
   "outputs": [
    {
     "name": "stdout",
     "output_type": "stream",
     "text": [
      "<class 'pandas.core.frame.DataFrame'>\n",
      "RangeIndex: 10000 entries, 0 to 9999\n",
      "Data columns (total 14 columns):\n",
      " #   Column           Non-Null Count  Dtype  \n",
      "---  ------           --------------  -----  \n",
      " 0   CreditScore      10000 non-null  int64  \n",
      " 1   Age              10000 non-null  int64  \n",
      " 2   Tenure           10000 non-null  int64  \n",
      " 3   Balance          10000 non-null  float64\n",
      " 4   NumOfProducts    10000 non-null  int64  \n",
      " 5   HasCrCard        10000 non-null  int64  \n",
      " 6   IsActiveMember   10000 non-null  int64  \n",
      " 7   EstimatedSalary  10000 non-null  float64\n",
      " 8   Exited           10000 non-null  int64  \n",
      " 9   0                10000 non-null  float64\n",
      " 10  1                10000 non-null  float64\n",
      " 11  2                10000 non-null  float64\n",
      " 12  3                10000 non-null  float64\n",
      " 13  4                10000 non-null  float64\n",
      "dtypes: float64(7), int64(7)\n",
      "memory usage: 1.1 MB\n"
     ]
    }
   ],
   "source": [
    "df.info()"
   ]
  },
  {
   "cell_type": "markdown",
   "id": "9455bbf3",
   "metadata": {},
   "source": [
    "## Outlier removal"
   ]
  },
  {
   "cell_type": "code",
   "execution_count": 116,
   "id": "40eda850",
   "metadata": {},
   "outputs": [
    {
     "data": {
      "image/png": "[encoded data removed]",
      "text/plain": [
       "<Figure size 1080x1224 with 9 Axes>"
      ]
     },
     "metadata": {
      "needs_background": "light"
     },
     "output_type": "display_data"
    }
   ],
   "source": [
    "# Looking for outliers\n",
    "plt.figure(figsize=(15,17))\n",
    "i = 1\n",
    "for col in num_cols:\n",
    "    plt.subplot(5,3,i)\n",
    "    sns.boxplot(data=df, x = col, hue = 'Exited')\n",
    "    i += 1"
   ]
  },
  {
   "cell_type": "code",
   "execution_count": 117,
   "id": "11b240ab",
   "metadata": {},
   "outputs": [],
   "source": [
    "\n",
    "# Removing the Outliers\n",
    "from sklearn.covariance import EllipticEnvelope\n",
    "import warnings\n",
    "warnings.filterwarnings('ignore')\n",
    "\n",
    "out_rem = EllipticEnvelope(contamination=.1,random_state=33)\n",
    "mask = out_rem.fit_predict(df)"
   ]
  },
  {
   "cell_type": "code",
   "execution_count": 118,
   "id": "0a45cbda",
   "metadata": {},
   "outputs": [],
   "source": [
    "mask = np.where(mask != 1,True, False)\n",
    "df['isoutlier'] = mask"
   ]
  },
  {
   "cell_type": "code",
   "execution_count": 119,
   "id": "f8bb4038",
   "metadata": {},
   "outputs": [
    {
     "data": {
      "text/html": [
       "<div>\n",
       "<style scoped>\n",
       "    .dataframe tbody tr th:only-of-type {\n",
       "        vertical-align: middle;\n",
       "    }\n",
       "\n",
       "    .dataframe tbody tr th {\n",
       "        vertical-align: top;\n",
       "    }\n",
       "\n",
       "    .dataframe thead th {\n",
       "        text-align: right;\n",
       "    }\n",
       "</style>\n",
       "<table border=\"1\" class=\"dataframe\">\n",
       "  <thead>\n",
       "    <tr style=\"text-align: right;\">\n",
       "      <th></th>\n",
       "      <th>CreditScore</th>\n",
       "      <th>Age</th>\n",
       "      <th>Tenure</th>\n",
       "      <th>Balance</th>\n",
       "      <th>NumOfProducts</th>\n",
       "      <th>HasCrCard</th>\n",
       "      <th>IsActiveMember</th>\n",
       "      <th>EstimatedSalary</th>\n",
       "      <th>Exited</th>\n",
       "      <th>0</th>\n",
       "      <th>1</th>\n",
       "      <th>2</th>\n",
       "      <th>3</th>\n",
       "      <th>4</th>\n",
       "      <th>isoutlier</th>\n",
       "    </tr>\n",
       "  </thead>\n",
       "  <tbody>\n",
       "    <tr>\n",
       "      <th>0</th>\n",
       "      <td>619</td>\n",
       "      <td>42</td>\n",
       "      <td>2</td>\n",
       "      <td>0.00</td>\n",
       "      <td>1</td>\n",
       "      <td>1</td>\n",
       "      <td>1</td>\n",
       "      <td>101348.88</td>\n",
       "      <td>1</td>\n",
       "      <td>1.0</td>\n",
       "      <td>0.0</td>\n",
       "      <td>0.0</td>\n",
       "      <td>1.0</td>\n",
       "      <td>0.0</td>\n",
       "      <td>False</td>\n",
       "    </tr>\n",
       "    <tr>\n",
       "      <th>1</th>\n",
       "      <td>608</td>\n",
       "      <td>41</td>\n",
       "      <td>1</td>\n",
       "      <td>83807.86</td>\n",
       "      <td>1</td>\n",
       "      <td>0</td>\n",
       "      <td>1</td>\n",
       "      <td>112542.58</td>\n",
       "      <td>0</td>\n",
       "      <td>0.0</td>\n",
       "      <td>0.0</td>\n",
       "      <td>1.0</td>\n",
       "      <td>1.0</td>\n",
       "      <td>0.0</td>\n",
       "      <td>False</td>\n",
       "    </tr>\n",
       "    <tr>\n",
       "      <th>2</th>\n",
       "      <td>502</td>\n",
       "      <td>42</td>\n",
       "      <td>8</td>\n",
       "      <td>159660.80</td>\n",
       "      <td>3</td>\n",
       "      <td>1</td>\n",
       "      <td>0</td>\n",
       "      <td>113931.57</td>\n",
       "      <td>1</td>\n",
       "      <td>1.0</td>\n",
       "      <td>0.0</td>\n",
       "      <td>0.0</td>\n",
       "      <td>1.0</td>\n",
       "      <td>0.0</td>\n",
       "      <td>True</td>\n",
       "    </tr>\n",
       "    <tr>\n",
       "      <th>3</th>\n",
       "      <td>699</td>\n",
       "      <td>39</td>\n",
       "      <td>1</td>\n",
       "      <td>0.00</td>\n",
       "      <td>2</td>\n",
       "      <td>0</td>\n",
       "      <td>0</td>\n",
       "      <td>93826.63</td>\n",
       "      <td>0</td>\n",
       "      <td>1.0</td>\n",
       "      <td>0.0</td>\n",
       "      <td>0.0</td>\n",
       "      <td>1.0</td>\n",
       "      <td>0.0</td>\n",
       "      <td>False</td>\n",
       "    </tr>\n",
       "    <tr>\n",
       "      <th>4</th>\n",
       "      <td>850</td>\n",
       "      <td>43</td>\n",
       "      <td>2</td>\n",
       "      <td>125510.82</td>\n",
       "      <td>1</td>\n",
       "      <td>1</td>\n",
       "      <td>1</td>\n",
       "      <td>79084.10</td>\n",
       "      <td>0</td>\n",
       "      <td>0.0</td>\n",
       "      <td>0.0</td>\n",
       "      <td>1.0</td>\n",
       "      <td>1.0</td>\n",
       "      <td>0.0</td>\n",
       "      <td>False</td>\n",
       "    </tr>\n",
       "  </tbody>\n",
       "</table>\n",
       "</div>"
      ],
      "text/plain": [
       "   CreditScore  Age  Tenure    Balance  NumOfProducts  HasCrCard  \\\n",
       "0          619   42       2       0.00              1          1   \n",
       "1          608   41       1   83807.86              1          0   \n",
       "2          502   42       8  159660.80              3          1   \n",
       "3          699   39       1       0.00              2          0   \n",
       "4          850   43       2  125510.82              1          1   \n",
       "\n",
       "   IsActiveMember  EstimatedSalary  Exited    0    1    2    3    4  isoutlier  \n",
       "0               1        101348.88       1  1.0  0.0  0.0  1.0  0.0      False  \n",
       "1               1        112542.58       0  0.0  0.0  1.0  1.0  0.0      False  \n",
       "2               0        113931.57       1  1.0  0.0  0.0  1.0  0.0       True  \n",
       "3               0         93826.63       0  1.0  0.0  0.0  1.0  0.0      False  \n",
       "4               1         79084.10       0  0.0  0.0  1.0  1.0  0.0      False  "
      ]
     },
     "execution_count": 119,
     "metadata": {},
     "output_type": "execute_result"
    }
   ],
   "source": [
    "df.head()"
   ]
  },
  {
   "cell_type": "code",
   "execution_count": 120,
   "id": "d3363185",
   "metadata": {},
   "outputs": [],
   "source": [
    "df_no_outlier = df[df.isoutlier == False]\n",
    "df_no_outlier.drop('isoutlier',axis = 1, inplace=True)"
   ]
  },
  {
   "cell_type": "code",
   "execution_count": 121,
   "id": "2383854e",
   "metadata": {},
   "outputs": [
    {
     "data": {
      "image/png": "[encoded data removed]",
      "text/plain": [
       "<Figure size 1080x1224 with 9 Axes>"
      ]
     },
     "metadata": {
      "needs_background": "light"
     },
     "output_type": "display_data"
    }
   ],
   "source": [
    "# Looking for outliers again to check the difference\n",
    "plt.figure(figsize=(15,17))\n",
    "i = 1\n",
    "for col in num_cols:\n",
    "    plt.subplot(5,3,i)\n",
    "    sns.boxplot(data=df_no_outlier, x = col, hue = 'Exited')\n",
    "    i += 1"
   ]
  },
  {
   "cell_type": "markdown",
   "id": "7316385b",
   "metadata": {},
   "source": [
    "## Setting response and feature dataframe separate"
   ]
  },
  {
   "cell_type": "code",
   "execution_count": 122,
   "id": "c91f7140",
   "metadata": {},
   "outputs": [],
   "source": [
    "X = df_no_outlier.drop('Exited', axis = 1)\n",
    "y = df_no_outlier.Exited"
   ]
  },
  {
   "cell_type": "markdown",
   "id": "f94069a8",
   "metadata": {},
   "source": [
    "## Checking for class imbalance"
   ]
  },
  {
   "cell_type": "code",
   "execution_count": 123,
   "id": "8a0313d5",
   "metadata": {},
   "outputs": [
    {
     "data": {
      "text/plain": [
       "0    7963\n",
       "1    1037\n",
       "Name: Exited, dtype: int64"
      ]
     },
     "execution_count": 123,
     "metadata": {},
     "output_type": "execute_result"
    }
   ],
   "source": [
    "df_no_outlier.Exited.value_counts()"
   ]
  },
  {
   "cell_type": "code",
   "execution_count": 126,
   "id": "333dd743",
   "metadata": {},
   "outputs": [
    {
     "name": "stdout",
     "output_type": "stream",
     "text": [
      "Original data: X = (9000, 13), (9000,)\n",
      "0    7963\n",
      "1    1037\n",
      "Name: Exited, dtype: int64\n",
      "Oversampled data: X = (15926, 13), (15926,)\n",
      "1    7963\n",
      "0    7963\n",
      "Name: Exited, dtype: int64\n"
     ]
    }
   ],
   "source": [
    "# import library\n",
    "from imblearn.over_sampling import SMOTE\n",
    "\n",
    "smote = SMOTE()\n",
    "\n",
    "\n",
    "# fit predictor and target variable\n",
    "x_smote, y_smote = smote.fit_resample(X, y)\n",
    "\n",
    "\n",
    "print(f'Original data: X = {X.shape}, {y.shape}')\n",
    "print(y.value_counts())\n",
    "print(f'Oversampled data: X = {x_smote.shape}, {y_smote.shape}')\n",
    "print(y_smote.value_counts())\n"
   ]
  },
  {
   "cell_type": "markdown",
   "id": "0e49a406",
   "metadata": {},
   "source": [
    "## Scaling / Normalization"
   ]
  },
  {
   "cell_type": "code",
   "execution_count": 18,
   "id": "f2469540",
   "metadata": {},
   "outputs": [],
   "source": [
    "from sklearn.preprocessing import MinMaxScaler"
   ]
  },
  {
   "cell_type": "code",
   "execution_count": 127,
   "id": "fcd6829f",
   "metadata": {},
   "outputs": [
    {
     "data": {
      "text/plain": [
       "array([[0.53707415, 0.32432432, 0.2       , 0.        , 0.        ,\n",
       "        1.        , 1.        , 0.50673489, 1.        , 0.        ,\n",
       "        0.        , 1.        , 0.        ],\n",
       "       [0.51503006, 0.31081081, 0.1       , 0.37830904, 0.        ,\n",
       "        0.        , 1.        , 0.56270874, 0.        , 0.        ,\n",
       "        1.        , 1.        , 0.        ],\n",
       "       [0.69739479, 0.28378378, 0.1       , 0.        , 0.5       ,\n",
       "        0.        , 0.        , 0.46912005, 1.        , 0.        ,\n",
       "        0.        , 1.        , 0.        ]])"
      ]
     },
     "execution_count": 127,
     "metadata": {},
     "output_type": "execute_result"
    }
   ],
   "source": [
    "scaler = MinMaxScaler()\n",
    "x_smote = scaler.fit_transform(x_smote)\n",
    "x_smote[:3,:]"
   ]
  },
  {
   "cell_type": "markdown",
   "id": "dca30148",
   "metadata": {},
   "source": [
    "## Creating train and test set"
   ]
  },
  {
   "cell_type": "code",
   "execution_count": 20,
   "id": "070dd204",
   "metadata": {},
   "outputs": [],
   "source": [
    "from sklearn.model_selection import train_test_split"
   ]
  },
  {
   "cell_type": "code",
   "execution_count": 128,
   "id": "3fcaf835",
   "metadata": {},
   "outputs": [],
   "source": [
    "xtrain, xtest, ytrain, ytest = train_test_split(x_smote, y_smote, test_size=.1, random_state= 33)"
   ]
  },
  {
   "cell_type": "code",
   "execution_count": 129,
   "id": "2bc9252f",
   "metadata": {},
   "outputs": [
    {
     "data": {
      "text/plain": [
       "(14333, 13)"
      ]
     },
     "execution_count": 129,
     "metadata": {},
     "output_type": "execute_result"
    }
   ],
   "source": [
    "xtrain.shape"
   ]
  },
  {
   "cell_type": "markdown",
   "id": "af64ea5f",
   "metadata": {},
   "source": [
    "## Creating a DL model"
   ]
  },
  {
   "cell_type": "code",
   "execution_count": 130,
   "id": "c6a2937d",
   "metadata": {},
   "outputs": [],
   "source": [
    "import tensorflow as tf\n",
    "from tensorflow import keras\n",
    "from tensorflow.keras.layers import Dense, Activation, Dropout, Flatten"
   ]
  },
  {
   "cell_type": "code",
   "execution_count": 131,
   "id": "ccfa32c2",
   "metadata": {},
   "outputs": [],
   "source": [
    "Model = keras.models.Sequential()"
   ]
  },
  {
   "cell_type": "code",
   "execution_count": 132,
   "id": "ee440ede",
   "metadata": {},
   "outputs": [],
   "source": [
    "Model.add(Dense( units = 20, activation = 'relu'))\n",
    "Model.add(Dropout(.4))\n",
    "\n",
    "Model.add(Dense( units = 15, activation= 'relu'))\n",
    "Model.add(Dropout(.3))\n",
    "\n",
    "Model.add(Dense( units = 10, activation= 'relu'))\n",
    "Model.add(Dropout(.3))\n",
    "\n",
    "Model.add(Dense(units=1, activation='sigmoid'))"
   ]
  },
  {
   "cell_type": "code",
   "execution_count": 133,
   "id": "f25b7764",
   "metadata": {},
   "outputs": [],
   "source": [
    "METRICS = [\n",
    "      keras.metrics.TruePositives(name='tp'),\n",
    "      keras.metrics.FalsePositives(name='fp'),\n",
    "      keras.metrics.TrueNegatives(name='tn'),\n",
    "      keras.metrics.FalseNegatives(name='fn'), \n",
    "      keras.metrics.BinaryAccuracy(name='accuracy'),\n",
    "      keras.metrics.Precision(name='precision'),\n",
    "      keras.metrics.Recall(name='recall'),\n",
    "      keras.metrics.AUC(name='auc'),\n",
    "      keras.metrics.AUC(name='prc', curve='PR'), # precision-recall curve\n",
    "]"
   ]
  },
  {
   "cell_type": "code",
   "execution_count": 134,
   "id": "654706d9",
   "metadata": {},
   "outputs": [],
   "source": [
    "Model.compile(optimizer='Adamax', loss='binary_crossentropy', metrics = METRICS)"
   ]
  },
  {
   "cell_type": "code",
   "execution_count": 135,
   "id": "e8a11c58",
   "metadata": {},
   "outputs": [
    {
     "name": "stdout",
     "output_type": "stream",
     "text": [
      "Epoch 1/100\n",
      "101/101 [==============================] - 2s 7ms/step - loss: 0.7265 - tp: 1580.1471 - fp: 1507.0000 - tn: 1790.9216 - fn: 1712.1078 - accuracy: 0.5080 - precision: 0.5050 - recall: 0.4773 - auc: 0.5059 - prc: 0.4952 - val_loss: 0.6655 - val_tp: 472.0000 - val_fp: 165.0000 - val_tn: 545.0000 - val_fn: 252.0000 - val_accuracy: 0.7092 - val_precision: 0.7410 - val_recall: 0.6519 - val_auc: 0.7702 - val_prc: 0.7259\n",
      "Epoch 2/100\n",
      "101/101 [==============================] - 0s 1ms/step - loss: 0.6773 - tp: 1767.6667 - fp: 1335.0686 - tn: 1996.7451 - fn: 1490.6961 - accuracy: 0.5666 - precision: 0.5635 - recall: 0.5444 - auc: 0.6002 - prc: 0.5648 - val_loss: 0.6182 - val_tp: 502.0000 - val_fp: 146.0000 - val_tn: 564.0000 - val_fn: 222.0000 - val_accuracy: 0.7434 - val_precision: 0.7747 - val_recall: 0.6934 - val_auc: 0.8545 - val_prc: 0.8199\n",
      "Epoch 3/100\n",
      "101/101 [==============================] - 0s 1ms/step - loss: 0.6389 - tp: 2121.6569 - fp: 1175.4804 - tn: 2120.5392 - fn: 1172.5000 - accuracy: 0.6384 - precision: 0.6377 - recall: 0.6337 - auc: 0.6926 - prc: 0.6610 - val_loss: 0.5393 - val_tp: 593.0000 - val_fp: 158.0000 - val_tn: 552.0000 - val_fn: 131.0000 - val_accuracy: 0.7985 - val_precision: 0.7896 - val_recall: 0.8191 - val_auc: 0.8756 - val_prc: 0.8376\n",
      "Epoch 4/100\n",
      "101/101 [==============================] - 0s 1ms/step - loss: 0.5910 - tp: 2356.7549 - fp: 1073.1667 - tn: 2198.5980 - fn: 961.6569 - accuracy: 0.6844 - precision: 0.6829 - recall: 0.7041 - auc: 0.7517 - prc: 0.7298 - val_loss: 0.4754 - val_tp: 611.0000 - val_fp: 154.0000 - val_tn: 556.0000 - val_fn: 113.0000 - val_accuracy: 0.8138 - val_precision: 0.7987 - val_recall: 0.8439 - val_auc: 0.8865 - val_prc: 0.8523\n",
      "Epoch 5/100\n",
      "101/101 [==============================] - 0s 2ms/step - loss: 0.5375 - tp: 2546.5980 - fp: 935.4608 - tn: 2353.4706 - fn: 754.6471 - accuracy: 0.7426 - precision: 0.7295 - recall: 0.7708 - auc: 0.8104 - prc: 0.7810 - val_loss: 0.4355 - val_tp: 637.0000 - val_fp: 176.0000 - val_tn: 534.0000 - val_fn: 87.0000 - val_accuracy: 0.8166 - val_precision: 0.7835 - val_recall: 0.8798 - val_auc: 0.8932 - val_prc: 0.8609\n",
      "Epoch 6/100\n",
      "101/101 [==============================] - 0s 1ms/step - loss: 0.5188 - tp: 2644.8333 - fp: 934.8922 - tn: 2339.1078 - fn: 671.3431 - accuracy: 0.7535 - precision: 0.7349 - recall: 0.7980 - auc: 0.8226 - prc: 0.7926 - val_loss: 0.4097 - val_tp: 630.0000 - val_fp: 153.0000 - val_tn: 557.0000 - val_fn: 94.0000 - val_accuracy: 0.8278 - val_precision: 0.8046 - val_recall: 0.8702 - val_auc: 0.9018 - val_prc: 0.8729\n",
      "Epoch 7/100\n",
      "101/101 [==============================] - 0s 1ms/step - loss: 0.4855 - tp: 2700.7941 - fp: 883.4902 - tn: 2430.1078 - fn: 575.7843 - accuracy: 0.7776 - precision: 0.7533 - recall: 0.8215 - auc: 0.8492 - prc: 0.8130 - val_loss: 0.3902 - val_tp: 640.0000 - val_fp: 149.0000 - val_tn: 561.0000 - val_fn: 84.0000 - val_accuracy: 0.8375 - val_precision: 0.8112 - val_recall: 0.8840 - val_auc: 0.9075 - val_prc: 0.8792\n",
      "Epoch 8/100\n",
      "101/101 [==============================] - 0s 1ms/step - loss: 0.4591 - tp: 2792.5196 - fp: 850.8235 - tn: 2459.0196 - fn: 487.8137 - accuracy: 0.7987 - precision: 0.7679 - recall: 0.8540 - auc: 0.8680 - prc: 0.8373 - val_loss: 0.3748 - val_tp: 653.0000 - val_fp: 153.0000 - val_tn: 557.0000 - val_fn: 71.0000 - val_accuracy: 0.8438 - val_precision: 0.8102 - val_recall: 0.9019 - val_auc: 0.9125 - val_prc: 0.8843\n",
      "Epoch 9/100\n",
      "101/101 [==============================] - 0s 1ms/step - loss: 0.4526 - tp: 2831.2451 - fp: 834.7941 - tn: 2473.4118 - fn: 450.7255 - accuracy: 0.8041 - precision: 0.7720 - recall: 0.8631 - auc: 0.8691 - prc: 0.8356 - val_loss: 0.3616 - val_tp: 660.0000 - val_fp: 147.0000 - val_tn: 563.0000 - val_fn: 64.0000 - val_accuracy: 0.8529 - val_precision: 0.8178 - val_recall: 0.9116 - val_auc: 0.9174 - val_prc: 0.8911\n",
      "Epoch 10/100\n",
      "101/101 [==============================] - 0s 2ms/step - loss: 0.4357 - tp: 2866.1275 - fp: 814.4118 - tn: 2489.6176 - fn: 420.0196 - accuracy: 0.8104 - precision: 0.7771 - recall: 0.8714 - auc: 0.8794 - prc: 0.8420 - val_loss: 0.3506 - val_tp: 654.0000 - val_fp: 139.0000 - val_tn: 571.0000 - val_fn: 70.0000 - val_accuracy: 0.8543 - val_precision: 0.8247 - val_recall: 0.9033 - val_auc: 0.9217 - val_prc: 0.8947\n",
      "Epoch 11/100\n",
      "101/101 [==============================] - 0s 1ms/step - loss: 0.4132 - tp: 2908.5294 - fp: 768.4902 - tn: 2518.1373 - fn: 395.0196 - accuracy: 0.8213 - precision: 0.7892 - recall: 0.8768 - auc: 0.8904 - prc: 0.8678 - val_loss: 0.3422 - val_tp: 654.0000 - val_fp: 138.0000 - val_tn: 572.0000 - val_fn: 70.0000 - val_accuracy: 0.8550 - val_precision: 0.8258 - val_recall: 0.9033 - val_auc: 0.9266 - val_prc: 0.9013\n",
      "Epoch 12/100\n",
      "101/101 [==============================] - 0s 1ms/step - loss: 0.4151 - tp: 2881.7059 - fp: 759.3333 - tn: 2550.6863 - fn: 398.4510 - accuracy: 0.8238 - precision: 0.7905 - recall: 0.8797 - auc: 0.8916 - prc: 0.8675 - val_loss: 0.3340 - val_tp: 662.0000 - val_fp: 138.0000 - val_tn: 572.0000 - val_fn: 62.0000 - val_accuracy: 0.8605 - val_precision: 0.8275 - val_recall: 0.9144 - val_auc: 0.9301 - val_prc: 0.9039\n",
      "Epoch 13/100\n",
      "101/101 [==============================] - 0s 1ms/step - loss: 0.3965 - tp: 2950.3922 - fp: 718.8824 - tn: 2568.6373 - fn: 352.2647 - accuracy: 0.8382 - precision: 0.8031 - recall: 0.8946 - auc: 0.9018 - prc: 0.8737 - val_loss: 0.3268 - val_tp: 652.0000 - val_fp: 125.0000 - val_tn: 585.0000 - val_fn: 72.0000 - val_accuracy: 0.8626 - val_precision: 0.8391 - val_recall: 0.9006 - val_auc: 0.9331 - val_prc: 0.9093\n",
      "Epoch 14/100\n",
      "101/101 [==============================] - 0s 1ms/step - loss: 0.3835 - tp: 2934.6078 - fp: 664.0294 - tn: 2637.4804 - fn: 354.0588 - accuracy: 0.8465 - precision: 0.8174 - recall: 0.8913 - auc: 0.9069 - prc: 0.8796 - val_loss: 0.3195 - val_tp: 659.0000 - val_fp: 127.0000 - val_tn: 583.0000 - val_fn: 65.0000 - val_accuracy: 0.8661 - val_precision: 0.8384 - val_recall: 0.9102 - val_auc: 0.9351 - val_prc: 0.9128\n",
      "Epoch 15/100\n",
      "101/101 [==============================] - 0s 2ms/step - loss: 0.3689 - tp: 2945.6667 - fp: 661.9216 - tn: 2656.2647 - fn: 326.3235 - accuracy: 0.8492 - precision: 0.8147 - recall: 0.9009 - auc: 0.9145 - prc: 0.8933 - val_loss: 0.3135 - val_tp: 666.0000 - val_fp: 130.0000 - val_tn: 580.0000 - val_fn: 58.0000 - val_accuracy: 0.8689 - val_precision: 0.8367 - val_recall: 0.9199 - val_auc: 0.9370 - val_prc: 0.9141\n",
      "Epoch 16/100\n",
      "101/101 [==============================] - 0s 1ms/step - loss: 0.3687 - tp: 2967.8922 - fp: 669.7451 - tn: 2638.6667 - fn: 313.8725 - accuracy: 0.8506 - precision: 0.8153 - recall: 0.9045 - auc: 0.9139 - prc: 0.8919 - val_loss: 0.3091 - val_tp: 659.0000 - val_fp: 122.0000 - val_tn: 588.0000 - val_fn: 65.0000 - val_accuracy: 0.8696 - val_precision: 0.8438 - val_recall: 0.9102 - val_auc: 0.9377 - val_prc: 0.9159\n",
      "Epoch 17/100\n",
      "101/101 [==============================] - 0s 1ms/step - loss: 0.3567 - tp: 2988.0490 - fp: 627.6765 - tn: 2671.1471 - fn: 303.3039 - accuracy: 0.8594 - precision: 0.8270 - recall: 0.9080 - auc: 0.9187 - prc: 0.8967 - val_loss: 0.3046 - val_tp: 665.0000 - val_fp: 121.0000 - val_tn: 589.0000 - val_fn: 59.0000 - val_accuracy: 0.8745 - val_precision: 0.8461 - val_recall: 0.9185 - val_auc: 0.9386 - val_prc: 0.9172\n",
      "Epoch 18/100\n",
      "101/101 [==============================] - 0s 2ms/step - loss: 0.3578 - tp: 2976.2255 - fp: 655.7353 - tn: 2636.8824 - fn: 321.3333 - accuracy: 0.8511 - precision: 0.8185 - recall: 0.9020 - auc: 0.9196 - prc: 0.8996 - val_loss: 0.3016 - val_tp: 666.0000 - val_fp: 118.0000 - val_tn: 592.0000 - val_fn: 58.0000 - val_accuracy: 0.8773 - val_precision: 0.8495 - val_recall: 0.9199 - val_auc: 0.9396 - val_prc: 0.9180\n",
      "Epoch 19/100\n",
      "101/101 [==============================] - 0s 1ms/step - loss: 0.3593 - tp: 3000.9314 - fp: 622.6765 - tn: 2657.2549 - fn: 309.3137 - accuracy: 0.8610 - precision: 0.8322 - recall: 0.9089 - auc: 0.9203 - prc: 0.9028 - val_loss: 0.2994 - val_tp: 665.0000 - val_fp: 116.0000 - val_tn: 594.0000 - val_fn: 59.0000 - val_accuracy: 0.8780 - val_precision: 0.8515 - val_recall: 0.9185 - val_auc: 0.9403 - val_prc: 0.9182\n",
      "Epoch 20/100\n"
     ]
    },
    {
     "name": "stdout",
     "output_type": "stream",
     "text": [
      "101/101 [==============================] - 0s 2ms/step - loss: 0.3500 - tp: 2986.7255 - fp: 596.6275 - tn: 2707.6569 - fn: 299.1667 - accuracy: 0.8631 - precision: 0.8349 - recall: 0.9063 - auc: 0.9222 - prc: 0.8973 - val_loss: 0.2967 - val_tp: 664.0000 - val_fp: 113.0000 - val_tn: 597.0000 - val_fn: 60.0000 - val_accuracy: 0.8794 - val_precision: 0.8546 - val_recall: 0.9171 - val_auc: 0.9410 - val_prc: 0.9184\n",
      "Epoch 21/100\n",
      "101/101 [==============================] - 0s 2ms/step - loss: 0.3485 - tp: 2982.6863 - fp: 622.1078 - tn: 2685.8431 - fn: 299.5392 - accuracy: 0.8600 - precision: 0.8258 - recall: 0.9126 - auc: 0.9216 - prc: 0.8993 - val_loss: 0.2945 - val_tp: 667.0000 - val_fp: 118.0000 - val_tn: 592.0000 - val_fn: 57.0000 - val_accuracy: 0.8780 - val_precision: 0.8497 - val_recall: 0.9213 - val_auc: 0.9417 - val_prc: 0.9197\n",
      "Epoch 22/100\n",
      "101/101 [==============================] - 0s 2ms/step - loss: 0.3458 - tp: 3012.2549 - fp: 595.7647 - tn: 2691.6176 - fn: 290.5392 - accuracy: 0.8660 - precision: 0.8356 - recall: 0.9125 - auc: 0.9245 - prc: 0.9037 - val_loss: 0.2939 - val_tp: 663.0000 - val_fp: 109.0000 - val_tn: 601.0000 - val_fn: 61.0000 - val_accuracy: 0.8815 - val_precision: 0.8588 - val_recall: 0.9157 - val_auc: 0.9421 - val_prc: 0.9193\n",
      "Epoch 23/100\n",
      "101/101 [==============================] - 0s 1ms/step - loss: 0.3384 - tp: 3001.5588 - fp: 579.6471 - tn: 2720.6275 - fn: 288.3431 - accuracy: 0.8692 - precision: 0.8411 - recall: 0.9117 - auc: 0.9283 - prc: 0.9083 - val_loss: 0.2917 - val_tp: 668.0000 - val_fp: 113.0000 - val_tn: 597.0000 - val_fn: 56.0000 - val_accuracy: 0.8821 - val_precision: 0.8553 - val_recall: 0.9227 - val_auc: 0.9428 - val_prc: 0.9196\n",
      "Epoch 24/100\n",
      "101/101 [==============================] - 0s 1ms/step - loss: 0.3399 - tp: 2961.2647 - fp: 571.1275 - tn: 2767.7451 - fn: 290.0392 - accuracy: 0.8687 - precision: 0.8365 - recall: 0.9104 - auc: 0.9264 - prc: 0.8987 - val_loss: 0.2906 - val_tp: 673.0000 - val_fp: 118.0000 - val_tn: 592.0000 - val_fn: 51.0000 - val_accuracy: 0.8821 - val_precision: 0.8508 - val_recall: 0.9296 - val_auc: 0.9432 - val_prc: 0.9194\n",
      "Epoch 25/100\n",
      "101/101 [==============================] - 0s 1ms/step - loss: 0.3428 - tp: 3019.8529 - fp: 593.1373 - tn: 2701.7157 - fn: 275.4706 - accuracy: 0.8682 - precision: 0.8350 - recall: 0.9188 - auc: 0.9263 - prc: 0.9045 - val_loss: 0.2893 - val_tp: 668.0000 - val_fp: 113.0000 - val_tn: 597.0000 - val_fn: 56.0000 - val_accuracy: 0.8821 - val_precision: 0.8553 - val_recall: 0.9227 - val_auc: 0.9436 - val_prc: 0.9202\n",
      "Epoch 26/100\n",
      "101/101 [==============================] - 0s 1ms/step - loss: 0.3321 - tp: 3016.8725 - fp: 580.8627 - tn: 2719.6569 - fn: 272.7843 - accuracy: 0.8699 - precision: 0.8361 - recall: 0.9172 - auc: 0.9301 - prc: 0.9104 - val_loss: 0.2891 - val_tp: 662.0000 - val_fp: 103.0000 - val_tn: 607.0000 - val_fn: 62.0000 - val_accuracy: 0.8849 - val_precision: 0.8654 - val_recall: 0.9144 - val_auc: 0.9440 - val_prc: 0.9201\n",
      "Epoch 27/100\n",
      "101/101 [==============================] - 0s 1ms/step - loss: 0.3372 - tp: 3001.7745 - fp: 554.8529 - tn: 2732.7647 - fn: 300.7843 - accuracy: 0.8691 - precision: 0.8434 - recall: 0.9072 - auc: 0.9293 - prc: 0.9091 - val_loss: 0.2870 - val_tp: 667.0000 - val_fp: 112.0000 - val_tn: 598.0000 - val_fn: 57.0000 - val_accuracy: 0.8821 - val_precision: 0.8562 - val_recall: 0.9213 - val_auc: 0.9444 - val_prc: 0.9197\n",
      "Epoch 28/100\n",
      "101/101 [==============================] - 0s 1ms/step - loss: 0.3309 - tp: 2992.6275 - fp: 577.0196 - tn: 2731.8725 - fn: 288.6569 - accuracy: 0.8693 - precision: 0.8366 - recall: 0.9148 - auc: 0.9304 - prc: 0.9111 - val_loss: 0.2862 - val_tp: 667.0000 - val_fp: 105.0000 - val_tn: 605.0000 - val_fn: 57.0000 - val_accuracy: 0.8870 - val_precision: 0.8640 - val_recall: 0.9213 - val_auc: 0.9448 - val_prc: 0.9205\n",
      "Epoch 29/100\n",
      "101/101 [==============================] - 0s 1ms/step - loss: 0.3285 - tp: 3002.4608 - fp: 550.2451 - tn: 2764.1471 - fn: 273.3235 - accuracy: 0.8758 - precision: 0.8454 - recall: 0.9162 - auc: 0.9328 - prc: 0.9105 - val_loss: 0.2853 - val_tp: 669.0000 - val_fp: 104.0000 - val_tn: 606.0000 - val_fn: 55.0000 - val_accuracy: 0.8891 - val_precision: 0.8655 - val_recall: 0.9240 - val_auc: 0.9452 - val_prc: 0.9204\n",
      "Epoch 30/100\n",
      "101/101 [==============================] - 0s 1ms/step - loss: 0.3204 - tp: 3029.7941 - fp: 555.4020 - tn: 2722.6471 - fn: 282.3333 - accuracy: 0.8728 - precision: 0.8466 - recall: 0.9146 - auc: 0.9350 - prc: 0.9203 - val_loss: 0.2843 - val_tp: 666.0000 - val_fp: 103.0000 - val_tn: 607.0000 - val_fn: 58.0000 - val_accuracy: 0.8877 - val_precision: 0.8661 - val_recall: 0.9199 - val_auc: 0.9454 - val_prc: 0.9218\n",
      "Epoch 31/100\n",
      "101/101 [==============================] - 0s 1ms/step - loss: 0.3185 - tp: 2977.6863 - fp: 528.3922 - tn: 2791.5294 - fn: 292.5686 - accuracy: 0.8787 - precision: 0.8545 - recall: 0.9102 - auc: 0.9363 - prc: 0.9170 - val_loss: 0.2833 - val_tp: 670.0000 - val_fp: 108.0000 - val_tn: 602.0000 - val_fn: 54.0000 - val_accuracy: 0.8870 - val_precision: 0.8612 - val_recall: 0.9254 - val_auc: 0.9460 - val_prc: 0.9212\n",
      "Epoch 32/100\n",
      "101/101 [==============================] - 0s 1ms/step - loss: 0.3146 - tp: 3044.3529 - fp: 539.0000 - tn: 2753.7353 - fn: 253.0882 - accuracy: 0.8825 - precision: 0.8517 - recall: 0.9269 - auc: 0.9368 - prc: 0.9200 - val_loss: 0.2827 - val_tp: 669.0000 - val_fp: 109.0000 - val_tn: 601.0000 - val_fn: 55.0000 - val_accuracy: 0.8856 - val_precision: 0.8599 - val_recall: 0.9240 - val_auc: 0.9462 - val_prc: 0.9208\n",
      "Epoch 33/100\n",
      "101/101 [==============================] - 0s 1ms/step - loss: 0.3243 - tp: 3048.8039 - fp: 550.3137 - tn: 2730.7647 - fn: 260.2941 - accuracy: 0.8777 - precision: 0.8484 - recall: 0.9233 - auc: 0.9333 - prc: 0.9114 - val_loss: 0.2828 - val_tp: 661.0000 - val_fp: 99.0000 - val_tn: 611.0000 - val_fn: 63.0000 - val_accuracy: 0.8870 - val_precision: 0.8697 - val_recall: 0.9130 - val_auc: 0.9465 - val_prc: 0.9213\n",
      "Epoch 34/100\n",
      "101/101 [==============================] - 0s 1ms/step - loss: 0.3229 - tp: 2997.1078 - fp: 514.5000 - tn: 2791.1078 - fn: 287.4608 - accuracy: 0.8789 - precision: 0.8552 - recall: 0.9116 - auc: 0.9348 - prc: 0.9165 - val_loss: 0.2811 - val_tp: 671.0000 - val_fp: 107.0000 - val_tn: 603.0000 - val_fn: 53.0000 - val_accuracy: 0.8884 - val_precision: 0.8625 - val_recall: 0.9268 - val_auc: 0.9469 - val_prc: 0.9212\n",
      "Epoch 35/100\n",
      "101/101 [==============================] - 0s 1ms/step - loss: 0.3247 - tp: 3030.4216 - fp: 540.4804 - tn: 2754.9118 - fn: 264.3627 - accuracy: 0.8780 - precision: 0.8473 - recall: 0.9220 - auc: 0.9329 - prc: 0.9093 - val_loss: 0.2807 - val_tp: 668.0000 - val_fp: 104.0000 - val_tn: 606.0000 - val_fn: 56.0000 - val_accuracy: 0.8884 - val_precision: 0.8653 - val_recall: 0.9227 - val_auc: 0.9472 - val_prc: 0.9208\n",
      "Epoch 36/100\n",
      "101/101 [==============================] - 0s 1ms/step - loss: 0.3136 - tp: 3016.8039 - fp: 522.2255 - tn: 2777.0196 - fn: 274.1275 - accuracy: 0.8808 - precision: 0.8552 - recall: 0.9164 - auc: 0.9381 - prc: 0.9235 - val_loss: 0.2801 - val_tp: 668.0000 - val_fp: 104.0000 - val_tn: 606.0000 - val_fn: 56.0000 - val_accuracy: 0.8884 - val_precision: 0.8653 - val_recall: 0.9227 - val_auc: 0.9474 - val_prc: 0.9212\n",
      "Epoch 37/100\n",
      "101/101 [==============================] - 0s 1ms/step - loss: 0.3164 - tp: 3022.0980 - fp: 543.1961 - tn: 2765.4020 - fn: 259.4804 - accuracy: 0.8790 - precision: 0.8462 - recall: 0.9232 - auc: 0.9384 - prc: 0.9186 - val_loss: 0.2799 - val_tp: 667.0000 - val_fp: 98.0000 - val_tn: 612.0000 - val_fn: 57.0000 - val_accuracy: 0.8919 - val_precision: 0.8719 - val_recall: 0.9213 - val_auc: 0.9474 - val_prc: 0.9207\n",
      "Epoch 38/100\n",
      "101/101 [==============================] - 0s 1ms/step - loss: 0.3175 - tp: 2985.9510 - fp: 517.1176 - tn: 2794.5098 - fn: 292.5980 - accuracy: 0.8773 - precision: 0.8507 - recall: 0.9129 - auc: 0.9373 - prc: 0.9167 - val_loss: 0.2801 - val_tp: 665.0000 - val_fp: 97.0000 - val_tn: 613.0000 - val_fn: 59.0000 - val_accuracy: 0.8912 - val_precision: 0.8727 - val_recall: 0.9185 - val_auc: 0.9473 - val_prc: 0.9208\n",
      "Epoch 39/100\n"
     ]
    },
    {
     "name": "stdout",
     "output_type": "stream",
     "text": [
      "101/101 [==============================] - 0s 1ms/step - loss: 0.3169 - tp: 3028.1373 - fp: 526.4804 - tn: 2753.7941 - fn: 281.7647 - accuracy: 0.8792 - precision: 0.8558 - recall: 0.9143 - auc: 0.9365 - prc: 0.9211 - val_loss: 0.2800 - val_tp: 663.0000 - val_fp: 97.0000 - val_tn: 613.0000 - val_fn: 61.0000 - val_accuracy: 0.8898 - val_precision: 0.8724 - val_recall: 0.9157 - val_auc: 0.9474 - val_prc: 0.9201\n",
      "Epoch 40/100\n",
      "101/101 [==============================] - 0s 1ms/step - loss: 0.3155 - tp: 3033.7941 - fp: 498.9314 - tn: 2781.7255 - fn: 275.7255 - accuracy: 0.8825 - precision: 0.8600 - recall: 0.9159 - auc: 0.9373 - prc: 0.9205 - val_loss: 0.2789 - val_tp: 666.0000 - val_fp: 98.0000 - val_tn: 612.0000 - val_fn: 58.0000 - val_accuracy: 0.8912 - val_precision: 0.8717 - val_recall: 0.9199 - val_auc: 0.9479 - val_prc: 0.9210\n",
      "Epoch 41/100\n",
      "101/101 [==============================] - 0s 1ms/step - loss: 0.3098 - tp: 3006.2157 - fp: 494.5588 - tn: 2821.7353 - fn: 267.6667 - accuracy: 0.8834 - precision: 0.8565 - recall: 0.9186 - auc: 0.9385 - prc: 0.9197 - val_loss: 0.2779 - val_tp: 667.0000 - val_fp: 100.0000 - val_tn: 610.0000 - val_fn: 57.0000 - val_accuracy: 0.8905 - val_precision: 0.8696 - val_recall: 0.9213 - val_auc: 0.9484 - val_prc: 0.9218\n",
      "Epoch 42/100\n",
      "101/101 [==============================] - 0s 1ms/step - loss: 0.3063 - tp: 3030.4412 - fp: 506.8922 - tn: 2791.7451 - fn: 261.0980 - accuracy: 0.8853 - precision: 0.8581 - recall: 0.9234 - auc: 0.9402 - prc: 0.9231 - val_loss: 0.2778 - val_tp: 666.0000 - val_fp: 98.0000 - val_tn: 612.0000 - val_fn: 58.0000 - val_accuracy: 0.8912 - val_precision: 0.8717 - val_recall: 0.9199 - val_auc: 0.9483 - val_prc: 0.9210\n",
      "Epoch 43/100\n",
      "101/101 [==============================] - 0s 1ms/step - loss: 0.3139 - tp: 3030.5000 - fp: 498.9902 - tn: 2787.0490 - fn: 273.6373 - accuracy: 0.8818 - precision: 0.8560 - recall: 0.9192 - auc: 0.9368 - prc: 0.9178 - val_loss: 0.2772 - val_tp: 663.0000 - val_fp: 98.0000 - val_tn: 612.0000 - val_fn: 61.0000 - val_accuracy: 0.8891 - val_precision: 0.8712 - val_recall: 0.9157 - val_auc: 0.9484 - val_prc: 0.9207\n",
      "Epoch 44/100\n",
      "101/101 [==============================] - 0s 1ms/step - loss: 0.3052 - tp: 2999.2059 - fp: 504.2059 - tn: 2792.0000 - fn: 294.7647 - accuracy: 0.8793 - precision: 0.8571 - recall: 0.9096 - auc: 0.9420 - prc: 0.9288 - val_loss: 0.2780 - val_tp: 666.0000 - val_fp: 97.0000 - val_tn: 613.0000 - val_fn: 58.0000 - val_accuracy: 0.8919 - val_precision: 0.8729 - val_recall: 0.9199 - val_auc: 0.9483 - val_prc: 0.9211\n",
      "Epoch 45/100\n",
      "101/101 [==============================] - 0s 1ms/step - loss: 0.3196 - tp: 2979.7451 - fp: 478.7549 - tn: 2829.2647 - fn: 302.4118 - accuracy: 0.8775 - precision: 0.8554 - recall: 0.9052 - auc: 0.9341 - prc: 0.9114 - val_loss: 0.2781 - val_tp: 667.0000 - val_fp: 100.0000 - val_tn: 610.0000 - val_fn: 57.0000 - val_accuracy: 0.8905 - val_precision: 0.8696 - val_recall: 0.9213 - val_auc: 0.9482 - val_prc: 0.9202\n",
      "Epoch 46/100\n",
      "101/101 [==============================] - 0s 1ms/step - loss: 0.3092 - tp: 3025.4314 - fp: 503.7353 - tn: 2803.6373 - fn: 257.3725 - accuracy: 0.8857 - precision: 0.8574 - recall: 0.9241 - auc: 0.9388 - prc: 0.9202 - val_loss: 0.2771 - val_tp: 664.0000 - val_fp: 96.0000 - val_tn: 614.0000 - val_fn: 60.0000 - val_accuracy: 0.8912 - val_precision: 0.8737 - val_recall: 0.9171 - val_auc: 0.9485 - val_prc: 0.9208\n",
      "Epoch 47/100\n",
      "101/101 [==============================] - 0s 1ms/step - loss: 0.3117 - tp: 3011.1078 - fp: 505.1275 - tn: 2789.5686 - fn: 284.3725 - accuracy: 0.8787 - precision: 0.8541 - recall: 0.9132 - auc: 0.9387 - prc: 0.9234 - val_loss: 0.2770 - val_tp: 665.0000 - val_fp: 97.0000 - val_tn: 613.0000 - val_fn: 59.0000 - val_accuracy: 0.8912 - val_precision: 0.8727 - val_recall: 0.9185 - val_auc: 0.9486 - val_prc: 0.9206\n",
      "Epoch 48/100\n",
      "101/101 [==============================] - 0s 1ms/step - loss: 0.3122 - tp: 3004.4216 - fp: 534.9706 - tn: 2775.6373 - fn: 275.1471 - accuracy: 0.8805 - precision: 0.8533 - recall: 0.9177 - auc: 0.9386 - prc: 0.9227 - val_loss: 0.2775 - val_tp: 667.0000 - val_fp: 97.0000 - val_tn: 613.0000 - val_fn: 57.0000 - val_accuracy: 0.8926 - val_precision: 0.8730 - val_recall: 0.9213 - val_auc: 0.9484 - val_prc: 0.9203\n",
      "Epoch 49/100\n",
      "101/101 [==============================] - 0s 1ms/step - loss: 0.3081 - tp: 3041.0686 - fp: 510.0196 - tn: 2781.5588 - fn: 257.5294 - accuracy: 0.8843 - precision: 0.8554 - recall: 0.9259 - auc: 0.9390 - prc: 0.9220 - val_loss: 0.2761 - val_tp: 667.0000 - val_fp: 96.0000 - val_tn: 614.0000 - val_fn: 57.0000 - val_accuracy: 0.8933 - val_precision: 0.8742 - val_recall: 0.9213 - val_auc: 0.9489 - val_prc: 0.9206\n",
      "Epoch 50/100\n",
      "101/101 [==============================] - 0s 1ms/step - loss: 0.3048 - tp: 3040.1373 - fp: 509.5784 - tn: 2770.8137 - fn: 269.6471 - accuracy: 0.8835 - precision: 0.8577 - recall: 0.9212 - auc: 0.9414 - prc: 0.9245 - val_loss: 0.2760 - val_tp: 665.0000 - val_fp: 96.0000 - val_tn: 614.0000 - val_fn: 59.0000 - val_accuracy: 0.8919 - val_precision: 0.8739 - val_recall: 0.9185 - val_auc: 0.9490 - val_prc: 0.9206\n",
      "Epoch 51/100\n",
      "101/101 [==============================] - 0s 1ms/step - loss: 0.3108 - tp: 3017.9902 - fp: 492.9804 - tn: 2809.1765 - fn: 270.0294 - accuracy: 0.8825 - precision: 0.8563 - recall: 0.9181 - auc: 0.9388 - prc: 0.9198 - val_loss: 0.2751 - val_tp: 668.0000 - val_fp: 97.0000 - val_tn: 613.0000 - val_fn: 56.0000 - val_accuracy: 0.8933 - val_precision: 0.8732 - val_recall: 0.9227 - val_auc: 0.9492 - val_prc: 0.9210\n",
      "Epoch 52/100\n",
      "101/101 [==============================] - 0s 1ms/step - loss: 0.3112 - tp: 2992.2843 - fp: 496.6078 - tn: 2812.6863 - fn: 288.5980 - accuracy: 0.8792 - precision: 0.8567 - recall: 0.9086 - auc: 0.9392 - prc: 0.9214 - val_loss: 0.2763 - val_tp: 665.0000 - val_fp: 97.0000 - val_tn: 613.0000 - val_fn: 59.0000 - val_accuracy: 0.8912 - val_precision: 0.8727 - val_recall: 0.9185 - val_auc: 0.9492 - val_prc: 0.9217\n",
      "Epoch 53/100\n",
      "101/101 [==============================] - 0s 1ms/step - loss: 0.3027 - tp: 3029.5098 - fp: 496.3333 - tn: 2787.3039 - fn: 277.0294 - accuracy: 0.8818 - precision: 0.8573 - recall: 0.9176 - auc: 0.9420 - prc: 0.9270 - val_loss: 0.2748 - val_tp: 661.0000 - val_fp: 96.0000 - val_tn: 614.0000 - val_fn: 63.0000 - val_accuracy: 0.8891 - val_precision: 0.8732 - val_recall: 0.9130 - val_auc: 0.9497 - val_prc: 0.9223\n",
      "Epoch 54/100\n",
      "101/101 [==============================] - 0s 1ms/step - loss: 0.3107 - tp: 3015.7843 - fp: 488.6176 - tn: 2810.4804 - fn: 275.2941 - accuracy: 0.8817 - precision: 0.8569 - recall: 0.9137 - auc: 0.9402 - prc: 0.9205 - val_loss: 0.2748 - val_tp: 662.0000 - val_fp: 95.0000 - val_tn: 615.0000 - val_fn: 62.0000 - val_accuracy: 0.8905 - val_precision: 0.8745 - val_recall: 0.9144 - val_auc: 0.9495 - val_prc: 0.9215\n",
      "Epoch 55/100\n",
      "101/101 [==============================] - 0s 1ms/step - loss: 0.2974 - tp: 2996.1471 - fp: 483.3137 - tn: 2833.8137 - fn: 276.9020 - accuracy: 0.8852 - precision: 0.8631 - recall: 0.9143 - auc: 0.9445 - prc: 0.9311 - val_loss: 0.2745 - val_tp: 664.0000 - val_fp: 95.0000 - val_tn: 615.0000 - val_fn: 60.0000 - val_accuracy: 0.8919 - val_precision: 0.8748 - val_recall: 0.9171 - val_auc: 0.9496 - val_prc: 0.9215\n",
      "Epoch 56/100\n",
      "101/101 [==============================] - 0s 1ms/step - loss: 0.3031 - tp: 3035.4902 - fp: 480.8039 - tn: 2798.4902 - fn: 275.3922 - accuracy: 0.8865 - precision: 0.8653 - recall: 0.9181 - auc: 0.9423 - prc: 0.9283 - val_loss: 0.2740 - val_tp: 662.0000 - val_fp: 95.0000 - val_tn: 615.0000 - val_fn: 62.0000 - val_accuracy: 0.8905 - val_precision: 0.8745 - val_recall: 0.9144 - val_auc: 0.9498 - val_prc: 0.9222\n",
      "Epoch 57/100\n",
      "101/101 [==============================] - 0s 1ms/step - loss: 0.3035 - tp: 3026.9902 - fp: 498.1373 - tn: 2796.5098 - fn: 268.5392 - accuracy: 0.8830 - precision: 0.8572 - recall: 0.9191 - auc: 0.9414 - prc: 0.9264 - val_loss: 0.2742 - val_tp: 665.0000 - val_fp: 96.0000 - val_tn: 614.0000 - val_fn: 59.0000 - val_accuracy: 0.8919 - val_precision: 0.8739 - val_recall: 0.9185 - val_auc: 0.9499 - val_prc: 0.9222\n",
      "Epoch 58/100\n"
     ]
    },
    {
     "name": "stdout",
     "output_type": "stream",
     "text": [
      "101/101 [==============================] - 0s 1ms/step - loss: 0.2915 - tp: 3065.0686 - fp: 482.0588 - tn: 2783.5980 - fn: 259.4510 - accuracy: 0.8885 - precision: 0.8645 - recall: 0.9237 - auc: 0.9456 - prc: 0.9329 - val_loss: 0.2731 - val_tp: 657.0000 - val_fp: 92.0000 - val_tn: 618.0000 - val_fn: 67.0000 - val_accuracy: 0.8891 - val_precision: 0.8772 - val_recall: 0.9075 - val_auc: 0.9502 - val_prc: 0.9221\n",
      "Epoch 59/100\n",
      "101/101 [==============================] - 0s 1ms/step - loss: 0.3052 - tp: 3014.0000 - fp: 476.7745 - tn: 2814.8824 - fn: 284.5196 - accuracy: 0.8835 - precision: 0.8633 - recall: 0.9115 - auc: 0.9418 - prc: 0.9252 - val_loss: 0.2726 - val_tp: 663.0000 - val_fp: 93.0000 - val_tn: 617.0000 - val_fn: 61.0000 - val_accuracy: 0.8926 - val_precision: 0.8770 - val_recall: 0.9157 - val_auc: 0.9503 - val_prc: 0.9218\n",
      "Epoch 60/100\n",
      "101/101 [==============================] - 0s 1ms/step - loss: 0.2935 - tp: 3034.6275 - fp: 474.0098 - tn: 2812.3627 - fn: 269.1765 - accuracy: 0.8890 - precision: 0.8687 - recall: 0.9198 - auc: 0.9454 - prc: 0.9320 - val_loss: 0.2721 - val_tp: 662.0000 - val_fp: 93.0000 - val_tn: 617.0000 - val_fn: 62.0000 - val_accuracy: 0.8919 - val_precision: 0.8768 - val_recall: 0.9144 - val_auc: 0.9505 - val_prc: 0.9220\n",
      "Epoch 61/100\n",
      "101/101 [==============================] - 0s 1ms/step - loss: 0.3057 - tp: 2984.2451 - fp: 475.5294 - tn: 2857.1078 - fn: 273.2941 - accuracy: 0.8843 - precision: 0.8599 - recall: 0.9138 - auc: 0.9407 - prc: 0.9229 - val_loss: 0.2728 - val_tp: 662.0000 - val_fp: 93.0000 - val_tn: 617.0000 - val_fn: 62.0000 - val_accuracy: 0.8919 - val_precision: 0.8768 - val_recall: 0.9144 - val_auc: 0.9505 - val_prc: 0.9224\n",
      "Epoch 62/100\n",
      "101/101 [==============================] - 0s 1ms/step - loss: 0.2997 - tp: 3020.5686 - fp: 478.0882 - tn: 2819.0784 - fn: 272.4412 - accuracy: 0.8859 - precision: 0.8613 - recall: 0.9193 - auc: 0.9423 - prc: 0.9239 - val_loss: 0.2730 - val_tp: 671.0000 - val_fp: 97.0000 - val_tn: 613.0000 - val_fn: 53.0000 - val_accuracy: 0.8954 - val_precision: 0.8737 - val_recall: 0.9268 - val_auc: 0.9502 - val_prc: 0.9213\n",
      "Epoch 63/100\n",
      "101/101 [==============================] - 0s 1ms/step - loss: 0.2952 - tp: 3025.5980 - fp: 484.9314 - tn: 2817.2843 - fn: 262.3627 - accuracy: 0.8880 - precision: 0.8621 - recall: 0.9225 - auc: 0.9442 - prc: 0.9277 - val_loss: 0.2728 - val_tp: 661.0000 - val_fp: 93.0000 - val_tn: 617.0000 - val_fn: 63.0000 - val_accuracy: 0.8912 - val_precision: 0.8767 - val_recall: 0.9130 - val_auc: 0.9506 - val_prc: 0.9221\n",
      "Epoch 64/100\n",
      "101/101 [==============================] - 0s 1ms/step - loss: 0.3101 - tp: 3032.6569 - fp: 486.3824 - tn: 2793.4804 - fn: 277.6569 - accuracy: 0.8813 - precision: 0.8597 - recall: 0.9140 - auc: 0.9394 - prc: 0.9248 - val_loss: 0.2727 - val_tp: 659.0000 - val_fp: 92.0000 - val_tn: 618.0000 - val_fn: 65.0000 - val_accuracy: 0.8905 - val_precision: 0.8775 - val_recall: 0.9102 - val_auc: 0.9504 - val_prc: 0.9215\n",
      "Epoch 65/100\n",
      "101/101 [==============================] - 0s 1ms/step - loss: 0.2908 - tp: 3002.2549 - fp: 461.9706 - tn: 2847.9216 - fn: 278.0294 - accuracy: 0.8887 - precision: 0.8658 - recall: 0.9175 - auc: 0.9471 - prc: 0.9314 - val_loss: 0.2720 - val_tp: 666.0000 - val_fp: 93.0000 - val_tn: 617.0000 - val_fn: 58.0000 - val_accuracy: 0.8947 - val_precision: 0.8775 - val_recall: 0.9199 - val_auc: 0.9507 - val_prc: 0.9225\n",
      "Epoch 66/100\n",
      "101/101 [==============================] - 0s 1ms/step - loss: 0.2973 - tp: 3051.8529 - fp: 484.8333 - tn: 2797.5686 - fn: 255.9216 - accuracy: 0.8873 - precision: 0.8637 - recall: 0.9218 - auc: 0.9447 - prc: 0.9301 - val_loss: 0.2727 - val_tp: 659.0000 - val_fp: 92.0000 - val_tn: 618.0000 - val_fn: 65.0000 - val_accuracy: 0.8905 - val_precision: 0.8775 - val_recall: 0.9102 - val_auc: 0.9504 - val_prc: 0.9220\n",
      "Epoch 67/100\n",
      "101/101 [==============================] - 0s 2ms/step - loss: 0.2874 - tp: 3008.6471 - fp: 457.6765 - tn: 2862.1471 - fn: 261.7059 - accuracy: 0.8926 - precision: 0.8679 - recall: 0.9246 - auc: 0.9476 - prc: 0.9281 - val_loss: 0.2717 - val_tp: 670.0000 - val_fp: 95.0000 - val_tn: 615.0000 - val_fn: 54.0000 - val_accuracy: 0.8961 - val_precision: 0.8758 - val_recall: 0.9254 - val_auc: 0.9510 - val_prc: 0.9237\n",
      "Epoch 68/100\n",
      "101/101 [==============================] - 0s 1ms/step - loss: 0.2930 - tp: 3036.2549 - fp: 478.7353 - tn: 2828.0294 - fn: 247.1569 - accuracy: 0.8889 - precision: 0.8623 - recall: 0.9241 - auc: 0.9454 - prc: 0.9294 - val_loss: 0.2708 - val_tp: 660.0000 - val_fp: 91.0000 - val_tn: 619.0000 - val_fn: 64.0000 - val_accuracy: 0.8919 - val_precision: 0.8788 - val_recall: 0.9116 - val_auc: 0.9512 - val_prc: 0.9229\n",
      "Epoch 69/100\n",
      "101/101 [==============================] - 0s 1ms/step - loss: 0.3050 - tp: 3016.6863 - fp: 489.3529 - tn: 2797.9804 - fn: 286.1569 - accuracy: 0.8823 - precision: 0.8622 - recall: 0.9126 - auc: 0.9413 - prc: 0.9279 - val_loss: 0.2711 - val_tp: 664.0000 - val_fp: 93.0000 - val_tn: 617.0000 - val_fn: 60.0000 - val_accuracy: 0.8933 - val_precision: 0.8771 - val_recall: 0.9171 - val_auc: 0.9508 - val_prc: 0.9220\n",
      "Epoch 70/100\n",
      "101/101 [==============================] - 0s 1ms/step - loss: 0.2915 - tp: 3005.8333 - fp: 470.0686 - tn: 2850.0392 - fn: 264.2353 - accuracy: 0.8888 - precision: 0.8655 - recall: 0.9192 - auc: 0.9459 - prc: 0.9312 - val_loss: 0.2709 - val_tp: 663.0000 - val_fp: 94.0000 - val_tn: 616.0000 - val_fn: 61.0000 - val_accuracy: 0.8919 - val_precision: 0.8758 - val_recall: 0.9157 - val_auc: 0.9511 - val_prc: 0.9230\n",
      "Epoch 71/100\n",
      "101/101 [==============================] - 0s 1ms/step - loss: 0.3035 - tp: 3026.4216 - fp: 467.8627 - tn: 2824.4020 - fn: 271.4902 - accuracy: 0.8867 - precision: 0.8651 - recall: 0.9160 - auc: 0.9429 - prc: 0.9291 - val_loss: 0.2715 - val_tp: 653.0000 - val_fp: 89.0000 - val_tn: 621.0000 - val_fn: 71.0000 - val_accuracy: 0.8884 - val_precision: 0.8801 - val_recall: 0.9019 - val_auc: 0.9511 - val_prc: 0.9224\n",
      "Epoch 72/100\n",
      "101/101 [==============================] - 0s 1ms/step - loss: 0.2963 - tp: 3007.1373 - fp: 467.2255 - tn: 2833.2255 - fn: 282.5882 - accuracy: 0.8857 - precision: 0.8660 - recall: 0.9129 - auc: 0.9438 - prc: 0.9302 - val_loss: 0.2719 - val_tp: 658.0000 - val_fp: 90.0000 - val_tn: 620.0000 - val_fn: 66.0000 - val_accuracy: 0.8912 - val_precision: 0.8797 - val_recall: 0.9088 - val_auc: 0.9510 - val_prc: 0.9229\n",
      "Epoch 73/100\n",
      "101/101 [==============================] - 0s 1ms/step - loss: 0.2923 - tp: 3049.9510 - fp: 477.7255 - tn: 2808.8627 - fn: 253.6373 - accuracy: 0.8889 - precision: 0.8637 - recall: 0.9239 - auc: 0.9461 - prc: 0.9324 - val_loss: 0.2706 - val_tp: 657.0000 - val_fp: 90.0000 - val_tn: 620.0000 - val_fn: 67.0000 - val_accuracy: 0.8905 - val_precision: 0.8795 - val_recall: 0.9075 - val_auc: 0.9513 - val_prc: 0.9227\n",
      "Epoch 74/100\n",
      "101/101 [==============================] - 0s 1ms/step - loss: 0.2967 - tp: 3006.0490 - fp: 480.9314 - tn: 2817.2157 - fn: 285.9804 - accuracy: 0.8838 - precision: 0.8612 - recall: 0.9147 - auc: 0.9452 - prc: 0.9328 - val_loss: 0.2712 - val_tp: 659.0000 - val_fp: 94.0000 - val_tn: 616.0000 - val_fn: 65.0000 - val_accuracy: 0.8891 - val_precision: 0.8752 - val_recall: 0.9102 - val_auc: 0.9512 - val_prc: 0.9236\n",
      "Epoch 75/100\n",
      "101/101 [==============================] - 0s 1ms/step - loss: 0.3032 - tp: 3035.5588 - fp: 484.2941 - tn: 2804.3725 - fn: 265.9510 - accuracy: 0.8843 - precision: 0.8595 - recall: 0.9192 - auc: 0.9426 - prc: 0.9266 - val_loss: 0.2702 - val_tp: 663.0000 - val_fp: 92.0000 - val_tn: 618.0000 - val_fn: 61.0000 - val_accuracy: 0.8933 - val_precision: 0.8781 - val_recall: 0.9157 - val_auc: 0.9514 - val_prc: 0.9234\n",
      "Epoch 76/100\n",
      "101/101 [==============================] - 0s 1ms/step - loss: 0.2905 - tp: 3023.2941 - fp: 467.0980 - tn: 2828.3725 - fn: 271.4118 - accuracy: 0.8890 - precision: 0.8668 - recall: 0.9195 - auc: 0.9462 - prc: 0.9342 - val_loss: 0.2704 - val_tp: 657.0000 - val_fp: 92.0000 - val_tn: 618.0000 - val_fn: 67.0000 - val_accuracy: 0.8891 - val_precision: 0.8772 - val_recall: 0.9075 - val_auc: 0.9514 - val_prc: 0.9228\n",
      "Epoch 77/100\n"
     ]
    },
    {
     "name": "stdout",
     "output_type": "stream",
     "text": [
      "101/101 [==============================] - 0s 1ms/step - loss: 0.2885 - tp: 3030.0784 - fp: 467.6863 - tn: 2828.6765 - fn: 263.7353 - accuracy: 0.8903 - precision: 0.8680 - recall: 0.9205 - auc: 0.9480 - prc: 0.9358 - val_loss: 0.2711 - val_tp: 660.0000 - val_fp: 92.0000 - val_tn: 618.0000 - val_fn: 64.0000 - val_accuracy: 0.8912 - val_precision: 0.8777 - val_recall: 0.9116 - val_auc: 0.9511 - val_prc: 0.9231\n",
      "Epoch 78/100\n",
      "101/101 [==============================] - 0s 1ms/step - loss: 0.2917 - tp: 3015.1961 - fp: 452.8824 - tn: 2842.7745 - fn: 279.3235 - accuracy: 0.8903 - precision: 0.8693 - recall: 0.9193 - auc: 0.9473 - prc: 0.9361 - val_loss: 0.2714 - val_tp: 661.0000 - val_fp: 94.0000 - val_tn: 616.0000 - val_fn: 63.0000 - val_accuracy: 0.8905 - val_precision: 0.8755 - val_recall: 0.9130 - val_auc: 0.9509 - val_prc: 0.9227\n",
      "Epoch 79/100\n",
      "101/101 [==============================] - 0s 1ms/step - loss: 0.2968 - tp: 3048.0882 - fp: 471.1471 - tn: 2815.7843 - fn: 255.1569 - accuracy: 0.8892 - precision: 0.8657 - recall: 0.9223 - auc: 0.9457 - prc: 0.9294 - val_loss: 0.2707 - val_tp: 665.0000 - val_fp: 94.0000 - val_tn: 616.0000 - val_fn: 59.0000 - val_accuracy: 0.8933 - val_precision: 0.8762 - val_recall: 0.9185 - val_auc: 0.9512 - val_prc: 0.9226\n",
      "Epoch 80/100\n",
      "101/101 [==============================] - 0s 1ms/step - loss: 0.3052 - tp: 2994.6961 - fp: 488.0000 - tn: 2830.4314 - fn: 277.0490 - accuracy: 0.8803 - precision: 0.8564 - recall: 0.9110 - auc: 0.9412 - prc: 0.9285 - val_loss: 0.2703 - val_tp: 664.0000 - val_fp: 97.0000 - val_tn: 613.0000 - val_fn: 60.0000 - val_accuracy: 0.8905 - val_precision: 0.8725 - val_recall: 0.9171 - val_auc: 0.9513 - val_prc: 0.9231\n",
      "Epoch 81/100\n",
      "101/101 [==============================] - 0s 1ms/step - loss: 0.2912 - tp: 3020.7843 - fp: 468.0000 - tn: 2840.6863 - fn: 260.7059 - accuracy: 0.8890 - precision: 0.8635 - recall: 0.9210 - auc: 0.9464 - prc: 0.9328 - val_loss: 0.2703 - val_tp: 658.0000 - val_fp: 90.0000 - val_tn: 620.0000 - val_fn: 66.0000 - val_accuracy: 0.8912 - val_precision: 0.8797 - val_recall: 0.9088 - val_auc: 0.9513 - val_prc: 0.9229\n",
      "Epoch 82/100\n",
      "101/101 [==============================] - 0s 1ms/step - loss: 0.3116 - tp: 2990.4804 - fp: 462.5392 - tn: 2841.1667 - fn: 295.9902 - accuracy: 0.8828 - precision: 0.8656 - recall: 0.9059 - auc: 0.9412 - prc: 0.9268 - val_loss: 0.2698 - val_tp: 660.0000 - val_fp: 92.0000 - val_tn: 618.0000 - val_fn: 64.0000 - val_accuracy: 0.8912 - val_precision: 0.8777 - val_recall: 0.9116 - val_auc: 0.9514 - val_prc: 0.9230\n",
      "Epoch 83/100\n",
      "101/101 [==============================] - 0s 1ms/step - loss: 0.2899 - tp: 3030.3431 - fp: 455.6961 - tn: 2838.5294 - fn: 265.6078 - accuracy: 0.8927 - precision: 0.8735 - recall: 0.9184 - auc: 0.9464 - prc: 0.9278 - val_loss: 0.2712 - val_tp: 654.0000 - val_fp: 89.0000 - val_tn: 621.0000 - val_fn: 70.0000 - val_accuracy: 0.8891 - val_precision: 0.8802 - val_recall: 0.9033 - val_auc: 0.9512 - val_prc: 0.9226\n",
      "Epoch 84/100\n",
      "101/101 [==============================] - 0s 1ms/step - loss: 0.2934 - tp: 3043.9902 - fp: 445.0882 - tn: 2826.7549 - fn: 274.3431 - accuracy: 0.8928 - precision: 0.8752 - recall: 0.9176 - auc: 0.9469 - prc: 0.9299 - val_loss: 0.2716 - val_tp: 656.0000 - val_fp: 90.0000 - val_tn: 620.0000 - val_fn: 68.0000 - val_accuracy: 0.8898 - val_precision: 0.8794 - val_recall: 0.9061 - val_auc: 0.9512 - val_prc: 0.9232\n",
      "Epoch 85/100\n",
      "101/101 [==============================] - 0s 1ms/step - loss: 0.2817 - tp: 3048.8529 - fp: 444.4020 - tn: 2824.2059 - fn: 272.7157 - accuracy: 0.8922 - precision: 0.8743 - recall: 0.9182 - auc: 0.9495 - prc: 0.9384 - val_loss: 0.2701 - val_tp: 656.0000 - val_fp: 89.0000 - val_tn: 621.0000 - val_fn: 68.0000 - val_accuracy: 0.8905 - val_precision: 0.8805 - val_recall: 0.9061 - val_auc: 0.9514 - val_prc: 0.9229\n",
      "Epoch 86/100\n",
      "101/101 [==============================] - 0s 1ms/step - loss: 0.2857 - tp: 3024.6078 - fp: 446.1667 - tn: 2848.4020 - fn: 271.0000 - accuracy: 0.8910 - precision: 0.8691 - recall: 0.9169 - auc: 0.9482 - prc: 0.9338 - val_loss: 0.2691 - val_tp: 660.0000 - val_fp: 91.0000 - val_tn: 619.0000 - val_fn: 64.0000 - val_accuracy: 0.8919 - val_precision: 0.8788 - val_recall: 0.9116 - val_auc: 0.9517 - val_prc: 0.9235\n",
      "Epoch 87/100\n",
      "101/101 [==============================] - 0s 1ms/step - loss: 0.2969 - tp: 3031.2255 - fp: 454.0588 - tn: 2820.3333 - fn: 284.5588 - accuracy: 0.8873 - precision: 0.8704 - recall: 0.9139 - auc: 0.9461 - prc: 0.9366 - val_loss: 0.2698 - val_tp: 666.0000 - val_fp: 93.0000 - val_tn: 617.0000 - val_fn: 58.0000 - val_accuracy: 0.8947 - val_precision: 0.8775 - val_recall: 0.9199 - val_auc: 0.9516 - val_prc: 0.9226\n",
      "Epoch 88/100\n",
      "101/101 [==============================] - 0s 1ms/step - loss: 0.2862 - tp: 3031.1569 - fp: 443.0392 - tn: 2847.0686 - fn: 268.9118 - accuracy: 0.8949 - precision: 0.8768 - recall: 0.9208 - auc: 0.9492 - prc: 0.9369 - val_loss: 0.2695 - val_tp: 660.0000 - val_fp: 91.0000 - val_tn: 619.0000 - val_fn: 64.0000 - val_accuracy: 0.8919 - val_precision: 0.8788 - val_recall: 0.9116 - val_auc: 0.9516 - val_prc: 0.9234\n",
      "Epoch 89/100\n",
      "101/101 [==============================] - 0s 1ms/step - loss: 0.2913 - tp: 3022.4608 - fp: 456.4118 - tn: 2831.5196 - fn: 279.7843 - accuracy: 0.8891 - precision: 0.8702 - recall: 0.9153 - auc: 0.9469 - prc: 0.9349 - val_loss: 0.2685 - val_tp: 667.0000 - val_fp: 92.0000 - val_tn: 618.0000 - val_fn: 57.0000 - val_accuracy: 0.8961 - val_precision: 0.8788 - val_recall: 0.9213 - val_auc: 0.9520 - val_prc: 0.9241\n",
      "Epoch 90/100\n",
      "101/101 [==============================] - 0s 1ms/step - loss: 0.2818 - tp: 3020.0294 - fp: 445.3627 - tn: 2855.7647 - fn: 269.0196 - accuracy: 0.8930 - precision: 0.8728 - recall: 0.9191 - auc: 0.9496 - prc: 0.9340 - val_loss: 0.2699 - val_tp: 663.0000 - val_fp: 89.0000 - val_tn: 621.0000 - val_fn: 61.0000 - val_accuracy: 0.8954 - val_precision: 0.8816 - val_recall: 0.9157 - val_auc: 0.9514 - val_prc: 0.9224\n",
      "Epoch 91/100\n",
      "101/101 [==============================] - 0s 1ms/step - loss: 0.2867 - tp: 3029.8824 - fp: 455.4608 - tn: 2839.2157 - fn: 265.6176 - accuracy: 0.8900 - precision: 0.8701 - recall: 0.9199 - auc: 0.9480 - prc: 0.9345 - val_loss: 0.2695 - val_tp: 659.0000 - val_fp: 90.0000 - val_tn: 620.0000 - val_fn: 65.0000 - val_accuracy: 0.8919 - val_precision: 0.8798 - val_recall: 0.9102 - val_auc: 0.9517 - val_prc: 0.9226\n",
      "Epoch 92/100\n",
      "101/101 [==============================] - 0s 1ms/step - loss: 0.2915 - tp: 2985.3922 - fp: 459.0392 - tn: 2858.3137 - fn: 287.4314 - accuracy: 0.8827 - precision: 0.8615 - recall: 0.9086 - auc: 0.9470 - prc: 0.9311 - val_loss: 0.2687 - val_tp: 664.0000 - val_fp: 92.0000 - val_tn: 618.0000 - val_fn: 60.0000 - val_accuracy: 0.8940 - val_precision: 0.8783 - val_recall: 0.9171 - val_auc: 0.9517 - val_prc: 0.9224\n",
      "Epoch 93/100\n",
      "101/101 [==============================] - 0s 1ms/step - loss: 0.2887 - tp: 3019.9804 - fp: 459.9412 - tn: 2853.9804 - fn: 256.2745 - accuracy: 0.8899 - precision: 0.8645 - recall: 0.9221 - auc: 0.9484 - prc: 0.9340 - val_loss: 0.2693 - val_tp: 662.0000 - val_fp: 89.0000 - val_tn: 621.0000 - val_fn: 62.0000 - val_accuracy: 0.8947 - val_precision: 0.8815 - val_recall: 0.9144 - val_auc: 0.9516 - val_prc: 0.9231\n",
      "Epoch 94/100\n",
      "101/101 [==============================] - 0s 1ms/step - loss: 0.3034 - tp: 3004.5098 - fp: 482.3627 - tn: 2824.0784 - fn: 279.2255 - accuracy: 0.8838 - precision: 0.8613 - recall: 0.9151 - auc: 0.9434 - prc: 0.9287 - val_loss: 0.2687 - val_tp: 666.0000 - val_fp: 93.0000 - val_tn: 617.0000 - val_fn: 58.0000 - val_accuracy: 0.8947 - val_precision: 0.8775 - val_recall: 0.9199 - val_auc: 0.9515 - val_prc: 0.9222\n",
      "Epoch 95/100\n",
      "101/101 [==============================] - 0s 1ms/step - loss: 0.2837 - tp: 3047.1569 - fp: 483.5588 - tn: 2801.2549 - fn: 258.2059 - accuracy: 0.8903 - precision: 0.8679 - recall: 0.9238 - auc: 0.9489 - prc: 0.9382 - val_loss: 0.2688 - val_tp: 663.0000 - val_fp: 89.0000 - val_tn: 621.0000 - val_fn: 61.0000 - val_accuracy: 0.8954 - val_precision: 0.8816 - val_recall: 0.9157 - val_auc: 0.9516 - val_prc: 0.9224\n",
      "Epoch 96/100\n"
     ]
    },
    {
     "name": "stdout",
     "output_type": "stream",
     "text": [
      "101/101 [==============================] - 0s 1ms/step - loss: 0.2812 - tp: 3034.4706 - fp: 442.4118 - tn: 2840.8333 - fn: 272.4608 - accuracy: 0.8920 - precision: 0.8742 - recall: 0.9170 - auc: 0.9494 - prc: 0.9364 - val_loss: 0.2686 - val_tp: 661.0000 - val_fp: 90.0000 - val_tn: 620.0000 - val_fn: 63.0000 - val_accuracy: 0.8933 - val_precision: 0.8802 - val_recall: 0.9130 - val_auc: 0.9518 - val_prc: 0.9225\n",
      "Epoch 97/100\n",
      "101/101 [==============================] - 0s 1ms/step - loss: 0.2937 - tp: 3009.6569 - fp: 476.1765 - tn: 2831.7549 - fn: 272.5882 - accuracy: 0.8855 - precision: 0.8630 - recall: 0.9162 - auc: 0.9452 - prc: 0.9333 - val_loss: 0.2682 - val_tp: 661.0000 - val_fp: 89.0000 - val_tn: 621.0000 - val_fn: 63.0000 - val_accuracy: 0.8940 - val_precision: 0.8813 - val_recall: 0.9130 - val_auc: 0.9521 - val_prc: 0.9231\n",
      "Epoch 98/100\n",
      "101/101 [==============================] - 0s 1ms/step - loss: 0.3007 - tp: 3007.4510 - fp: 453.4706 - tn: 2859.2549 - fn: 270.0000 - accuracy: 0.8884 - precision: 0.8673 - recall: 0.9155 - auc: 0.9435 - prc: 0.9221 - val_loss: 0.2685 - val_tp: 665.0000 - val_fp: 96.0000 - val_tn: 614.0000 - val_fn: 59.0000 - val_accuracy: 0.8919 - val_precision: 0.8739 - val_recall: 0.9185 - val_auc: 0.9519 - val_prc: 0.9232\n",
      "Epoch 99/100\n",
      "101/101 [==============================] - 0s 1ms/step - loss: 0.2850 - tp: 3044.6275 - fp: 452.7157 - tn: 2829.2843 - fn: 263.5490 - accuracy: 0.8934 - precision: 0.8725 - recall: 0.9222 - auc: 0.9482 - prc: 0.9332 - val_loss: 0.2679 - val_tp: 659.0000 - val_fp: 88.0000 - val_tn: 622.0000 - val_fn: 65.0000 - val_accuracy: 0.8933 - val_precision: 0.8822 - val_recall: 0.9102 - val_auc: 0.9520 - val_prc: 0.9239\n",
      "Epoch 100/100\n",
      "101/101 [==============================] - 0s 1ms/step - loss: 0.2972 - tp: 2999.6373 - fp: 441.3137 - tn: 2875.0294 - fn: 274.1961 - accuracy: 0.8900 - precision: 0.8710 - recall: 0.9128 - auc: 0.9464 - prc: 0.9284 - val_loss: 0.2674 - val_tp: 667.0000 - val_fp: 95.0000 - val_tn: 615.0000 - val_fn: 57.0000 - val_accuracy: 0.8940 - val_precision: 0.8753 - val_recall: 0.9213 - val_auc: 0.9521 - val_prc: 0.9238\n"
     ]
    }
   ],
   "source": [
    "model_history = Model.fit(xtrain, ytrain, batch_size= 128, epochs= 100, validation_split=.1)"
   ]
  },
  {
   "cell_type": "code",
   "execution_count": 136,
   "id": "b3d31f78",
   "metadata": {},
   "outputs": [],
   "source": [
    "dd = pd.DataFrame(model_history.history)"
   ]
  },
  {
   "cell_type": "code",
   "execution_count": null,
   "id": "fb38f2ec",
   "metadata": {},
   "outputs": [],
   "source": []
  },
  {
   "cell_type": "code",
   "execution_count": 137,
   "id": "8d5efb73",
   "metadata": {},
   "outputs": [
    {
     "data": {
      "text/html": [
       "<div>\n",
       "<style scoped>\n",
       "    .dataframe tbody tr th:only-of-type {\n",
       "        vertical-align: middle;\n",
       "    }\n",
       "\n",
       "    .dataframe tbody tr th {\n",
       "        vertical-align: top;\n",
       "    }\n",
       "\n",
       "    .dataframe thead th {\n",
       "        text-align: right;\n",
       "    }\n",
       "</style>\n",
       "<table border=\"1\" class=\"dataframe\">\n",
       "  <thead>\n",
       "    <tr style=\"text-align: right;\">\n",
       "      <th></th>\n",
       "      <th>loss</th>\n",
       "      <th>tp</th>\n",
       "      <th>fp</th>\n",
       "      <th>tn</th>\n",
       "      <th>fn</th>\n",
       "      <th>accuracy</th>\n",
       "      <th>precision</th>\n",
       "      <th>recall</th>\n",
       "      <th>auc</th>\n",
       "      <th>prc</th>\n",
       "      <th>val_loss</th>\n",
       "      <th>val_tp</th>\n",
       "      <th>val_fp</th>\n",
       "      <th>val_tn</th>\n",
       "      <th>val_fn</th>\n",
       "      <th>val_accuracy</th>\n",
       "      <th>val_precision</th>\n",
       "      <th>val_recall</th>\n",
       "      <th>val_auc</th>\n",
       "      <th>val_prc</th>\n",
       "    </tr>\n",
       "  </thead>\n",
       "  <tbody>\n",
       "    <tr>\n",
       "      <th>98</th>\n",
       "      <td>0.289239</td>\n",
       "      <td>5920.0</td>\n",
       "      <td>908.0</td>\n",
       "      <td>5546.0</td>\n",
       "      <td>525.0</td>\n",
       "      <td>0.888906</td>\n",
       "      <td>0.867018</td>\n",
       "      <td>0.918541</td>\n",
       "      <td>0.947093</td>\n",
       "      <td>0.932742</td>\n",
       "      <td>0.267856</td>\n",
       "      <td>659.0</td>\n",
       "      <td>88.0</td>\n",
       "      <td>622.0</td>\n",
       "      <td>65.0</td>\n",
       "      <td>0.893305</td>\n",
       "      <td>0.882195</td>\n",
       "      <td>0.910221</td>\n",
       "      <td>0.952025</td>\n",
       "      <td>0.923925</td>\n",
       "    </tr>\n",
       "    <tr>\n",
       "      <th>94</th>\n",
       "      <td>0.290610</td>\n",
       "      <td>5925.0</td>\n",
       "      <td>936.0</td>\n",
       "      <td>5518.0</td>\n",
       "      <td>520.0</td>\n",
       "      <td>0.887123</td>\n",
       "      <td>0.863577</td>\n",
       "      <td>0.919317</td>\n",
       "      <td>0.947246</td>\n",
       "      <td>0.933593</td>\n",
       "      <td>0.268846</td>\n",
       "      <td>663.0</td>\n",
       "      <td>89.0</td>\n",
       "      <td>621.0</td>\n",
       "      <td>61.0</td>\n",
       "      <td>0.895397</td>\n",
       "      <td>0.881649</td>\n",
       "      <td>0.915746</td>\n",
       "      <td>0.951577</td>\n",
       "      <td>0.922359</td>\n",
       "    </tr>\n",
       "    <tr>\n",
       "      <th>89</th>\n",
       "      <td>0.288225</td>\n",
       "      <td>5920.0</td>\n",
       "      <td>882.0</td>\n",
       "      <td>5572.0</td>\n",
       "      <td>525.0</td>\n",
       "      <td>0.890922</td>\n",
       "      <td>0.870332</td>\n",
       "      <td>0.918541</td>\n",
       "      <td>0.947566</td>\n",
       "      <td>0.932904</td>\n",
       "      <td>0.269889</td>\n",
       "      <td>663.0</td>\n",
       "      <td>89.0</td>\n",
       "      <td>621.0</td>\n",
       "      <td>61.0</td>\n",
       "      <td>0.895397</td>\n",
       "      <td>0.881649</td>\n",
       "      <td>0.915746</td>\n",
       "      <td>0.951439</td>\n",
       "      <td>0.922437</td>\n",
       "    </tr>\n",
       "    <tr>\n",
       "      <th>92</th>\n",
       "      <td>0.289421</td>\n",
       "      <td>5941.0</td>\n",
       "      <td>909.0</td>\n",
       "      <td>5545.0</td>\n",
       "      <td>504.0</td>\n",
       "      <td>0.890457</td>\n",
       "      <td>0.867299</td>\n",
       "      <td>0.921800</td>\n",
       "      <td>0.947737</td>\n",
       "      <td>0.934675</td>\n",
       "      <td>0.269326</td>\n",
       "      <td>662.0</td>\n",
       "      <td>89.0</td>\n",
       "      <td>621.0</td>\n",
       "      <td>62.0</td>\n",
       "      <td>0.894700</td>\n",
       "      <td>0.881491</td>\n",
       "      <td>0.914365</td>\n",
       "      <td>0.951607</td>\n",
       "      <td>0.923100</td>\n",
       "    </tr>\n",
       "    <tr>\n",
       "      <th>96</th>\n",
       "      <td>0.292183</td>\n",
       "      <td>5905.0</td>\n",
       "      <td>928.0</td>\n",
       "      <td>5526.0</td>\n",
       "      <td>540.0</td>\n",
       "      <td>0.886193</td>\n",
       "      <td>0.864188</td>\n",
       "      <td>0.916214</td>\n",
       "      <td>0.946385</td>\n",
       "      <td>0.934166</td>\n",
       "      <td>0.268196</td>\n",
       "      <td>661.0</td>\n",
       "      <td>89.0</td>\n",
       "      <td>621.0</td>\n",
       "      <td>63.0</td>\n",
       "      <td>0.894003</td>\n",
       "      <td>0.881333</td>\n",
       "      <td>0.912983</td>\n",
       "      <td>0.952058</td>\n",
       "      <td>0.923097</td>\n",
       "    </tr>\n",
       "    <tr>\n",
       "      <th>...</th>\n",
       "      <td>...</td>\n",
       "      <td>...</td>\n",
       "      <td>...</td>\n",
       "      <td>...</td>\n",
       "      <td>...</td>\n",
       "      <td>...</td>\n",
       "      <td>...</td>\n",
       "      <td>...</td>\n",
       "      <td>...</td>\n",
       "      <td>...</td>\n",
       "      <td>...</td>\n",
       "      <td>...</td>\n",
       "      <td>...</td>\n",
       "      <td>...</td>\n",
       "      <td>...</td>\n",
       "      <td>...</td>\n",
       "      <td>...</td>\n",
       "      <td>...</td>\n",
       "      <td>...</td>\n",
       "      <td>...</td>\n",
       "    </tr>\n",
       "    <tr>\n",
       "      <th>3</th>\n",
       "      <td>0.575502</td>\n",
       "      <td>4645.0</td>\n",
       "      <td>2041.0</td>\n",
       "      <td>4413.0</td>\n",
       "      <td>1800.0</td>\n",
       "      <td>0.702225</td>\n",
       "      <td>0.694735</td>\n",
       "      <td>0.720714</td>\n",
       "      <td>0.771750</td>\n",
       "      <td>0.743107</td>\n",
       "      <td>0.475369</td>\n",
       "      <td>611.0</td>\n",
       "      <td>154.0</td>\n",
       "      <td>556.0</td>\n",
       "      <td>113.0</td>\n",
       "      <td>0.813808</td>\n",
       "      <td>0.798693</td>\n",
       "      <td>0.843923</td>\n",
       "      <td>0.886535</td>\n",
       "      <td>0.852291</td>\n",
       "    </tr>\n",
       "    <tr>\n",
       "      <th>2</th>\n",
       "      <td>0.626475</td>\n",
       "      <td>4245.0</td>\n",
       "      <td>2279.0</td>\n",
       "      <td>4175.0</td>\n",
       "      <td>2200.0</td>\n",
       "      <td>0.652764</td>\n",
       "      <td>0.650674</td>\n",
       "      <td>0.658650</td>\n",
       "      <td>0.712845</td>\n",
       "      <td>0.686413</td>\n",
       "      <td>0.539302</td>\n",
       "      <td>593.0</td>\n",
       "      <td>158.0</td>\n",
       "      <td>552.0</td>\n",
       "      <td>131.0</td>\n",
       "      <td>0.798466</td>\n",
       "      <td>0.789614</td>\n",
       "      <td>0.819061</td>\n",
       "      <td>0.875638</td>\n",
       "      <td>0.837584</td>\n",
       "    </tr>\n",
       "    <tr>\n",
       "      <th>4</th>\n",
       "      <td>0.530623</td>\n",
       "      <td>5002.0</td>\n",
       "      <td>1852.0</td>\n",
       "      <td>4602.0</td>\n",
       "      <td>1443.0</td>\n",
       "      <td>0.744554</td>\n",
       "      <td>0.729793</td>\n",
       "      <td>0.776106</td>\n",
       "      <td>0.815061</td>\n",
       "      <td>0.784793</td>\n",
       "      <td>0.435455</td>\n",
       "      <td>637.0</td>\n",
       "      <td>176.0</td>\n",
       "      <td>534.0</td>\n",
       "      <td>87.0</td>\n",
       "      <td>0.816597</td>\n",
       "      <td>0.783518</td>\n",
       "      <td>0.879834</td>\n",
       "      <td>0.893225</td>\n",
       "      <td>0.860896</td>\n",
       "    </tr>\n",
       "    <tr>\n",
       "      <th>1</th>\n",
       "      <td>0.669929</td>\n",
       "      <td>3530.0</td>\n",
       "      <td>2481.0</td>\n",
       "      <td>3973.0</td>\n",
       "      <td>2915.0</td>\n",
       "      <td>0.581673</td>\n",
       "      <td>0.587257</td>\n",
       "      <td>0.547711</td>\n",
       "      <td>0.621636</td>\n",
       "      <td>0.589949</td>\n",
       "      <td>0.618197</td>\n",
       "      <td>502.0</td>\n",
       "      <td>146.0</td>\n",
       "      <td>564.0</td>\n",
       "      <td>222.0</td>\n",
       "      <td>0.743375</td>\n",
       "      <td>0.774691</td>\n",
       "      <td>0.693370</td>\n",
       "      <td>0.854476</td>\n",
       "      <td>0.819949</td>\n",
       "    </tr>\n",
       "    <tr>\n",
       "      <th>0</th>\n",
       "      <td>0.708685</td>\n",
       "      <td>3163.0</td>\n",
       "      <td>2938.0</td>\n",
       "      <td>3516.0</td>\n",
       "      <td>3282.0</td>\n",
       "      <td>0.517792</td>\n",
       "      <td>0.518440</td>\n",
       "      <td>0.490768</td>\n",
       "      <td>0.527449</td>\n",
       "      <td>0.513663</td>\n",
       "      <td>0.665496</td>\n",
       "      <td>472.0</td>\n",
       "      <td>165.0</td>\n",
       "      <td>545.0</td>\n",
       "      <td>252.0</td>\n",
       "      <td>0.709205</td>\n",
       "      <td>0.740973</td>\n",
       "      <td>0.651934</td>\n",
       "      <td>0.770203</td>\n",
       "      <td>0.725934</td>\n",
       "    </tr>\n",
       "  </tbody>\n",
       "</table>\n",
       "<p>100 rows × 20 columns</p>\n",
       "</div>"
      ],
      "text/plain": [
       "        loss      tp      fp      tn      fn  accuracy  precision    recall  \\\n",
       "98  0.289239  5920.0   908.0  5546.0   525.0  0.888906   0.867018  0.918541   \n",
       "94  0.290610  5925.0   936.0  5518.0   520.0  0.887123   0.863577  0.919317   \n",
       "89  0.288225  5920.0   882.0  5572.0   525.0  0.890922   0.870332  0.918541   \n",
       "92  0.289421  5941.0   909.0  5545.0   504.0  0.890457   0.867299  0.921800   \n",
       "96  0.292183  5905.0   928.0  5526.0   540.0  0.886193   0.864188  0.916214   \n",
       "..       ...     ...     ...     ...     ...       ...        ...       ...   \n",
       "3   0.575502  4645.0  2041.0  4413.0  1800.0  0.702225   0.694735  0.720714   \n",
       "2   0.626475  4245.0  2279.0  4175.0  2200.0  0.652764   0.650674  0.658650   \n",
       "4   0.530623  5002.0  1852.0  4602.0  1443.0  0.744554   0.729793  0.776106   \n",
       "1   0.669929  3530.0  2481.0  3973.0  2915.0  0.581673   0.587257  0.547711   \n",
       "0   0.708685  3163.0  2938.0  3516.0  3282.0  0.517792   0.518440  0.490768   \n",
       "\n",
       "         auc       prc  val_loss  val_tp  val_fp  val_tn  val_fn  \\\n",
       "98  0.947093  0.932742  0.267856   659.0    88.0   622.0    65.0   \n",
       "94  0.947246  0.933593  0.268846   663.0    89.0   621.0    61.0   \n",
       "89  0.947566  0.932904  0.269889   663.0    89.0   621.0    61.0   \n",
       "92  0.947737  0.934675  0.269326   662.0    89.0   621.0    62.0   \n",
       "96  0.946385  0.934166  0.268196   661.0    89.0   621.0    63.0   \n",
       "..       ...       ...       ...     ...     ...     ...     ...   \n",
       "3   0.771750  0.743107  0.475369   611.0   154.0   556.0   113.0   \n",
       "2   0.712845  0.686413  0.539302   593.0   158.0   552.0   131.0   \n",
       "4   0.815061  0.784793  0.435455   637.0   176.0   534.0    87.0   \n",
       "1   0.621636  0.589949  0.618197   502.0   146.0   564.0   222.0   \n",
       "0   0.527449  0.513663  0.665496   472.0   165.0   545.0   252.0   \n",
       "\n",
       "    val_accuracy  val_precision  val_recall   val_auc   val_prc  \n",
       "98      0.893305       0.882195    0.910221  0.952025  0.923925  \n",
       "94      0.895397       0.881649    0.915746  0.951577  0.922359  \n",
       "89      0.895397       0.881649    0.915746  0.951439  0.922437  \n",
       "92      0.894700       0.881491    0.914365  0.951607  0.923100  \n",
       "96      0.894003       0.881333    0.912983  0.952058  0.923097  \n",
       "..           ...            ...         ...       ...       ...  \n",
       "3       0.813808       0.798693    0.843923  0.886535  0.852291  \n",
       "2       0.798466       0.789614    0.819061  0.875638  0.837584  \n",
       "4       0.816597       0.783518    0.879834  0.893225  0.860896  \n",
       "1       0.743375       0.774691    0.693370  0.854476  0.819949  \n",
       "0       0.709205       0.740973    0.651934  0.770203  0.725934  \n",
       "\n",
       "[100 rows x 20 columns]"
      ]
     },
     "execution_count": 137,
     "metadata": {},
     "output_type": "execute_result"
    }
   ],
   "source": [
    "dd.sort_values('val_precision', ascending=False)"
   ]
  },
  {
   "cell_type": "code",
   "execution_count": 142,
   "id": "844d8e56",
   "metadata": {},
   "outputs": [],
   "source": [
    "# for i in dd.columns:\n",
    "    \n",
    "#     plt.plot(dd[i], label = i)\n",
    "#     plt.legend()\n"
   ]
  },
  {
   "cell_type": "code",
   "execution_count": 143,
   "id": "ff70f7ed",
   "metadata": {},
   "outputs": [],
   "source": [
    "to_plot = ['loss','accuracy','precision','recall', 'auc','prc']"
   ]
  },
  {
   "cell_type": "code",
   "execution_count": 149,
   "id": "d96d4deb",
   "metadata": {
    "scrolled": true
   },
   "outputs": [
    {
     "data": {
      "image/png": "[encoded data removed]",
      "text/plain": [
       "<Figure size 1080x720 with 1 Axes>"
      ]
     },
     "metadata": {
      "needs_background": "light"
     },
     "output_type": "display_data"
    }
   ],
   "source": [
    "plt.figure(figsize=(15,10))\n",
    "plt.grid()\n",
    "\n",
    "for i in to_plot:\n",
    "    plt.plot(dd[i], label = i)\n",
    "    plt.grid()\n",
    "    plt.legend()\n"
   ]
  },
  {
   "cell_type": "code",
   "execution_count": 154,
   "id": "bac20b05",
   "metadata": {},
   "outputs": [
    {
     "data": {
      "text/plain": [
       "loss                0.289861\n",
       "tp               5918.000000\n",
       "fp                851.000000\n",
       "tn               5603.000000\n",
       "fn                527.000000\n",
       "accuracy            0.893170\n",
       "precision           0.874280\n",
       "recall              0.918231\n",
       "auc                 0.947891\n",
       "prc                 0.933923\n",
       "val_loss            0.267418\n",
       "val_tp            667.000000\n",
       "val_fp             95.000000\n",
       "val_tn            615.000000\n",
       "val_fn             57.000000\n",
       "val_accuracy        0.894003\n",
       "val_precision       0.875328\n",
       "val_recall          0.921271\n",
       "val_auc             0.952057\n",
       "val_prc             0.923839\n",
       "Name: 99, dtype: float64"
      ]
     },
     "execution_count": 154,
     "metadata": {},
     "output_type": "execute_result"
    }
   ],
   "source": [
    "dd.iloc[99]"
   ]
  },
  {
   "cell_type": "code",
   "execution_count": 139,
   "id": "491dbfad",
   "metadata": {},
   "outputs": [],
   "source": [
    "from sklearn.metrics import ConfusionMatrixDisplay, confusion_matrix"
   ]
  },
  {
   "cell_type": "code",
   "execution_count": 140,
   "id": "f351afc1",
   "metadata": {},
   "outputs": [],
   "source": [
    "ypred = Model.predict(xtest)\n",
    "ypred = np.around(ypred)\n",
    "cm = confusion_matrix(ytest,ypred)\n"
   ]
  },
  {
   "cell_type": "code",
   "execution_count": 141,
   "id": "5daa6b40",
   "metadata": {},
   "outputs": [
    {
     "data": {
      "text/plain": [
       "<AxesSubplot:>"
      ]
     },
     "execution_count": 141,
     "metadata": {},
     "output_type": "execute_result"
    },
    {
     "data": {
      "image/png": "[encoded data removed]",
      "text/plain": [
       "<Figure size 432x288 with 2 Axes>"
      ]
     },
     "metadata": {
      "needs_background": "light"
     },
     "output_type": "display_data"
    }
   ],
   "source": [
    "sns.heatmap(cm, annot=True, fmt = 'g',cmap = 'summer')"
   ]
  },
  {
   "cell_type": "code",
   "execution_count": null,
   "id": "0003e805",
   "metadata": {},
   "outputs": [],
   "source": []
  },
  {
   "cell_type": "code",
   "execution_count": null,
   "id": "3653c19c",
   "metadata": {},
   "outputs": [],
   "source": []
  }
 ],
 "metadata": {
  "kernelspec": {
   "display_name": "tf",
   "language": "python",
   "name": "tf"
  },
  "language_info": {
   "codemirror_mode": {
    "name": "ipython",
    "version": 3
   },
   "file_extension": ".py",
   "mimetype": "text/x-python",
   "name": "python",
   "nbconvert_exporter": "python",
   "pygments_lexer": "ipython3",
   "version": "3.9.12"
  }
 },
 "nbformat": 4,
 "nbformat_minor": 5
}
